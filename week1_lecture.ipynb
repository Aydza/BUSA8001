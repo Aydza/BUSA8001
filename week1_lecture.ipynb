{
 "cells": [
  {
   "cell_type": "markdown",
   "metadata": {},
   "source": [
    "---\n",
    "\n",
    "# Week 1 Lecture - Introduction {-}\n",
    "\n",
    "\n",
    "### Unit Convenor & Lecturer {-}\n",
    "[George Milunovich](https://www.georgemilunovich.com)  \n",
    "[george.milunovich@mq.edu.au](mailto:george.milunovich@mq.edu.au)\n",
    "\n",
    "\n",
    "### References  {-}\n",
    "\n",
    "1. Python Machine Learning 3rd Edition by Raschka & Mirjalili - Chapter 1\n",
    "    - Macquarie University Libarary Link: [https://learning.oreilly.com/library/view/python-machine-learning/9781789955750/?ar](https://learning.oreilly.com/library/view/python-machine-learning/9781789955750/?ar)\n",
    "    - Sign in with your university email address\n",
    "2. Various open-source material\n",
    "\n"
   ]
  },
  {
   "cell_type": "markdown",
   "metadata": {},
   "source": [
    "### Learning Objectives  {-}\n",
    "\n",
    "1. Installing and Running Python\n",
    "2. Learning How to open and read Jupyter Notebooks (.ipynb) with JupyterLab\n",
    "3. Datasets Used & Basic Terminology\n",
    "4. Running Python Code in Jupyter Notebooks\n",
    "5. Mathematical Notation Used in Machine Learning\n",
    "6. Explanatory vs. Predictive Models\n",
    "7. Different Types of Machine Learning\n",
    "    - Supervised Learning\n",
    "    - Unsupervised Learning\n",
    "    - Reinforcement Learning"
   ]
  },
  {
   "cell_type": "markdown",
   "metadata": {},
   "source": [
    "---\n",
    "\n",
    "## Installing and Running Python  {-}\n"
   ]
  },
  {
   "cell_type": "markdown",
   "metadata": {},
   "source": [
    "### Installing Python  {-}\n",
    "\n",
    "We will use Anaconda distribution of Python.\n",
    "- Go to Anaconda website [https://www.anaconda.com/products/individual](https://www.anaconda.com/products/individual)\n",
    "- Scroll down to the bottom of the page until you see \"Anaconda Installers\" as in the pic below\n",
    "\n",
    "\n",
    "<img src=\"images/pic1.png\" alt=\"Drawing\" style=\"width: 450px;\"></img>\n",
    "\n",
    "<!-- ![](images/pic1.png) -->\n",
    "\n",
    "- Choose an installer for your OS, Python 3.11 (or higher) and 64-Bit Installer\n",
    "- Click on the saved installer and install to your machine\n",
    "- Done!\n",
    "\n",
    "\n",
    "- If unable to install see: \n",
    "    - Step-by-step instructions [https://docs.anaconda.com/anaconda/navigator/](https://docs.anaconda.com/anaconda/navigator/)\n",
    "    \n"
   ]
  },
  {
   "cell_type": "markdown",
   "metadata": {},
   "source": [
    "### Running Python {-}\n",
    "- If on Windows, click Start and type Anaconda\n",
    "    - If using other type of OS follow similar instructions\n",
    "- Click on Anaconda Navigator as in pic below\n",
    "\n",
    "<img src=\"images/pic2.png\" alt=\"Drawing\" style=\"width: 450px;\"/>\n",
    "\n",
    "<!-- ![](images/pic2.png) -->"
   ]
  },
  {
   "cell_type": "markdown",
   "metadata": {},
   "source": [
    "- Anaconda Navigator will open\n",
    "- Click on \"Launch\" below **JupyterLab** package\n",
    "\n",
    "<!-- ![image.png](images/pic3.png) -->\n",
    "<img src=\"images/pic3.png\" alt=\"Drawing\" style=\"width: 450px;\"/>\n",
    "\n",
    "<!-- ![](images/pic3.png) -->\n"
   ]
  },
  {
   "attachments": {},
   "cell_type": "markdown",
   "metadata": {},
   "source": [
    "- Download Lecture Notes for Week 1 (week1.zip) from iLearn\n",
    "- In \"File Browser\" navigation panel on the LHS in JupyterLab navigate to the directory where you saved and extracted the lecture notes\n",
    "\n",
    "<img src=\"images/pic4.png\" alt=\"Drawing\" style=\"width: 400px;\"/>\n",
    "\n",
    "<br>\n",
    "\n",
    "- Select week1_lecture.ipynb to open Jupyter file for this Week 1 \n",
    "- We can now proceed with the lecture\n",
    "\n",
    "---\n",
    "---\n",
    "\n",
    "<br>"
   ]
  },
  {
   "cell_type": "markdown",
   "metadata": {},
   "source": [
    "## Predictive Analytics vs. Explanatory Statistical Modeling {-}\n",
    "\n",
    "Many students and practitioners confuse **Explanatory Statistical Models** and **Predictive Models**.\n",
    "Listed below are some key differences.\n",
    "\n",
    "\n",
    "<hr style=\"width:25%;margin-left:0;\"> \n",
    "\n",
    "- **Explanatory Statistical Modeling**\n",
    "    1. Explanatory Models - models that are built for the purpose of **testing causal hypotheses** that specify how and why certain empirical phenomena occur\n",
    "        - Explanatory statistical models are based on underlying **causal** relationships between **theoretical** constructs\n",
    "        - Focus: Knowing what happens to $y$ when we change $x$ \n",
    "    3. Causal theoretical model -> A set of hypotheses -> Test using statistical models and statistical inference \n",
    "    4. Methods for evaluating the **explanatory power** of a model are statistical tests or measures such as **$R^2$**, which indicate the strength of the relationship between $y$ and $x$ \n",
    "    5. It is often assumed that *predictive power* follows automatically from the explanatory model \n",
    "        - However, **explanatory power does not imply predictive power** \n",
    "    6. A statistically significant effect or relationship does not guarantee high predictive power \n",
    "        - Because **the magnitude of the causal effect might not be sufficient for obtaining levels of predictive accuracy** that are practically meaningful\n",
    "    7. Example: predict whether it will rain today: $P(\\text{rain}) = \\frac{1}{1 + e^{-(\\beta_0 + \\beta_1\\text{Temperature} + \\beta_2 \\text{Humidity} + \\beta_3 \\text{Pressure} + \\beta_4\\text{WindSpeed} + \\beta_5\\text{CloudCover} + \\text{other relevant variables})}}$\n",
    "\n",
    "\n",
    "<hr style=\"width:25%;margin-left:0;\"> \n",
    "\n",
    "- **Predictive Modeling** (predictive accuracy)\n",
    "    1. Predictive models are statistical models which have the ability to generate accurate predictions of **new** observations\n",
    "        - Focus: Accuracy of prediction - knowing $y$ for a given $x$\n",
    "        - New observations can be defined temporally (i.e., observations in a future time period) or cross-sectionally (i.e., observations that were not included in the original sample used to build the model)\n",
    "    3. Predictive models integrate **knowledge from existing theoretical models in a less formal way** \n",
    "        - Such models rely on *associations* between measurable variable\n",
    "    4. **Statistical significance plays a smaller role** in assessing predictive performance.\n",
    "       - Sometimes removing predictors with small coefficients, even if they are statistically significant (and theoretically justified), results in improved prediction accuracy\n",
    "    5. Assessment Methods for evaluating the accuracy of those predictions in practice, e.g. RMSE\n",
    "    6. Example: predict whether it will rain today $P(\\text{rain}) = \\frac{1}{1 + e^{-(\\beta_0 + \\beta_1\\text{People Carry Umbrellas})}}$\n",
    "\n",
    "           \n",
    "<hr style=\"width:25%;margin-left:0;\"> \n",
    "\n",
    "---"
   ]
  },
  {
   "cell_type": "markdown",
   "metadata": {},
   "source": [
    "\n",
    "\n",
    "## Machine Learning/Predictive Analytics - Introduction  {-}\n",
    "\n",
    "**Machine learning (ML)** is the study of computer algorithms that improve through experience \n",
    "\n",
    "- Machine learning algorithms build a mathematical model based on **sample data**, also known as **training data**\n",
    "- We make predictions about new observations called **out-of-sample data** or **test data**  \n",
    "- Machine learning algorithms are used in a wide variety of applications, for example:  \n",
    "    - Predicting demand quantities for a product\n",
    "    - Forecasting house prices\n",
    "    - Text and voice recognition   \n",
    "    - Computer vision  \n",
    "    - Medical application, such as detecting skin cancer   \n",
    "\n",
    "\n",
    "References: [https://en.wikipedia.org/wiki/Machine_learning](https://en.wikipedia.org/wiki/Machine_learning)\n",
    "\n",
    "---"
   ]
  },
  {
   "cell_type": "markdown",
   "metadata": {},
   "source": [
    "## Some Basic Terminology, Datasets and Notation {-}\n"
   ]
  },
  {
   "cell_type": "markdown",
   "metadata": {},
   "source": [
    "### Introduction to datasets we will use {-}\n",
    "\n",
    "We will use a number of different datasets in this unit, including the following:    \n",
    "\n",
    "1. The famous Iris dataset - [https://archive.ics.uci.edu/ml/datasets/iris](https://archive.ics.uci.edu/ml/datasets/iris)    \n",
    "2. Credit card default payments - [https://archive.ics.uci.edu/ml/datasets/default+of+credit+card+clients](https://archive.ics.uci.edu/ml/datasets/default+of+credit+card+clients)    \n",
    "3. House prices in Iowa (US) - will need to register for Kaggle (free) [https://www.kaggle.com/c/house-prices-advanced-regression-techniques](https://www.kaggle.com/c/house-prices-advanced-regression-techniques)    \n",
    "\n",
    "Our data is typically organised in tables (dataframes) where   \n",
    "- Columns represent features - also known as variables, attributes, measurements   \n",
    "- Rows represent individual observations - also known as instances or examples   \n"
   ]
  },
  {
   "cell_type": "code",
   "execution_count": null,
   "metadata": {},
   "outputs": [],
   "source": []
  },
  {
   "cell_type": "markdown",
   "metadata": {},
   "source": [
    "### Iris Dataset {-}\n",
    "\n",
    "This is perhaps the best known database to be found in the pattern recognition literature. \n",
    "\n",
    " \n",
    "Lets have a quick look at the Iris dataset in Python:\n",
    "\n",
    "\n",
    "```\n",
    "# !pip install xlwt  # if required\n",
    "```\n",
    "\n",
    "\n",
    "```\n",
    "# python comments are made using the hash \"#\" symbol\n",
    "# python code to read Iris data from the internet\n",
    "# original data file has no column names so we assign them ourelves\n",
    "\n",
    "import pandas as pd  # import pandas library \n",
    "column_names = ['Sepal Length', 'Sepal Width', 'Petal Length', 'Petal Width', 'Class Label']  # define column names\n",
    "\n",
    "df = pd.read_csv('https://archive.ics.uci.edu/ml/machine-learning-databases/iris/iris.data', names = column_names) # read data from URL\n",
    "\n",
    "df\n",
    "```\n",
    "\n",
    "Next, we are going to save the file in the `data` folder for later use\n",
    "\n",
    "```\n",
    "df.to_excel('data/iris.xlsx')  # save for later use\n",
    "```"
   ]
  },
  {
   "cell_type": "code",
   "execution_count": 3,
   "metadata": {},
   "outputs": [
    {
     "name": "stdout",
     "output_type": "stream",
     "text": [
      "Collecting xlwt"
     ]
    },
    {
     "name": "stderr",
     "output_type": "stream",
     "text": [
      "\n",
      "[notice] A new release of pip is available: 23.1.1 -> 24.1.2\n",
      "[notice] To update, run: C:\\Users\\LENOVO\\AppData\\Local\\Microsoft\\WindowsApps\\PythonSoftwareFoundation.Python.3.10_qbz5n2kfra8p0\\python.exe -m pip install --upgrade pip\n"
     ]
    },
    {
     "name": "stdout",
     "output_type": "stream",
     "text": [
      "\n",
      "  Downloading xlwt-1.3.0-py2.py3-none-any.whl (99 kB)\n",
      "                                              0.0/100.0 kB ? eta -:--:--\n",
      "     -------------------------------------- 100.0/100.0 kB 5.6 MB/s eta 0:00:00\n",
      "Installing collected packages: xlwt\n",
      "Successfully installed xlwt-1.3.0\n"
     ]
    }
   ],
   "source": [
    "!pip install xlwt"
   ]
  },
  {
   "cell_type": "code",
   "execution_count": 8,
   "metadata": {},
   "outputs": [
    {
     "name": "stdout",
     "output_type": "stream",
     "text": [
      "Collecting openpyxl"
     ]
    },
    {
     "name": "stderr",
     "output_type": "stream",
     "text": [
      "\n",
      "[notice] A new release of pip is available: 23.1.1 -> 24.1.2\n",
      "[notice] To update, run: C:\\Users\\LENOVO\\AppData\\Local\\Microsoft\\WindowsApps\\PythonSoftwareFoundation.Python.3.10_qbz5n2kfra8p0\\python.exe -m pip install --upgrade pip\n"
     ]
    },
    {
     "name": "stdout",
     "output_type": "stream",
     "text": [
      "\n",
      "  Downloading openpyxl-3.1.5-py2.py3-none-any.whl (250 kB)\n",
      "                                              0.0/250.9 kB ? eta -:--:--\n",
      "     -------------------------------------- 250.9/250.9 kB 5.2 MB/s eta 0:00:00\n",
      "Collecting et-xmlfile (from openpyxl)\n",
      "  Downloading et_xmlfile-1.1.0-py3-none-any.whl (4.7 kB)\n",
      "Installing collected packages: et-xmlfile, openpyxl\n",
      "Successfully installed et-xmlfile-1.1.0 openpyxl-3.1.5\n"
     ]
    }
   ],
   "source": [
    "!pip install openpyxl"
   ]
  },
  {
   "cell_type": "code",
   "execution_count": 9,
   "metadata": {},
   "outputs": [],
   "source": [
    "# python comments are made using the hash \"#\" symbol\n",
    "# python code to read Iris data from the internet\n",
    "# original data file has no column names so we assign them ourelves\n",
    "\n",
    "import pandas as pd  # import pandas library \n",
    "column_names = ['Sepal Length', 'Sepal Width', 'Petal Length', 'Petal Width', 'Class Label']  # define column names\n",
    "\n",
    "df = pd.read_csv('https://archive.ics.uci.edu/ml/machine-learning-databases/iris/iris.data', names = column_names) # read data from URL\n",
    "\n",
    "df"
   ]
  },
  {
   "cell_type": "code",
   "execution_count": null,
   "metadata": {},
   "outputs": [],
   "source": [
    "df.to_excel('data/iris.xlsx')  # save for later use"
   ]
  },
  {
   "cell_type": "code",
   "execution_count": null,
   "metadata": {},
   "outputs": [],
   "source": []
  },
  {
   "cell_type": "code",
   "execution_count": null,
   "metadata": {},
   "outputs": [],
   "source": []
  },
  {
   "cell_type": "code",
   "execution_count": null,
   "metadata": {
    "scrolled": true
   },
   "outputs": [],
   "source": []
  },
  {
   "cell_type": "code",
   "execution_count": null,
   "metadata": {},
   "outputs": [],
   "source": []
  },
  {
   "cell_type": "code",
   "execution_count": null,
   "metadata": {},
   "outputs": [],
   "source": []
  },
  {
   "cell_type": "code",
   "execution_count": null,
   "metadata": {},
   "outputs": [],
   "source": []
  },
  {
   "cell_type": "markdown",
   "metadata": {},
   "source": [
    "**Python Counting**  \n",
    "As we can see from the above printout, Python starts counting at 0.  \n",
    "\n",
    "- So we have 150 examples (observations) across rows 0 to 149 and 5 variables across columns 0 to 4, containing 4 features (explanatory variables) as well as the target variable in the last column.   \n",
    "\n",
    "\n",
    "**Feature Information:**  \n",
    "\n",
    "1. Sepal Length in cm\n",
    "2. Sepal Width in cm\n",
    "3. Petal Length in cm\n",
    "4. Petal Width in cm\n",
    "5. Class:\n",
    "    - Iris Setosa\n",
    "    - Iris Versicolour\n",
    "    - Iris Virginica\n",
    "    \n",
    "Predicted attribute: class of iris plant.  \n",
    "\n",
    "So the objective is to predict Iris class given the set of features: Sepal Length, Sepal Width, Petal Length and Petal Width.   \n",
    "\n",
    "### Some Terminology {-}\n",
    "\n",
    "Machine learning is a branch of computer science and has its own terminology, which may be unfamiliar to students with statistics/econometrics backgrounds.\n",
    "\n",
    "- **Feature $(x)$** = Predictor = Input = Independent Variable = Explanatory Variable = a column in the data matrix $\\mathbf{X}$\n",
    "- **Target $(y)$** = **Label** (in classification) = Output = Dependent Variable = Response Variable\n",
    "- **Example** = Observation from a sample, i.e. a sample is a collection of examples\n",
    "- **Training** = Model fitting, for parameteric models like linear regression this refers to parameter estimation\n",
    "\n",
    "Therefore a **labeled dataset** is a dataset which contains data on the label/target $(\\mathbf{y})$, i.e. Dependent Variable.\n",
    "\n",
    "Examples:\n",
    "\n",
    "1. Predict whether a product will sell or not, i.e. target or dependent variable takes values True (1) of False (0), on the basis of Features or Predictors such as Price, Color, Country of Production, etc.\n",
    "\n",
    "2. Predict the price of house, target numeric value e.g. Price = $500k, given a set of features (predictors) such as Number of Bedrooms, Size, Suburb, etc. \n"
   ]
  },
  {
   "cell_type": "code",
   "execution_count": null,
   "metadata": {},
   "outputs": [],
   "source": []
  },
  {
   "cell_type": "markdown",
   "metadata": {},
   "source": [
    "---\n",
    "\n",
    "## Mathematical Notation {-}\n",
    "\n",
    "In contrast to Python, our mathematical notation starts at 1, e.g. rows 1 - 150 (instead 0 to 149 as in Python). \n",
    "- *We must keep this in mind all the time.*\n",
    "\n",
    "So our features will be stored in a $(150\\times4)$ matrix $\\mathbf{X}\\in \\mathbb{R}^{150\\times4}$  \n",
    "<br>\n",
    "\n",
    "$\\mathbf{X}=\n",
    "\\left(\\begin{array}{cccc} \n",
    "x_1^{(1)} & x_2^{(1)} & x_3^{(1)} & x_4^{(1)}\\\\\n",
    "x_1^{(2)} & x_2^{(2)} & x_3^{(2)} & x_4^{(2)}\\\\\n",
    "\\vdots & \\vdots & \\vdots & \\vdots\\\\\n",
    "x_1^{(150)} & x_2^{(150)} & x_3^{(150)} & x_4^{(150)}\n",
    "\\end{array}\\right)$\n",
    "\n",
    "<br>\n",
    "A typical element is $x_m^{(n)}$, where the subscript $m=1\\dots4$ represents columns and the superscript $n=1\\dots150$ represents rows.   \n",
    "\n",
    "- For instance, $x_2^{(4)}=3.1$ - Sepal Width, observation 4.\n",
    "\n",
    "<br><br>\n",
    "We can also represent columns of $\\mathbf{X}$ as column vectors. For instance, column 2 which contains Sepal Width can be written as $\\mathbf{x_2}=\\left(\\begin{array}{c} \n",
    "x_2^{(1)}\\\\\n",
    "x_2^{(2)}\\\\\n",
    "\\vdots\\\\\n",
    "x_2^{(150)}\n",
    "\\end{array}\\right)=\\left(\\begin{array}{c} \n",
    "3.5\\\\\n",
    "3.0\\\\\n",
    "\\vdots\\\\\n",
    "3.0\n",
    "\\end{array}\\right)$.\n",
    "\n",
    "<br><br>\n",
    "Similarly, rows of $\\mathbf{X}$ are row vectors. Row 3, for example, becomes $\\mathbf{x^{(3)}}=\\left(\\begin{array}{cccc}\n",
    "x_1^{(3)} & x_2^{(3)} & x_3^{(3)} & x_4^{(3)}\n",
    "\\end{array}\\right)=\\left(\\begin{array}{cccc} \n",
    "4.7 & 3.2 & 1.3 & 0.2\n",
    "\\end{array}\\right)$.\n",
    "\n",
    "<br><br>\n",
    "Lastly, we store target variables (class labels) in a column vector $y=\\left(\\begin{array}{c} \n",
    "y^{(1)}\\\\\n",
    "y^{(2)}\\\\\n",
    "\\vdots\\\\\n",
    "y^{(150)}\n",
    "\\end{array}\\right)=\\left(\\begin{array}{c} \n",
    "\\textrm{Iris-setosa}\\\\\n",
    "\\textrm{Iris-setosa}\\\\\n",
    "\\vdots\\\\\n",
    "\\textrm{Iris-virginica}\n",
    "\\end{array}\\right)$.   \n",
    "\n",
    "\n"
   ]
  },
  {
   "cell_type": "markdown",
   "metadata": {},
   "source": [
    "---"
   ]
  },
  {
   "cell_type": "markdown",
   "metadata": {},
   "source": [
    "## Introduction to Different Types of Machine Learning {-}\n",
    "\n",
    "Broadly, there are three distinct types of machine learning:    \n",
    "\n",
    "1. Supervised Learning    \n",
    "2. Unsupervised Learning    \n",
    "3. Reinforecement Learning    \n",
    "\n",
    "<img src=\"images/pic5.png\" alt=\"Drawing\" style=\"width: 450px;\"/>\n",
    "\n",
    "<!-- ![](images/pic5.png) -->\n",
    "\n"
   ]
  },
  {
   "cell_type": "markdown",
   "metadata": {},
   "source": [
    "---\n",
    "\n",
    "## Supervised Learning {-}\n",
    "\n",
    "### Making Predictions with Supervised Learning {-}\n",
    "\n",
    "Goal of Supervised Learning: learn a model from labeled training data that allows us to make predictions about unseen or future data.    \n",
    "\n",
    "- **Supervised** means that we have a set of training data for which labels (values of dependent variable) are known.   \n",
    "\n",
    "<img src=\"images/pic6.png\" alt=\"Drawing\" style=\"width: 450px;\"/>\n",
    "\n",
    "<!-- ![](images/pic6.png) -->\n",
    "\n",
    "There are two tasks in supervised learning:    \n",
    "\n",
    "- **Classification**   \n",
    "- **Regression**   \n"
   ]
  },
  {
   "cell_type": "markdown",
   "metadata": {},
   "source": [
    "---\n",
    "\n",
    "### Classification {-}\n",
    "The problem of predicting the categorical class labels of new instances, based on a set of features.  \n",
    "\n",
    "- For example, predict whether a product will sell or not sell (True/False)\n",
    "- Predict whether it will rain today or not   \n",
    "\n",
    "We can also distinguish between:  \n",
    "\n",
    "- Binary Classification: Classification tasks with two classes, e.g. True/False  \n",
    "- Multi-class Classification: Classification tasks with more than two classes, e.g. Buy/Sell/Hold   \n",
    "    \n",
    "Example: Classification\n",
    "\n",
    "- Predict whether a bank loan ($y$) will be repaid (+) or will default (-)   \n",
    "- Prediction made on the basis of 2 features: borrower's income ($x_1$) and borrower's age ($x_2$)   \n",
    "\n",
    "<img src=\"images/pic7.png\" alt=\"Drawing\" style=\"width: 400px;\"/>\n",
    "\n",
    "<!-- ![](images/pic7.png) -->"
   ]
  },
  {
   "cell_type": "markdown",
   "metadata": {},
   "source": [
    "### Regression {-}\n",
    "The task of predicting the outcome is a continuous variable, e.g. House Price, on the basis of a set of features - explanatory variables.\n",
    "\n",
    "- There are many algorithms for doing this.\n",
    "\n",
    "- We are most familiar with Linear Regression from basic statistics/econometrics courses.\n",
    "\n",
    "Example: Regression\n",
    "\n",
    "- Use a linear regression to predict an exam mark ($y$) on the basis of the time spent studying ($x$)\n",
    "\n",
    "<img src=\"images/pic8.png\" alt=\"Drawing\" style=\"width: 400px;\"/>\n",
    "\n",
    "<!-- ![](images/pic8.png) -->\n"
   ]
  },
  {
   "cell_type": "markdown",
   "metadata": {},
   "source": [
    "--- \n",
    "\n",
    "## Unsupervised Learning {-}\n",
    "\n",
    "In supervised learning we   \n",
    "\n",
    "- Know what the target (dependent) variable in regression analysis (label in classification) is, e.g. exam mark \n",
    "- Have the values of the target (dependent) variable before we train a model, our training data contains exam marks for a sample of students\n",
    "\n",
    "In unsupervised learning\n",
    "\n",
    "- Unlabeled data, i.e. we dont even know what the dependent variable is\n",
    "- Data has unknown structure which we wish to discover"
   ]
  },
  {
   "cell_type": "markdown",
   "metadata": {},
   "source": [
    "### Clustering {-}\n",
    "\n",
    "Clustering is a type of unsupervised learning where we attempt to group a set of objects without having any prior knowledge of their group memberships\n",
    "- Objects in the same group (called a cluster) are more similar (in some sense) to each other than to those in other groups (clusters) \n",
    "\n",
    "Example:  \n",
    "\n",
    "- Discover customer segments based on their age ($x_1$) and income ($x_2$) in order to develop targeted marketing programs.\n",
    "\n",
    "\n",
    "<img src=\"images/pic9.png\" alt=\"Drawing\" style=\"width: 400px;\"/>\n",
    "\n",
    "<!-- ![](images/pic9.png) -->\n"
   ]
  },
  {
   "cell_type": "markdown",
   "metadata": {},
   "source": [
    "---\n",
    "## Reinforcement Learning {-}\n",
    "\n",
    "The goal is to develop a system (agent) that improves its performance based on interactions (feedback) with the environment. \n",
    "\n",
    "- The agent can observe the environment, perform actions and get rewards in return (or penalties - negative rewards). \n",
    "- Learning to choose a series of actions that maximizes the total reward, which could be earned either immediately after taking an action of via delayed feedback.\n",
    "\n",
    "**Example: Reinforcement Learning**  \n",
    "\n",
    "A chess program where the agent decides upon a series of moves depending on the state of the board (the environment) and the reward can be defined as a win or lose at the end of the game.\n",
    "\n",
    "[https://www.youtube.com/watch?v=JgvyzIkgxF0](https://www.youtube.com/watch?v=JgvyzIkgxF0)\n"
   ]
  },
  {
   "cell_type": "code",
   "execution_count": null,
   "metadata": {},
   "outputs": [],
   "source": []
  }
 ],
 "metadata": {
  "kernelspec": {
   "display_name": "Python 3 (ipykernel)",
   "language": "python",
   "name": "python3"
  },
  "language_info": {
   "codemirror_mode": {
    "name": "ipython",
    "version": 3
   },
   "file_extension": ".py",
   "mimetype": "text/x-python",
   "name": "python",
   "nbconvert_exporter": "python",
   "pygments_lexer": "ipython3",
   "version": "3.10.11"
  }
 },
 "nbformat": 4,
 "nbformat_minor": 4
}
