{
 "cells": [
  {
   "cell_type": "markdown",
   "id": "6f76d664-d35b-452d-8faa-0ce85012aa29",
   "metadata": {
    "toc-hr-collapsed": true
   },
   "source": [
    "# Week 6 Tutorial/Computer Lab"
   ]
  },
  {
   "cell_type": "markdown",
   "id": "f3d7623e-e76f-47c3-875a-d53b45f487a4",
   "metadata": {},
   "source": [
    "\n",
    "1. Sample Short-Answer Questions (5 min)\n",
    "2. Complete Practice Quiz (15 min)\n",
    "3. Combine dataframes using two of the common Pandas functions.\n",
    "\n",
    "- `merge()` Merge DataFrame or named Series objects with a database-style join. \n",
    "    - https://pandas.pydata.org/docs/reference/api/pandas.DataFrame.merge.html\n",
    "- `concat()` Concatenate pandas objects along a particular axis. \n",
    "    - https://pandas.pydata.org/docs/reference/api/pandas.concat.html\n",
    "<br>\n",
    "\n",
    "4.  Discuss Programming Assignment 1\n",
    "<br>\n",
    "\n",
    "---\n",
    "---"
   ]
  },
  {
   "cell_type": "markdown",
   "id": "b09add38-f0d2-49ff-b3fa-c999ee47eee6",
   "metadata": {},
   "source": [
    "\n",
    "### `merge()`\n",
    "\n",
    "- Merge DataFrame or Series objects with a **database-style join**.\n",
    "- The join is done on columns or indexes. \n",
    "    - If joining columns on columns, the DataFrame indexes will be ignored. \n",
    "    - Otherwise if joining indexes on indexes or indexes on a column or columns, the index will be passed on. \n",
    "    - When performing a cross merge, no column specifications to merge on are allowed.\n",
    "    \n",
    "- Create two new DataFrames\n",
    "\n",
    "```\n",
    "import pandas as pd\n",
    "\n",
    "product = pd.DataFrame({\n",
    "    'productID':[\"p01\",\"p02\",\"p03\",\"p04\",\"p05\",\"p06\"],\n",
    "    'productName':[\"ABCD\",\"EFGH\",\"IJKL\",\"MNOP\", \"QRST\", \"UVWX\"],\n",
    "    'Price' :[100,250,220,300,190,900]\n",
    "})\n",
    "product\n",
    "\n",
    "\n",
    "discount = pd.DataFrame({\n",
    "    'discountID':[\"d01\",\"d02\",\"d03\",\"d04\",\"d05\",\"d06\"],\n",
    "    'productID':[\"p04\",\"p03\",\"p01\",\"p02\",\"p09\",\"p10\"],\n",
    "    'Discount':[\"20%\",\"30%\",\"40%\",\"20%\",\"25%\",\"30%\"]\n",
    "})\n",
    "discount\n",
    "\n",
    "```"
   ]
  },
  {
   "cell_type": "code",
   "execution_count": null,
   "id": "1154ddd9-c41d-45ba-a9d7-56128119b250",
   "metadata": {},
   "outputs": [],
   "source": []
  },
  {
   "cell_type": "code",
   "execution_count": null,
   "id": "8c5f516d-ad1e-45db-a780-7fb1d6492e42",
   "metadata": {},
   "outputs": [],
   "source": []
  },
  {
   "cell_type": "markdown",
   "id": "5ab73976-72f4-430f-929c-e0eee7c83bb6",
   "metadata": {},
   "source": [
    "---\n",
    "\n",
    "https://pandas.pydata.org/docs/reference/api/pandas.DataFrame.merge.html\n",
    "\n",
    "\n",
    "### parameter `on`:\n",
    "\n",
    "- Column or index level names to join on. \n",
    "- These must be found in both DataFrames. \n",
    "- If on is None and not merging on indexes then this defaults to **the intersection of the columns** (columnns that have the same name) in both DataFrames. default`None`\n",
    "\n",
    "\n",
    "### parameter `how`:\n",
    "\n",
    "- Type of merge to be performed.\n",
    "- how{`‘left’`, `‘right’`, `‘outer’`, `‘inner’`, `‘cross’`}, default `‘inner’`\n",
    "- `inner`: use intersection of keys from both frames, similar to a SQL inner join; preserve the order of the left keys.\n",
    "- `left`: use only keys from left frame, similar to a SQL left outer join; preserve key order.\n",
    "- `right`: use only keys from right frame, similar to a SQL right outer join; preserve key order.\n",
    "- `outer`: use union of keys from both frames, similar to a SQL full outer join; sort keys lexicographically.\n",
    "- `cross`: creates the cartesian product from both frames, preserves the order of the left keys.\n",
    "\n",
    "\n",
    "The most frequently-used join types are: `inner`, `left`, and `right`.\n",
    "\n",
    "```\n",
    "# Merge DataFrames by Columns\n",
    "pd.merge(product, discount, on = 'productID', how = 'inner')\n",
    "\n",
    "pd.merge(product, discount, on = 'productID', how = 'left')\n",
    "\n",
    "pd.merge(product, discount, on = 'productID', how = 'right')\n",
    "\n",
    "```"
   ]
  },
  {
   "cell_type": "code",
   "execution_count": null,
   "id": "b13bbf62-4c2b-4fac-8eec-6ddcc3eb28b2",
   "metadata": {},
   "outputs": [],
   "source": []
  },
  {
   "cell_type": "code",
   "execution_count": null,
   "id": "94d88f93-7182-4f00-b306-b15d8e582e12",
   "metadata": {},
   "outputs": [],
   "source": []
  },
  {
   "cell_type": "code",
   "execution_count": null,
   "id": "11b6f380-8f3c-4b4a-ab2b-d57b093eb78f",
   "metadata": {},
   "outputs": [],
   "source": []
  },
  {
   "cell_type": "code",
   "execution_count": null,
   "id": "d939169e-fe8c-4eae-a4c0-6dbe016dfb3b",
   "metadata": {},
   "outputs": [],
   "source": []
  },
  {
   "cell_type": "markdown",
   "id": "d0c96e79-474f-492b-8c7f-dcf599f07a13",
   "metadata": {},
   "source": [
    "---\n",
    "\n",
    "https://pandas.pydata.org/docs/reference/api/pandas.concat.html\n",
    "\n",
    "### `concat()`\n",
    "\n",
    "- Another function that concatenates (joins) pandas objects along a particular axis.\n",
    "    - `axis = 0` combine vertically\n",
    "    - `axis = 1` combine horizontally\n",
    "\n",
    "<br> \n",
    "\n",
    "- Difference between `merge()` and `concat()`\n",
    "    - `merge()` for combining data on **common** columns or indices.\n",
    "    - `concat()` for combining DataFrames horizontally or vertically.\n",
    "        \n",
    "<br>\n",
    "\n",
    "- Create dataframes\n",
    "\n",
    "```\n",
    "df1 = pd.DataFrame({\n",
    "    'productID':[\"p01\",\"p02\",\"p03\",\"p04\",\"p05\",\"p06\"],\n",
    "    'productName':[\"ABCD\",\"EFGH\",\"IJKL\",\"MNOP\", \"QRST\", \"UVWX\"],\n",
    "    'Price' :[100,250,220,300,190,900]\n",
    "})\n",
    "df1\n",
    "\n",
    "\n",
    "df2 = pd.DataFrame({\n",
    "    'productID':[\"p07\",\"p08\",\"p09\",\"p10\"],\n",
    "    'productName':[\"DJFJ\",\"DFKD\",\"FKKM\",\"OEKL\"],\n",
    "    'Price' :[190,490,920,310]\n",
    "})\n",
    "df2\n",
    "\n",
    "\n",
    "df3 = pd.DataFrame({\n",
    "    'productType':[\"A\",\"B\",\"C\",\"D\"],\n",
    "    'releasedYear':[2020,2012,2011,2009]\n",
    "})\n",
    "df3\n",
    "\n",
    "```\n",
    "\n",
    "- Combine data vertically\n",
    "```\n",
    "pd.concat([df1, df2], axis = 0)\n",
    "```\n",
    "\n",
    "- Combine data horizontally\n",
    "```\n",
    "pd.concat([df2, df3], axis = 1)\n",
    "```"
   ]
  },
  {
   "cell_type": "code",
   "execution_count": null,
   "id": "c5aa4629-1e69-4889-8511-918a139ffc6f",
   "metadata": {},
   "outputs": [],
   "source": []
  },
  {
   "cell_type": "code",
   "execution_count": null,
   "id": "0130387a-28f0-4a8a-ba2c-723d16399d86",
   "metadata": {},
   "outputs": [],
   "source": []
  },
  {
   "cell_type": "code",
   "execution_count": null,
   "id": "30e9d732-840a-4529-8d8a-5740362f1c44",
   "metadata": {},
   "outputs": [],
   "source": []
  },
  {
   "cell_type": "code",
   "execution_count": null,
   "id": "f52b3046-b86b-46de-b52d-8113f4705953",
   "metadata": {},
   "outputs": [],
   "source": []
  },
  {
   "cell_type": "code",
   "execution_count": null,
   "id": "89a9d37c-72c0-463a-95ed-e92b28959e2f",
   "metadata": {},
   "outputs": [],
   "source": []
  },
  {
   "cell_type": "code",
   "execution_count": null,
   "id": "c21a4ee9-be3e-4dc6-bac5-69ac6217fd26",
   "metadata": {},
   "outputs": [],
   "source": []
  },
  {
   "cell_type": "code",
   "execution_count": null,
   "id": "5fdd9a1c-825b-486b-b037-4b8f83d9f429",
   "metadata": {},
   "outputs": [],
   "source": []
  }
 ],
 "metadata": {
  "kernelspec": {
   "display_name": "Python 3 (ipykernel)",
   "language": "python",
   "name": "python3"
  },
  "language_info": {
   "codemirror_mode": {
    "name": "ipython",
    "version": 3
   },
   "file_extension": ".py",
   "mimetype": "text/x-python",
   "name": "python",
   "nbconvert_exporter": "python",
   "pygments_lexer": "ipython3",
   "version": "3.9.18"
  },
  "toc-autonumbering": false,
  "toc-showcode": false,
  "toc-showtags": true
 },
 "nbformat": 4,
 "nbformat_minor": 5
}
