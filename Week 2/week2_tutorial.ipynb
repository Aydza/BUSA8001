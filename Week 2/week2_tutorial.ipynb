{
 "cells": [
  {
   "cell_type": "markdown",
   "metadata": {},
   "source": [
    "# Week 2 Tutorial {-}\n",
    "\n",
    "\n",
    "### Unit Convenor & Lecturer {-}\n",
    "\n",
    "[George Milunovich](https://www.georgemilunovich.com)  \n",
    "[george.milunovich@mq.edu.au](mailto:george.milunovich@mq.edu.au)\n",
    "\n",
    "---\n",
    "\n",
    "**Objectives**\n",
    "\n",
    "1. Read Week 2 - Sample Short-Answer Questions (5 min)\n",
    "2. Complete Week 2 Practice Quiz (15 min)\n",
    "3. Analyse Credit Card Defaults data by taking the following steps:\n",
    "    - read Credit Card data from the web into a `pandas` dataframe using the `skiprows=[0]` option\n",
    "    - save an .xlsx copy into the data folder using `to_excel()` `pandas` method\n",
    "    - print the first 10 observations to see what the data looks like using `head()` `pandas` method\n",
    "    - print `DataFrame` `info()` and comment on the number of observations, Non-Null Count, and Dtype\n",
    "    - rename the column PAY_0 as PAY_1 and default payment next month as payment_default using `rename()` pandas method\n",
    "    - provide descriptive statistics table using `describe()` command, print its transpose using `T`, and comment\n",
    "    - create two numpy arrays: y = payment_default X = Pay_1 and AGE (use only first 100 observations)\n",
    "    - standardise X and check for mean 0, variance 1\n",
    "    - save our Perceptron algorithm in Perceptron.py\n",
    "    - replace `return np.where(self.net_input(X) >= 0, 1, -1)` with `return np.where(self.net_input(X) >= 0, 1, 0)`\n",
    "    - import `Perceptron` as `prc` to this notebook\n",
    "    - import matplotlib\n",
    "    - train the model and plot errors vs no of epochs\n",
    "    - compute classification accuracy (percent of total observations) \n",
    "    - copy and paste `plot_decision_regions` function from Week2 lecture Jupyter Notebook\n",
    "    - Plot decision regions for our Credit Card Default Classifier\n",
    "4. Additional Python Tutorial (to be completed as part of self-study activity) \n",
    "    - Python `list` object\n",
    "    - Python `if` statements\n",
    "    - Python `for` loop\n"
   ]
  },
  {
   "cell_type": "markdown",
   "metadata": {
    "jp-MarkdownHeadingCollapsed": true
   },
   "source": [
    "---\n",
    "\n",
    "## Basic Analysis of Credit Card Default data {-}\n",
    "\n",
    "\n",
    "We will use this credit card dataset [https://archive.ics.uci.edu/dataset/350/default+of+credit+card+clients](https://archive.ics.uci.edu/dataset/350/default+of+credit+card+clients)\n",
    "\n",
    "1. Read Credit Card data from the web into a `pandas` dataframe using the `skiprows=[0]` option\n",
    "\n",
    "```\n",
    "import pandas as pd\n",
    "# pd.set_option(\"display.max_rows\", None, \"display.max_columns\", None, \"display.width\", None) # pretty printing\n",
    "\n",
    "df = pd.read_excel('https://archive.ics.uci.edu/ml/machine-learning-databases/00350/default%20of%20credit%20card%20clients.xls', skiprows=[0])\n",
    "```"
   ]
  },
  {
   "cell_type": "code",
   "execution_count": 2,
   "metadata": {},
   "outputs": [],
   "source": [
    "import pandas as pd\n",
    "\n",
    "pd.set_option(\"display.max_rows\", None, \"display.max_columns\", None, \"display.width\", None) # pretty printing\n",
    "\n",
    "df = pd.read_excel('https://archive.ics.uci.edu/ml/machine-learning-databases/00350/default%20of%20credit%20card%20clients.xls', skiprows=[0])"
   ]
  },
  {
   "cell_type": "markdown",
   "metadata": {},
   "source": [
    "2. Save an .xlsx copy into the data folder using `to_excel()` `pandas` method\n",
    "\n",
    "```\n",
    "df.to_excel('data/credit_card_defaults.xlsx')\n",
    "```"
   ]
  },
  {
   "cell_type": "code",
   "execution_count": 3,
   "metadata": {},
   "outputs": [],
   "source": [
    "df.to_excel('data/credit_card_defaults.xlsx')"
   ]
  },
  {
   "cell_type": "markdown",
   "metadata": {},
   "source": [
    "3. Print the first 10 observations to see what the data looks like using `head()` `pandas` method\n",
    "\n",
    "```\n",
    "df.head(10)\n",
    "```\n",
    "\n",
    "**Credit Card Defaults Dataset**\n",
    "[https://archive.ics.uci.edu/dataset/350/default+of+credit+card+clients](https://archive.ics.uci.edu/dataset/350/default+of+credit+card+clients)\n",
    "\n",
    "\n",
    "Note there are 25 variables:\n",
    "\n",
    "1. ID: ID of each client\n",
    "2. LIMIT_BAL: Amount of given credit in NT dollars (includes individual and family/supplementary credit\n",
    "3. SEX: Gender (1=male, 2=female)\n",
    "4. EDUCATION: (1=graduate school, 2=university, 3=high school, 4=others, 5=unknown, 6=unknown)\n",
    "5. MARRIAGE: Marital status (1=married, 2=single, 3=others)\n",
    "6. AGE: Age in years\n",
    "7. PAY_0: Repayment status in September, 2005 (-1=pay duly, 1=payment delay for one month, 2=payment delay for two months, ... 8=payment delay for eight months, 9=payment delay for nine months and above)\n",
    "8. PAY_2: Repayment status in August, 2005 (scale same as above)\n",
    "9. PAY_3: Repayment status in July, 2005 (scale same as above)\n",
    "10. PAY_4: Repayment status in June, 2005 (scale same as above)\n",
    "11. PAY_5: Repayment status in May, 2005 (scale same as above)\n",
    "12. PAY_6: Repayment status in April, 2005 (scale same as above)\n",
    "13. BILL_AMT1: Amount of bill statement in September, 2005 (NT dollar)\n",
    "14. BILL_AMT2: Amount of bill statement in August, 2005 (NT dollar)\n",
    "15. BILL_AMT3: Amount of bill statement in July, 2005 (NT dollar)\n",
    "16. BILL_AMT4: Amount of bill statement in June, 2005 (NT dollar)\n",
    "17. BILL_AMT5: Amount of bill statement in May, 2005 (NT dollar)\n",
    "18. BILL_AMT6: Amount of bill statement in April, 2005 (NT dollar)\n",
    "19. PAY_AMT1: Amount of previous payment in September, 2005 (NT dollar)\n",
    "20. PAY_AMT2: Amount of previous payment in August, 2005 (NT dollar)\n",
    "21. PAY_AMT3: Amount of previous payment in July, 2005 (NT dollar)\n",
    "22. PAY_AMT4: Amount of previous payment in June, 2005 (NT dollar)\n",
    "23. PAY_AMT5: Amount of previous payment in May, 2005 (NT dollar)\n",
    "24. PAY_AMT6: Amount of previous payment in April, 2005 (NT dollar)\n",
    "25. default.payment.next.month: Default payment (1=yes, 0=no)\n",
    "\n",
    "\n"
   ]
  },
  {
   "cell_type": "code",
   "execution_count": null,
   "metadata": {},
   "outputs": [],
   "source": []
  },
  {
   "cell_type": "markdown",
   "metadata": {},
   "source": [
    "4. print `DataFrame` `info()` and comment on the number of observations, Non-Null Count, and Dtype\n",
    "\n",
    "```\n",
    "df.info()\n",
    "```"
   ]
  },
  {
   "cell_type": "code",
   "execution_count": 4,
   "metadata": {},
   "outputs": [
    {
     "name": "stdout",
     "output_type": "stream",
     "text": [
      "<class 'pandas.core.frame.DataFrame'>\n",
      "RangeIndex: 30000 entries, 0 to 29999\n",
      "Data columns (total 25 columns):\n",
      " #   Column                      Non-Null Count  Dtype\n",
      "---  ------                      --------------  -----\n",
      " 0   ID                          30000 non-null  int64\n",
      " 1   LIMIT_BAL                   30000 non-null  int64\n",
      " 2   SEX                         30000 non-null  int64\n",
      " 3   EDUCATION                   30000 non-null  int64\n",
      " 4   MARRIAGE                    30000 non-null  int64\n",
      " 5   AGE                         30000 non-null  int64\n",
      " 6   PAY_0                       30000 non-null  int64\n",
      " 7   PAY_2                       30000 non-null  int64\n",
      " 8   PAY_3                       30000 non-null  int64\n",
      " 9   PAY_4                       30000 non-null  int64\n",
      " 10  PAY_5                       30000 non-null  int64\n",
      " 11  PAY_6                       30000 non-null  int64\n",
      " 12  BILL_AMT1                   30000 non-null  int64\n",
      " 13  BILL_AMT2                   30000 non-null  int64\n",
      " 14  BILL_AMT3                   30000 non-null  int64\n",
      " 15  BILL_AMT4                   30000 non-null  int64\n",
      " 16  BILL_AMT5                   30000 non-null  int64\n",
      " 17  BILL_AMT6                   30000 non-null  int64\n",
      " 18  PAY_AMT1                    30000 non-null  int64\n",
      " 19  PAY_AMT2                    30000 non-null  int64\n",
      " 20  PAY_AMT3                    30000 non-null  int64\n",
      " 21  PAY_AMT4                    30000 non-null  int64\n",
      " 22  PAY_AMT5                    30000 non-null  int64\n",
      " 23  PAY_AMT6                    30000 non-null  int64\n",
      " 24  default payment next month  30000 non-null  int64\n",
      "dtypes: int64(25)\n",
      "memory usage: 5.7 MB\n"
     ]
    }
   ],
   "source": [
    "df.info()"
   ]
  },
  {
   "cell_type": "markdown",
   "metadata": {},
   "source": [
    "5. rename the column PAY_0 as PAY_1 and default payment next month as payment_default using `rename()` pandas method\n",
    "\n",
    "```\n",
    "df = df.rename(columns={'PAY_0': 'PAY_1', 'default payment next month': 'payment_default'})\n",
    "```"
   ]
  },
  {
   "cell_type": "code",
   "execution_count": 6,
   "metadata": {},
   "outputs": [],
   "source": [
    "df = df.rename(columns={'PAY_0': 'PAY_1', 'default payment next month': 'payment_default'})\n"
   ]
  },
  {
   "cell_type": "code",
   "execution_count": null,
   "metadata": {},
   "outputs": [],
   "source": []
  },
  {
   "cell_type": "markdown",
   "metadata": {},
   "source": [
    "6. provide descriptive statistics table using `describe()` command, print its transpose using `T`, and comment\n",
    "\n",
    "```\n",
    "df.describe().T\n",
    "```\n"
   ]
  },
  {
   "cell_type": "code",
   "execution_count": 7,
   "metadata": {},
   "outputs": [
    {
     "data": {
      "text/html": [
       "<div>\n",
       "<style scoped>\n",
       "    .dataframe tbody tr th:only-of-type {\n",
       "        vertical-align: middle;\n",
       "    }\n",
       "\n",
       "    .dataframe tbody tr th {\n",
       "        vertical-align: top;\n",
       "    }\n",
       "\n",
       "    .dataframe thead th {\n",
       "        text-align: right;\n",
       "    }\n",
       "</style>\n",
       "<table border=\"1\" class=\"dataframe\">\n",
       "  <thead>\n",
       "    <tr style=\"text-align: right;\">\n",
       "      <th></th>\n",
       "      <th>count</th>\n",
       "      <th>mean</th>\n",
       "      <th>std</th>\n",
       "      <th>min</th>\n",
       "      <th>25%</th>\n",
       "      <th>50%</th>\n",
       "      <th>75%</th>\n",
       "      <th>max</th>\n",
       "    </tr>\n",
       "  </thead>\n",
       "  <tbody>\n",
       "    <tr>\n",
       "      <th>ID</th>\n",
       "      <td>30000.0</td>\n",
       "      <td>15000.500000</td>\n",
       "      <td>8660.398374</td>\n",
       "      <td>1.0</td>\n",
       "      <td>7500.75</td>\n",
       "      <td>15000.5</td>\n",
       "      <td>22500.25</td>\n",
       "      <td>30000.0</td>\n",
       "    </tr>\n",
       "    <tr>\n",
       "      <th>LIMIT_BAL</th>\n",
       "      <td>30000.0</td>\n",
       "      <td>167484.322667</td>\n",
       "      <td>129747.661567</td>\n",
       "      <td>10000.0</td>\n",
       "      <td>50000.00</td>\n",
       "      <td>140000.0</td>\n",
       "      <td>240000.00</td>\n",
       "      <td>1000000.0</td>\n",
       "    </tr>\n",
       "    <tr>\n",
       "      <th>SEX</th>\n",
       "      <td>30000.0</td>\n",
       "      <td>1.603733</td>\n",
       "      <td>0.489129</td>\n",
       "      <td>1.0</td>\n",
       "      <td>1.00</td>\n",
       "      <td>2.0</td>\n",
       "      <td>2.00</td>\n",
       "      <td>2.0</td>\n",
       "    </tr>\n",
       "    <tr>\n",
       "      <th>EDUCATION</th>\n",
       "      <td>30000.0</td>\n",
       "      <td>1.853133</td>\n",
       "      <td>0.790349</td>\n",
       "      <td>0.0</td>\n",
       "      <td>1.00</td>\n",
       "      <td>2.0</td>\n",
       "      <td>2.00</td>\n",
       "      <td>6.0</td>\n",
       "    </tr>\n",
       "    <tr>\n",
       "      <th>MARRIAGE</th>\n",
       "      <td>30000.0</td>\n",
       "      <td>1.551867</td>\n",
       "      <td>0.521970</td>\n",
       "      <td>0.0</td>\n",
       "      <td>1.00</td>\n",
       "      <td>2.0</td>\n",
       "      <td>2.00</td>\n",
       "      <td>3.0</td>\n",
       "    </tr>\n",
       "    <tr>\n",
       "      <th>AGE</th>\n",
       "      <td>30000.0</td>\n",
       "      <td>35.485500</td>\n",
       "      <td>9.217904</td>\n",
       "      <td>21.0</td>\n",
       "      <td>28.00</td>\n",
       "      <td>34.0</td>\n",
       "      <td>41.00</td>\n",
       "      <td>79.0</td>\n",
       "    </tr>\n",
       "    <tr>\n",
       "      <th>PAY_1</th>\n",
       "      <td>30000.0</td>\n",
       "      <td>-0.016700</td>\n",
       "      <td>1.123802</td>\n",
       "      <td>-2.0</td>\n",
       "      <td>-1.00</td>\n",
       "      <td>0.0</td>\n",
       "      <td>0.00</td>\n",
       "      <td>8.0</td>\n",
       "    </tr>\n",
       "    <tr>\n",
       "      <th>PAY_2</th>\n",
       "      <td>30000.0</td>\n",
       "      <td>-0.133767</td>\n",
       "      <td>1.197186</td>\n",
       "      <td>-2.0</td>\n",
       "      <td>-1.00</td>\n",
       "      <td>0.0</td>\n",
       "      <td>0.00</td>\n",
       "      <td>8.0</td>\n",
       "    </tr>\n",
       "    <tr>\n",
       "      <th>PAY_3</th>\n",
       "      <td>30000.0</td>\n",
       "      <td>-0.166200</td>\n",
       "      <td>1.196868</td>\n",
       "      <td>-2.0</td>\n",
       "      <td>-1.00</td>\n",
       "      <td>0.0</td>\n",
       "      <td>0.00</td>\n",
       "      <td>8.0</td>\n",
       "    </tr>\n",
       "    <tr>\n",
       "      <th>PAY_4</th>\n",
       "      <td>30000.0</td>\n",
       "      <td>-0.220667</td>\n",
       "      <td>1.169139</td>\n",
       "      <td>-2.0</td>\n",
       "      <td>-1.00</td>\n",
       "      <td>0.0</td>\n",
       "      <td>0.00</td>\n",
       "      <td>8.0</td>\n",
       "    </tr>\n",
       "    <tr>\n",
       "      <th>PAY_5</th>\n",
       "      <td>30000.0</td>\n",
       "      <td>-0.266200</td>\n",
       "      <td>1.133187</td>\n",
       "      <td>-2.0</td>\n",
       "      <td>-1.00</td>\n",
       "      <td>0.0</td>\n",
       "      <td>0.00</td>\n",
       "      <td>8.0</td>\n",
       "    </tr>\n",
       "    <tr>\n",
       "      <th>PAY_6</th>\n",
       "      <td>30000.0</td>\n",
       "      <td>-0.291100</td>\n",
       "      <td>1.149988</td>\n",
       "      <td>-2.0</td>\n",
       "      <td>-1.00</td>\n",
       "      <td>0.0</td>\n",
       "      <td>0.00</td>\n",
       "      <td>8.0</td>\n",
       "    </tr>\n",
       "    <tr>\n",
       "      <th>BILL_AMT1</th>\n",
       "      <td>30000.0</td>\n",
       "      <td>51223.330900</td>\n",
       "      <td>73635.860576</td>\n",
       "      <td>-165580.0</td>\n",
       "      <td>3558.75</td>\n",
       "      <td>22381.5</td>\n",
       "      <td>67091.00</td>\n",
       "      <td>964511.0</td>\n",
       "    </tr>\n",
       "    <tr>\n",
       "      <th>BILL_AMT2</th>\n",
       "      <td>30000.0</td>\n",
       "      <td>49179.075167</td>\n",
       "      <td>71173.768783</td>\n",
       "      <td>-69777.0</td>\n",
       "      <td>2984.75</td>\n",
       "      <td>21200.0</td>\n",
       "      <td>64006.25</td>\n",
       "      <td>983931.0</td>\n",
       "    </tr>\n",
       "    <tr>\n",
       "      <th>BILL_AMT3</th>\n",
       "      <td>30000.0</td>\n",
       "      <td>47013.154800</td>\n",
       "      <td>69349.387427</td>\n",
       "      <td>-157264.0</td>\n",
       "      <td>2666.25</td>\n",
       "      <td>20088.5</td>\n",
       "      <td>60164.75</td>\n",
       "      <td>1664089.0</td>\n",
       "    </tr>\n",
       "    <tr>\n",
       "      <th>BILL_AMT4</th>\n",
       "      <td>30000.0</td>\n",
       "      <td>43262.948967</td>\n",
       "      <td>64332.856134</td>\n",
       "      <td>-170000.0</td>\n",
       "      <td>2326.75</td>\n",
       "      <td>19052.0</td>\n",
       "      <td>54506.00</td>\n",
       "      <td>891586.0</td>\n",
       "    </tr>\n",
       "    <tr>\n",
       "      <th>BILL_AMT5</th>\n",
       "      <td>30000.0</td>\n",
       "      <td>40311.400967</td>\n",
       "      <td>60797.155770</td>\n",
       "      <td>-81334.0</td>\n",
       "      <td>1763.00</td>\n",
       "      <td>18104.5</td>\n",
       "      <td>50190.50</td>\n",
       "      <td>927171.0</td>\n",
       "    </tr>\n",
       "    <tr>\n",
       "      <th>BILL_AMT6</th>\n",
       "      <td>30000.0</td>\n",
       "      <td>38871.760400</td>\n",
       "      <td>59554.107537</td>\n",
       "      <td>-339603.0</td>\n",
       "      <td>1256.00</td>\n",
       "      <td>17071.0</td>\n",
       "      <td>49198.25</td>\n",
       "      <td>961664.0</td>\n",
       "    </tr>\n",
       "    <tr>\n",
       "      <th>PAY_AMT1</th>\n",
       "      <td>30000.0</td>\n",
       "      <td>5663.580500</td>\n",
       "      <td>16563.280354</td>\n",
       "      <td>0.0</td>\n",
       "      <td>1000.00</td>\n",
       "      <td>2100.0</td>\n",
       "      <td>5006.00</td>\n",
       "      <td>873552.0</td>\n",
       "    </tr>\n",
       "    <tr>\n",
       "      <th>PAY_AMT2</th>\n",
       "      <td>30000.0</td>\n",
       "      <td>5921.163500</td>\n",
       "      <td>23040.870402</td>\n",
       "      <td>0.0</td>\n",
       "      <td>833.00</td>\n",
       "      <td>2009.0</td>\n",
       "      <td>5000.00</td>\n",
       "      <td>1684259.0</td>\n",
       "    </tr>\n",
       "    <tr>\n",
       "      <th>PAY_AMT3</th>\n",
       "      <td>30000.0</td>\n",
       "      <td>5225.681500</td>\n",
       "      <td>17606.961470</td>\n",
       "      <td>0.0</td>\n",
       "      <td>390.00</td>\n",
       "      <td>1800.0</td>\n",
       "      <td>4505.00</td>\n",
       "      <td>896040.0</td>\n",
       "    </tr>\n",
       "    <tr>\n",
       "      <th>PAY_AMT4</th>\n",
       "      <td>30000.0</td>\n",
       "      <td>4826.076867</td>\n",
       "      <td>15666.159744</td>\n",
       "      <td>0.0</td>\n",
       "      <td>296.00</td>\n",
       "      <td>1500.0</td>\n",
       "      <td>4013.25</td>\n",
       "      <td>621000.0</td>\n",
       "    </tr>\n",
       "    <tr>\n",
       "      <th>PAY_AMT5</th>\n",
       "      <td>30000.0</td>\n",
       "      <td>4799.387633</td>\n",
       "      <td>15278.305679</td>\n",
       "      <td>0.0</td>\n",
       "      <td>252.50</td>\n",
       "      <td>1500.0</td>\n",
       "      <td>4031.50</td>\n",
       "      <td>426529.0</td>\n",
       "    </tr>\n",
       "    <tr>\n",
       "      <th>PAY_AMT6</th>\n",
       "      <td>30000.0</td>\n",
       "      <td>5215.502567</td>\n",
       "      <td>17777.465775</td>\n",
       "      <td>0.0</td>\n",
       "      <td>117.75</td>\n",
       "      <td>1500.0</td>\n",
       "      <td>4000.00</td>\n",
       "      <td>528666.0</td>\n",
       "    </tr>\n",
       "    <tr>\n",
       "      <th>payment_default</th>\n",
       "      <td>30000.0</td>\n",
       "      <td>0.221200</td>\n",
       "      <td>0.415062</td>\n",
       "      <td>0.0</td>\n",
       "      <td>0.00</td>\n",
       "      <td>0.0</td>\n",
       "      <td>0.00</td>\n",
       "      <td>1.0</td>\n",
       "    </tr>\n",
       "  </tbody>\n",
       "</table>\n",
       "</div>"
      ],
      "text/plain": [
       "                   count           mean            std       min       25%  \\\n",
       "ID               30000.0   15000.500000    8660.398374       1.0   7500.75   \n",
       "LIMIT_BAL        30000.0  167484.322667  129747.661567   10000.0  50000.00   \n",
       "SEX              30000.0       1.603733       0.489129       1.0      1.00   \n",
       "EDUCATION        30000.0       1.853133       0.790349       0.0      1.00   \n",
       "MARRIAGE         30000.0       1.551867       0.521970       0.0      1.00   \n",
       "AGE              30000.0      35.485500       9.217904      21.0     28.00   \n",
       "PAY_1            30000.0      -0.016700       1.123802      -2.0     -1.00   \n",
       "PAY_2            30000.0      -0.133767       1.197186      -2.0     -1.00   \n",
       "PAY_3            30000.0      -0.166200       1.196868      -2.0     -1.00   \n",
       "PAY_4            30000.0      -0.220667       1.169139      -2.0     -1.00   \n",
       "PAY_5            30000.0      -0.266200       1.133187      -2.0     -1.00   \n",
       "PAY_6            30000.0      -0.291100       1.149988      -2.0     -1.00   \n",
       "BILL_AMT1        30000.0   51223.330900   73635.860576 -165580.0   3558.75   \n",
       "BILL_AMT2        30000.0   49179.075167   71173.768783  -69777.0   2984.75   \n",
       "BILL_AMT3        30000.0   47013.154800   69349.387427 -157264.0   2666.25   \n",
       "BILL_AMT4        30000.0   43262.948967   64332.856134 -170000.0   2326.75   \n",
       "BILL_AMT5        30000.0   40311.400967   60797.155770  -81334.0   1763.00   \n",
       "BILL_AMT6        30000.0   38871.760400   59554.107537 -339603.0   1256.00   \n",
       "PAY_AMT1         30000.0    5663.580500   16563.280354       0.0   1000.00   \n",
       "PAY_AMT2         30000.0    5921.163500   23040.870402       0.0    833.00   \n",
       "PAY_AMT3         30000.0    5225.681500   17606.961470       0.0    390.00   \n",
       "PAY_AMT4         30000.0    4826.076867   15666.159744       0.0    296.00   \n",
       "PAY_AMT5         30000.0    4799.387633   15278.305679       0.0    252.50   \n",
       "PAY_AMT6         30000.0    5215.502567   17777.465775       0.0    117.75   \n",
       "payment_default  30000.0       0.221200       0.415062       0.0      0.00   \n",
       "\n",
       "                      50%        75%        max  \n",
       "ID                15000.5   22500.25    30000.0  \n",
       "LIMIT_BAL        140000.0  240000.00  1000000.0  \n",
       "SEX                   2.0       2.00        2.0  \n",
       "EDUCATION             2.0       2.00        6.0  \n",
       "MARRIAGE              2.0       2.00        3.0  \n",
       "AGE                  34.0      41.00       79.0  \n",
       "PAY_1                 0.0       0.00        8.0  \n",
       "PAY_2                 0.0       0.00        8.0  \n",
       "PAY_3                 0.0       0.00        8.0  \n",
       "PAY_4                 0.0       0.00        8.0  \n",
       "PAY_5                 0.0       0.00        8.0  \n",
       "PAY_6                 0.0       0.00        8.0  \n",
       "BILL_AMT1         22381.5   67091.00   964511.0  \n",
       "BILL_AMT2         21200.0   64006.25   983931.0  \n",
       "BILL_AMT3         20088.5   60164.75  1664089.0  \n",
       "BILL_AMT4         19052.0   54506.00   891586.0  \n",
       "BILL_AMT5         18104.5   50190.50   927171.0  \n",
       "BILL_AMT6         17071.0   49198.25   961664.0  \n",
       "PAY_AMT1           2100.0    5006.00   873552.0  \n",
       "PAY_AMT2           2009.0    5000.00  1684259.0  \n",
       "PAY_AMT3           1800.0    4505.00   896040.0  \n",
       "PAY_AMT4           1500.0    4013.25   621000.0  \n",
       "PAY_AMT5           1500.0    4031.50   426529.0  \n",
       "PAY_AMT6           1500.0    4000.00   528666.0  \n",
       "payment_default       0.0       0.00        1.0  "
      ]
     },
     "execution_count": 7,
     "metadata": {},
     "output_type": "execute_result"
    }
   ],
   "source": [
    "df.describe().T"
   ]
  },
  {
   "cell_type": "markdown",
   "metadata": {},
   "source": [
    "7. create two numpy arrays \n",
    "\n",
    "- y = payment_default \n",
    "- X = [Pay_1 and AGE] (use only first 100 observations)\n",
    "\n",
    "\n",
    "```\n",
    "y = df['payment_default'].loc[:99].values\n",
    "X = df[['PAY_1', 'AGE']].loc[:99].values\n",
    "\n",
    "print(y, y.shape)\n",
    "print(X, X.shape)\n",
    "```"
   ]
  },
  {
   "cell_type": "code",
   "execution_count": 10,
   "metadata": {},
   "outputs": [
    {
     "name": "stdout",
     "output_type": "stream",
     "text": [
      "[1 1 0 0 0 0 0 0 0 0 0 0 0 1 0 0 1 0 0 0 0 1 1 1 0 0 1 0 0 0 0 1 0 0 0 0 0\n",
      " 0 1 0 0 0 0 0 0 1 1 1 0 0 1 0 0 0 0 0 0 0 0 0 1 0 1 1 0 1 1 0 0 0 0 1 0 0\n",
      " 0 0 0 0 1 1 0 0 1 0 0 0 1 0 0 0 1 0 0 0 0 0 0 0 0 1] (100,)\n",
      "[[ 2 24]\n",
      " [-1 26]\n",
      " [ 0 34]\n",
      " [ 0 37]\n",
      " [-1 57]\n",
      " [ 0 37]\n",
      " [ 0 29]\n",
      " [ 0 23]\n",
      " [ 0 28]\n",
      " [-2 35]\n",
      " [ 0 34]\n",
      " [-1 51]\n",
      " [-1 41]\n",
      " [ 1 30]\n",
      " [ 0 29]\n",
      " [ 1 23]\n",
      " [ 0 24]\n",
      " [ 0 49]\n",
      " [ 1 49]\n",
      " [ 1 29]\n",
      " [ 0 39]\n",
      " [-1 39]\n",
      " [ 2 26]\n",
      " [-2 40]\n",
      " [ 0 23]\n",
      " [ 0 23]\n",
      " [ 1 27]\n",
      " [ 0 30]\n",
      " [-1 47]\n",
      " [ 0 26]\n",
      " [-1 27]\n",
      " [ 2 33]\n",
      " [ 0 32]\n",
      " [-2 54]\n",
      " [-2 58]\n",
      " [-1 30]\n",
      " [ 0 40]\n",
      " [ 0 22]\n",
      " [ 1 25]\n",
      " [-1 31]\n",
      " [ 0 33]\n",
      " [ 0 25]\n",
      " [ 0 22]\n",
      " [ 0 37]\n",
      " [ 0 30]\n",
      " [-2 29]\n",
      " [ 0 22]\n",
      " [ 0 46]\n",
      " [-1 32]\n",
      " [ 0 24]\n",
      " [ 1 42]\n",
      " [ 0 43]\n",
      " [-2 49]\n",
      " [ 1 25]\n",
      " [ 2 29]\n",
      " [-2 45]\n",
      " [ 0 34]\n",
      " [ 0 34]\n",
      " [-1 34]\n",
      " [ 0 29]\n",
      " [ 0 28]\n",
      " [ 0 39]\n",
      " [ 2 29]\n",
      " [ 0 46]\n",
      " [-1 51]\n",
      " [-2 57]\n",
      " [ 2 56]\n",
      " [ 2 30]\n",
      " [ 1 29]\n",
      " [ 2 22]\n",
      " [-1 31]\n",
      " [ 2 29]\n",
      " [-1 32]\n",
      " [ 1 37]\n",
      " [-1 32]\n",
      " [ 0 24]\n",
      " [-1 25]\n",
      " [-1 45]\n",
      " [ 0 22]\n",
      " [ 1 44]\n",
      " [ 0 33]\n",
      " [ 0 26]\n",
      " [ 0 30]\n",
      " [ 0 44]\n",
      " [ 0 49]\n",
      " [ 0 33]\n",
      " [-1 45]\n",
      " [ 0 32]\n",
      " [ 0 35]\n",
      " [ 2 44]\n",
      " [ 2 53]\n",
      " [-1 39]\n",
      " [-2 27]\n",
      " [-1 37]\n",
      " [ 0 23]\n",
      " [ 0 35]\n",
      " [-1 43]\n",
      " [ 0 27]\n",
      " [ 0 22]\n",
      " [ 0 38]] (100, 2)\n"
     ]
    }
   ],
   "source": [
    "\n",
    "\n",
    "y = df['payment_default'].loc[:99].values\n",
    "X = df[['PAY_1', 'AGE']].loc[:99].values\n",
    "\n",
    "print(y, y.shape)\n",
    "print(X, X.shape)"
   ]
  },
  {
   "cell_type": "code",
   "execution_count": null,
   "metadata": {},
   "outputs": [],
   "source": []
  },
  {
   "cell_type": "markdown",
   "metadata": {},
   "source": [
    "8. standardise X and check for mean 0, variance 1\n",
    "\n",
    "```\n",
    "X_stand = (X - X.mean(axis=0)) / X.std(axis=0)\n",
    "\n",
    "print('Means:', X_stand.mean(axis=0))\n",
    "print('Standard Deviations:', X_stand.std(axis=0))\n",
    "```"
   ]
  },
  {
   "cell_type": "code",
   "execution_count": 11,
   "metadata": {},
   "outputs": [
    {
     "name": "stdout",
     "output_type": "stream",
     "text": [
      "Means: [3.51108032e-17 3.10307335e-16]\n",
      "Standard Deviations: [1. 1.]\n"
     ]
    }
   ],
   "source": [
    "X_stand = (X - X.mean(axis=0)) / X.std(axis=0)\n",
    "\n",
    "print('Means:', X_stand.mean(axis=0))\n",
    "print('Standard Deviations:', X_stand.std(axis=0))"
   ]
  },
  {
   "cell_type": "markdown",
   "metadata": {},
   "source": [
    "9. Save our Perceptron algorithm from Week 2 Notebook into Perceptron.py file\n",
    "10. replace `return np.where(self.net_input(X) >= 0, 1, -1)` with `return np.where(self.net_input(X) >= 0, 1, 0)`"
   ]
  },
  {
   "cell_type": "code",
   "execution_count": null,
   "metadata": {},
   "outputs": [],
   "source": []
  },
  {
   "cell_type": "markdown",
   "metadata": {},
   "source": [
    "11. import `Perceptron` as `prc` to this notebook\n",
    "12. import matplotlib and numpy\n",
    "\n",
    "```\n",
    "\n",
    "import Perceptron as prc\n",
    "import matplotlib.pyplot as plt\n",
    "import numpy as np\n",
    "```"
   ]
  },
  {
   "cell_type": "code",
   "execution_count": 12,
   "metadata": {},
   "outputs": [],
   "source": [
    "import Perceptron as prc\n",
    "import matplotlib.pyplot as plt\n",
    "import numpy as np"
   ]
  },
  {
   "cell_type": "markdown",
   "metadata": {},
   "source": [
    "13. train the model & compute predictions\n",
    "\n",
    "\n",
    "```\n",
    "ppn = prc.Perceptron(eta=0.001, n_iter=10, random_state = 1)\n",
    "ppn.fit(X_stand, y)\n",
    "ppn.predict(X_stand)\n",
    "\n",
    "```\n"
   ]
  },
  {
   "cell_type": "code",
   "execution_count": 13,
   "metadata": {},
   "outputs": [
    {
     "name": "stdout",
     "output_type": "stream",
     "text": [
      "---------------- Epoch:0 -----------------\n",
      "---------------- Epoch:1 -----------------\n",
      "---------------- Epoch:2 -----------------\n",
      "---------------- Epoch:3 -----------------\n",
      "---------------- Epoch:4 -----------------\n",
      "---------------- Epoch:5 -----------------\n",
      "---------------- Epoch:6 -----------------\n",
      "---------------- Epoch:7 -----------------\n",
      "---------------- Epoch:8 -----------------\n",
      "---------------- Epoch:9 -----------------\n",
      "10\n"
     ]
    },
    {
     "data": {
      "text/plain": [
       "array([1, 0, 0, 0, 1, 0, 0, 0, 0, 0, 0, 0, 0, 1, 0, 0, 0, 1, 1, 1, 0, 0,\n",
       "       1, 0, 0, 0, 0, 0, 0, 0, 0, 1, 0, 0, 0, 0, 0, 0, 0, 0, 0, 0, 0, 0,\n",
       "       0, 0, 0, 1, 0, 0, 1, 1, 0, 0, 1, 0, 0, 0, 0, 0, 0, 0, 1, 1, 0, 0,\n",
       "       1, 1, 1, 1, 0, 1, 0, 1, 0, 0, 0, 0, 0, 1, 0, 0, 0, 1, 1, 0, 0, 0,\n",
       "       0, 1, 1, 0, 0, 0, 0, 0, 0, 0, 0, 0])"
      ]
     },
     "execution_count": 13,
     "metadata": {},
     "output_type": "execute_result"
    }
   ],
   "source": [
    "ppn = prc.Perceptron(eta=0.001, n_iter=10, random_state = 1)\n",
    "ppn.fit(X_stand, y)\n",
    "ppn.predict(X_stand)\n"
   ]
  },
  {
   "cell_type": "markdown",
   "metadata": {},
   "source": [
    "14. compute classification accuracy (percent of total observations) as $(1 - \\frac{1}{{no. predictions}}\\sum{|true - predicted|})$\n",
    "\n",
    "```\n",
    "true_predicted_errors = pd.DataFrame(np.array([y, ppn.predict(X_stand)]).T, columns=['True', 'Predicted'])\n",
    "true_predicted_errors['Errors'] = abs(true_predicted_errors['True'] - true_predicted_errors['Predicted'])\n",
    "print(true_predicted_errors.mean())\n",
    "print('accuracy =',100*(1-true_predicted_errors.mean()[2]), 'percent')\n",
    "```"
   ]
  },
  {
   "cell_type": "code",
   "execution_count": 17,
   "metadata": {},
   "outputs": [
    {
     "name": "stdout",
     "output_type": "stream",
     "text": [
      "True         0.26\n",
      "Predicted    0.25\n",
      "Errors       0.27\n",
      "dtype: float64\n",
      "accuracy = 73.0 percent\n"
     ]
    }
   ],
   "source": [
    "true_predicted_errors = pd.DataFrame(np.array([y, ppn.predict(X_stand)]).T, columns=['True', 'Predicted'])  #%of sample=1\n",
    "true_predicted_errors['Errors'] = abs(true_predicted_errors['True'] - true_predicted_errors['Predicted'])\n",
    "print(true_predicted_errors.mean())\n",
    "print('accuracy =',100*(1-true_predicted_errors.mean()[2]), 'percent')"
   ]
  },
  {
   "cell_type": "markdown",
   "metadata": {},
   "source": [
    "15. copy and paste `plot_decision_regions` function from Week2 lecture Jupyter Notebook\n",
    "\n",
    "```\n",
    "from matplotlib.colors import ListedColormap\n",
    "def plot_decision_regions(X, y, classifier, resolution=0.02):\n",
    "    # setup marker generator and color map\n",
    "    markers = ['s', 'x', 'o', '^', 'v']\n",
    "    colors = ['red', 'blue', 'lightgreen', 'gray', 'cyan']\n",
    "    cmap = ListedColormap(colors[:len(np.unique(y))])\n",
    "\n",
    "    #plot the decision surface\n",
    "    x1_min, x1_max = X[:, 0].min() - 1, X[:, 0].max() + 1\n",
    "    x2_min, x2_max = X[:, 1].min() - 1, X[:, 1].max() + 1\n",
    "    xx1, xx2 = np.meshgrid(np.arange(x1_min, x1_max, resolution), np.arange(x2_min, x2_max, resolution))\n",
    "#     print(xx1.shape)\n",
    "    Z = classifier.predict(np.array([xx1.ravel(), xx2.ravel()]).T)\n",
    "#     print(np.array([xx1.ravel(), xx2.ravel()]).T.shape)\n",
    "    Z = Z.reshape(xx1.shape)\n",
    "#     print(Z.shape)\n",
    "\n",
    "    plt.contourf(xx1, xx2, Z, alpha = 0.3, cmap=cmap)\n",
    "    plt.xlim(xx1.min(), xx1.max())\n",
    "    plt.ylim(xx2.min(), xx2.max())\n",
    "\n",
    "    #plot class examples\n",
    "    for idx, cl in enumerate(np.unique(y)):\n",
    "        plt.scatter(x=X[y == cl, 0], y=X[y == cl, 1], alpha = 0.8, c = colors[idx], marker = markers[idx], label = cl, edgecolor = 'black')\n",
    "```"
   ]
  },
  {
   "cell_type": "code",
   "execution_count": 15,
   "metadata": {},
   "outputs": [],
   "source": [
    "from matplotlib.colors import ListedColormap\n",
    "def plot_decision_regions(X, y, classifier, resolution=0.02):\n",
    "    # setup marker generator and color map\n",
    "    markers = ['s', 'x', 'o', '^', 'v']\n",
    "    colors = ['red', 'blue', 'lightgreen', 'gray', 'cyan']\n",
    "    cmap = ListedColormap(colors[:len(np.unique(y))])\n",
    "\n",
    "    #plot the decision surface\n",
    "    x1_min, x1_max = X[:, 0].min() - 1, X[:, 0].max() + 1\n",
    "    x2_min, x2_max = X[:, 1].min() - 1, X[:, 1].max() + 1\n",
    "    xx1, xx2 = np.meshgrid(np.arange(x1_min, x1_max, resolution), np.arange(x2_min, x2_max, resolution))\n",
    "#     print(xx1.shape)\n",
    "    Z = classifier.predict(np.array([xx1.ravel(), xx2.ravel()]).T)\n",
    "#     print(np.array([xx1.ravel(), xx2.ravel()]).T.shape)\n",
    "    Z = Z.reshape(xx1.shape)\n",
    "#     print(Z.shape)\n",
    "\n",
    "    plt.contourf(xx1, xx2, Z, alpha = 0.3, cmap=cmap)\n",
    "    plt.xlim(xx1.min(), xx1.max())\n",
    "    plt.ylim(xx2.min(), xx2.max())\n",
    "\n",
    "    #plot class examples\n",
    "    for idx, cl in enumerate(np.unique(y)):\n",
    "        plt.scatter(x=X[y == cl, 0], y=X[y == cl, 1], alpha = 0.8, c = colors[idx], marker = markers[idx], label = cl, edgecolor = 'black')"
   ]
  },
  {
   "cell_type": "markdown",
   "metadata": {},
   "source": [
    "16. Plot decision regions for our Credit Card Default Classifier\n",
    "\n",
    "```\n",
    "plot_decision_regions(X_stand, y, classifier=ppn)\n",
    "plt.xlabel('PAY_1')\n",
    "plt.ylabel('AGE')\n",
    "plt.legend(loc='upper left')\n",
    "\n",
    "plt.show()\n",
    "```"
   ]
  },
  {
   "cell_type": "code",
   "execution_count": 16,
   "metadata": {},
   "outputs": [
    {
     "name": "stderr",
     "output_type": "stream",
     "text": [
      "C:\\Users\\LENOVO\\AppData\\Local\\Temp\\ipykernel_14372\\3805657181.py:24: UserWarning: You passed a edgecolor/edgecolors ('black') for an unfilled marker ('x').  Matplotlib is ignoring the edgecolor in favor of the facecolor.  This behavior may change in the future.\n",
      "  plt.scatter(x=X[y == cl, 0], y=X[y == cl, 1], alpha = 0.8, c = colors[idx], marker = markers[idx], label = cl, edgecolor = 'black')\n"
     ]
    },
    {
     "data": {
      "image/png": "[encoded data removed]",
      "text/plain": [
       "<Figure size 640x480 with 1 Axes>"
      ]
     },
     "metadata": {},
     "output_type": "display_data"
    }
   ],
   "source": [
    "plot_decision_regions(X_stand, y, classifier=ppn)\n",
    "plt.xlabel('PAY_1')\n",
    "plt.ylabel('AGE')\n",
    "plt.legend(loc='upper left')\n",
    "\n",
    "plt.show()"
   ]
  },
  {
   "cell_type": "code",
   "execution_count": null,
   "metadata": {},
   "outputs": [],
   "source": []
  },
  {
   "cell_type": "code",
   "execution_count": null,
   "metadata": {},
   "outputs": [],
   "source": []
  },
  {
   "cell_type": "code",
   "execution_count": null,
   "metadata": {},
   "outputs": [],
   "source": []
  },
  {
   "cell_type": "code",
   "execution_count": null,
   "metadata": {},
   "outputs": [],
   "source": []
  },
  {
   "cell_type": "code",
   "execution_count": null,
   "metadata": {},
   "outputs": [],
   "source": []
  },
  {
   "cell_type": "markdown",
   "metadata": {
    "jp-MarkdownHeadingCollapsed": true
   },
   "source": [
    "# Additional Python Tutorial"
   ]
  },
  {
   "cell_type": "markdown",
   "metadata": {},
   "source": [
    "---\n",
    "\n",
    "## Lists {-}\n",
    "\n",
    "\n",
    "List is one of the most frequently data types used in Python. \n",
    "\n",
    "- A list is created by placing all the items (elements) inside square brackets `[]`, separated by commas. It can have any number of items and they may be of different types (integer, float, string etc.).\n",
    "\n",
    "Try the following:\n",
    "```\n",
    "\n",
    "my_list = [] # empty list\n",
    "print(my_list)\n",
    "print(type(my_list))\n",
    "\n",
    "my_list = [1, 2, 3] # list of integers\n",
    "print(my_list)\n",
    "\n",
    "my_list = [1, \"Hello\", 3.4] # list with mixed data types\n",
    "print(my_list)\n",
    "```\n"
   ]
  },
  {
   "cell_type": "code",
   "execution_count": null,
   "metadata": {},
   "outputs": [],
   "source": [
    "\n"
   ]
  },
  {
   "cell_type": "code",
   "execution_count": null,
   "metadata": {},
   "outputs": [],
   "source": []
  },
  {
   "cell_type": "code",
   "execution_count": null,
   "metadata": {},
   "outputs": [],
   "source": []
  },
  {
   "cell_type": "markdown",
   "metadata": {},
   "source": [
    "---\n",
    "\n",
    "**How to access elements from a list**\n",
    "\n",
    "There are various ways in which we can access the elements of a list.   \n",
    "- We can use the index operator `[]` to access an item in a list. In Python, indices start at 0. \n",
    "    - So, a list having 5 elements will have an index from 0 to 4. Trying to access indexes other than these will raise an IndexError. \n",
    "- The index must be an integer. We can't use float or other types, this will result in TypeError. \n",
    "- Nested lists are accessed using nested indexing.\n",
    "\n",
    "\n",
    "\n",
    "```\n",
    "# List indexing\n",
    "\n",
    "my_list = ['p', 'r', 'o', 'b', 'e']\n",
    "print(my_list[0]) # Output: p\n",
    "print(my_list[2]) # Output: o\n",
    "print(my_list[4]) # Output: e\n",
    "\n",
    "n_list = [\"Happy\", [2, 0, 1, 5]] # Nested List\n",
    "print(n_list[0][1]) # Nested indexing\n",
    "print(n_list[1][3])\n",
    "print(my_list[4.0]) # Error! Only integer can be used for indexing\n",
    "```"
   ]
  },
  {
   "cell_type": "code",
   "execution_count": null,
   "metadata": {},
   "outputs": [],
   "source": []
  },
  {
   "cell_type": "code",
   "execution_count": null,
   "metadata": {},
   "outputs": [],
   "source": []
  },
  {
   "cell_type": "code",
   "execution_count": null,
   "metadata": {},
   "outputs": [],
   "source": []
  },
  {
   "cell_type": "markdown",
   "metadata": {},
   "source": [
    "**Negative indexing**\n",
    "\n",
    "Python allows negative indexing for its sequences. The index of -1 refers to the last item, -2 to the second last item and so on.\n",
    "\n",
    "```\n",
    "my_list = ['p','r','o','b','e'] # Negative indexing in lists\n",
    "print(my_list[-1])\n",
    "print(my_list[-5])\n",
    "```"
   ]
  },
  {
   "cell_type": "code",
   "execution_count": null,
   "metadata": {},
   "outputs": [],
   "source": []
  },
  {
   "cell_type": "code",
   "execution_count": null,
   "metadata": {},
   "outputs": [],
   "source": []
  },
  {
   "cell_type": "markdown",
   "metadata": {},
   "source": [
    "**How to slice lists in Python**\n",
    "\n",
    "We can access a range of items in a list by using the slicing operator : (colon).\n",
    "\n",
    "```\n",
    "# List slicing in Python\n",
    "\n",
    "my_list = ['p','r','o','g','r','a','m','i','z']\n",
    "print(my_list[2:5]) # elements 3rd to 5th\n",
    "\n",
    "print(my_list[:-5])  # elements beginning to 4th\n",
    "print(my_list[5:])  # elements 6th to end\n",
    "print(my_list[:]) # elements beginning to end\n",
    "```"
   ]
  },
  {
   "cell_type": "code",
   "execution_count": null,
   "metadata": {},
   "outputs": [],
   "source": []
  },
  {
   "cell_type": "code",
   "execution_count": null,
   "metadata": {},
   "outputs": [],
   "source": [
    "\n"
   ]
  },
  {
   "cell_type": "code",
   "execution_count": null,
   "metadata": {},
   "outputs": [],
   "source": []
  },
  {
   "cell_type": "markdown",
   "metadata": {},
   "source": [
    "Try this as well\n",
    "\n",
    "```\n",
    "my_list = [1, 5, 4]\n",
    "print(my_list)\n",
    "print(my_list[::-1])\n",
    "```"
   ]
  },
  {
   "cell_type": "code",
   "execution_count": null,
   "metadata": {},
   "outputs": [],
   "source": []
  },
  {
   "cell_type": "markdown",
   "metadata": {},
   "source": [
    "**How to change or add elements to a list**\n",
    "\n",
    "Lists are **mutable**, meaning their elements can be changed unlike string or tuple. We can use the assignment operator (=) to change an item or a range of items.\n",
    "\n",
    "```\n",
    "odd = [2, 4, 6, 8] # Correcting mistake values in a list\n",
    "odd[0] = 1 # change the 1st item                \n",
    "print(odd)\n",
    "\n",
    "odd[1:4] = [3, 5, 7]   # change 2nd to 4th items\n",
    "print(odd)     \n",
    "```"
   ]
  },
  {
   "cell_type": "code",
   "execution_count": null,
   "metadata": {},
   "outputs": [],
   "source": []
  },
  {
   "cell_type": "code",
   "execution_count": null,
   "metadata": {},
   "outputs": [],
   "source": []
  },
  {
   "cell_type": "markdown",
   "metadata": {},
   "source": [
    "We can add one item to a list using the `append()` method or add several items using `extend()` method.\n",
    "\n",
    "```\n",
    "# Appending and Extending lists in Python\n",
    "odd = [1, 3, 5]\n",
    "odd.append(7)\n",
    "print(odd)\n",
    "\n",
    "odd.extend([9, 11, 13])\n",
    "print(odd)\n",
    "```"
   ]
  },
  {
   "cell_type": "code",
   "execution_count": null,
   "metadata": {},
   "outputs": [],
   "source": []
  },
  {
   "cell_type": "code",
   "execution_count": null,
   "metadata": {},
   "outputs": [],
   "source": []
  },
  {
   "cell_type": "code",
   "execution_count": null,
   "metadata": {},
   "outputs": [],
   "source": []
  },
  {
   "cell_type": "markdown",
   "metadata": {},
   "source": [
    "We can also use `+` operator to combine two lists. This is also called concatenation.\n",
    "\n",
    "The `*` operator repeats a list for the given number of times.\n",
    "\n",
    "```\n",
    "# Concatenating and repeating lists\n",
    "odd = [1, 3, 5]\n",
    "print(odd + [9, 7, 5])\n",
    "print([\"re\"] * 3)\n",
    "```\n",
    "\n"
   ]
  },
  {
   "cell_type": "code",
   "execution_count": null,
   "metadata": {},
   "outputs": [],
   "source": []
  },
  {
   "cell_type": "code",
   "execution_count": null,
   "metadata": {},
   "outputs": [],
   "source": []
  },
  {
   "cell_type": "markdown",
   "metadata": {},
   "source": [
    "**How to delete or remove elements from a list**\n",
    "\n",
    "We can delete one or more items from a list using the keyword del. It can even delete the list entirely.\n",
    "```\n",
    "# Deleting list items\n",
    "my_list = ['p', 'r', 'o', 'b', 'l', 'e', 'm']\n",
    "print(my_list)\n",
    "\n",
    "del my_list[2] # delete one item\n",
    "print(my_list)\n",
    "\n",
    "del my_list[1:5] # delete multiple items\n",
    "print(my_list)\n",
    "\n",
    "del my_list # delete entire list\n",
    "# Error: List not defined\n",
    "print(my_list)\n",
    "```"
   ]
  },
  {
   "cell_type": "code",
   "execution_count": null,
   "metadata": {},
   "outputs": [],
   "source": []
  },
  {
   "cell_type": "code",
   "execution_count": null,
   "metadata": {},
   "outputs": [],
   "source": []
  },
  {
   "cell_type": "code",
   "execution_count": null,
   "metadata": {},
   "outputs": [],
   "source": []
  },
  {
   "cell_type": "code",
   "execution_count": null,
   "metadata": {},
   "outputs": [],
   "source": []
  },
  {
   "cell_type": "code",
   "execution_count": null,
   "metadata": {},
   "outputs": [],
   "source": []
  },
  {
   "cell_type": "markdown",
   "metadata": {
    "jp-MarkdownHeadingCollapsed": true
   },
   "source": [
    "---\n",
    "\n",
    "## The `if` statement {-}\n"
   ]
  },
  {
   "cell_type": "markdown",
   "metadata": {},
   "source": [
    "**What is if...else statement in Python**\n",
    "\n",
    "Decision making is required when we want to execute a code only if a certain condition is satisfied. The `if…elif…else` statement is used in Python for decision making.\n",
    "```\n",
    "if test expression:\n",
    "    statement(s)\n",
    "```\n",
    "Here, the program evaluates the `test expression` and will execute statement(s) only if the test expression is `True`. If the test expression is `False`, the statement(s) is not executed. In Python, the body of the `if` statement is indicated by the indentation. The body starts with an indentation and the first unindented line marks the end. Python interprets non-zero values as `True`. `None` and `0` are interpreted as `False`.\n",
    "\n",
    "Try the following code below:\n",
    "```\n",
    "# If the number is positive, we print an appropriate message\n",
    "\n",
    "num = 3\n",
    "if num > 0:\n",
    "    print(num, \"is a positive number.\")\n",
    "print(\"This is always printed.\")\n",
    "\n",
    "num = -1\n",
    "if num > 0:\n",
    "    print(num, \"is a positive number.\")\n",
    "print(\"This is also always printed.\")\n",
    "```\n"
   ]
  },
  {
   "cell_type": "code",
   "execution_count": null,
   "metadata": {},
   "outputs": [],
   "source": []
  },
  {
   "cell_type": "code",
   "execution_count": null,
   "metadata": {},
   "outputs": [],
   "source": []
  },
  {
   "cell_type": "code",
   "execution_count": null,
   "metadata": {},
   "outputs": [],
   "source": []
  },
  {
   "cell_type": "markdown",
   "metadata": {},
   "source": [
    "- The 'if..else' statement evaluates test expression and will execute the body of 'if' only when the test condition is 'True'. \n",
    "- If the condition is 'False', the body of 'else' is executed.\n",
    "- Indentation is used to separate the blocks.\n",
    "```\n",
    "if test expression:\n",
    "    Body of if\n",
    "else:\n",
    "    Body of else\n",
    "```\n",
    "\n",
    "Try the following code:\n",
    "```\n",
    "# Program checks if the number is positive or negative\n",
    "# And displays an appropriate message\n",
    "\n",
    "num = 3\n",
    "\n",
    "# Try these two variations as well. \n",
    "# num = -5\n",
    "# num = 0\n",
    "\n",
    "if num >= 0:\n",
    "    print(\"Positive or Zero\")\n",
    "else:\n",
    "    print(\"Negative number\")\n",
    "```\n"
   ]
  },
  {
   "cell_type": "code",
   "execution_count": null,
   "metadata": {},
   "outputs": [],
   "source": []
  },
  {
   "cell_type": "code",
   "execution_count": null,
   "metadata": {},
   "outputs": [],
   "source": []
  },
  {
   "cell_type": "code",
   "execution_count": null,
   "metadata": {},
   "outputs": [],
   "source": []
  },
  {
   "cell_type": "markdown",
   "metadata": {},
   "source": [
    "The `elif` is short for else if. It allows us to check for multiple expressions. If the condition for `if` is `False`, it checks the condition of the next `elif` block and so on. If all the conditions are `False`, the body of else is executed. Only one block among the several `if...elif...else` blocks is executed according to the condition. The if block can have only one `else` block. But it can have multiple `elif` blocks.\n",
    "\n",
    "```\n",
    "if test expression:\n",
    "    Body of if\n",
    "elif test expression:\n",
    "    Body of elif\n",
    "else: \n",
    "    Body of else\n",
    "```\n",
    "\n",
    "Here's an example:\n",
    "```\n",
    "'''In this program, \n",
    "we check if the number is positive or\n",
    "negative or zero and \n",
    "display an appropriate message'''\n",
    "\n",
    "num = 3.4\n",
    "\n",
    "# Try these two variations as well:\n",
    "# num = 0\n",
    "# num = -4.5\n",
    "\n",
    "if num > 0:\n",
    "    print(\"Positive number\")\n",
    "elif num == 0:\n",
    "    print(\"Zero\")\n",
    "else:\n",
    "    print(\"Negative number\")\n",
    "```"
   ]
  },
  {
   "cell_type": "code",
   "execution_count": null,
   "metadata": {},
   "outputs": [],
   "source": []
  },
  {
   "cell_type": "markdown",
   "metadata": {
    "jp-MarkdownHeadingCollapsed": true
   },
   "source": [
    "---\n",
    "\n",
    "## `for` loop {-}\n",
    "\n",
    "\n",
    "The `for` loop in Python is used to iterate over a sequence (e.g. list, tuple, string) or other iterable objects. Iterating over a sequence is called traversal.\n",
    "```\n",
    "for val in sequence:\n",
    "\tBody of for\n",
    "```\n",
    "Here, `val` is the variable that takes the value of the item inside the sequence on each iteration. Loop continues until we reach the last item in the sequence. The body of for loop is separated from the rest of the code using indentation.\n",
    "\n",
    "```\n",
    "# Program to find the sum of all numbers stored in a list\n",
    "\n",
    "\n",
    "numbers = [6, 5, 3, 8, 4, 2, 5, 4, 11]  # List of numbers\n",
    "print(numbers)\n",
    "sum = 0   # variable to store the sum\n",
    "\n",
    "# iterate over the list\n",
    "for val in numbers:\n",
    "\tsum = sum+val\n",
    "\n",
    "print(\"The sum is\", sum)\n",
    "```"
   ]
  },
  {
   "cell_type": "code",
   "execution_count": null,
   "metadata": {},
   "outputs": [],
   "source": []
  },
  {
   "cell_type": "code",
   "execution_count": null,
   "metadata": {},
   "outputs": [],
   "source": []
  },
  {
   "cell_type": "code",
   "execution_count": null,
   "metadata": {},
   "outputs": [],
   "source": []
  },
  {
   "cell_type": "code",
   "execution_count": null,
   "metadata": {},
   "outputs": [],
   "source": []
  },
  {
   "cell_type": "code",
   "execution_count": null,
   "metadata": {},
   "outputs": [],
   "source": []
  },
  {
   "cell_type": "markdown",
   "metadata": {},
   "source": [
    "**The `range()` function**\n",
    "\n",
    "We can generate a sequence of numbers using `range()` function. `range(10)` will generate numbers from 0 to 9 (10 numbers).\n",
    "We can also define the start, stop and step size as `range(start, stop,step_size)`. step_size defaults to 1 if not provided.\n",
    "\n",
    "The `range` object is \"lazy\" in a sense because it doesn't generate every number that it \"contains\" when we create it. \n",
    "- This function does not store all the values in memory; it would be inefficient. \n",
    "- So it remembers the start, stop, step size and generates the next number on the go.\n",
    "- To force this function to output all the items, we can use the function `list()`.\n",
    "\n",
    "The following example will clarify this.\n",
    "\n",
    "```\n",
    "print(range(10))\n",
    "print(list(range(10)))\n",
    "print(list(range(2, 8)))\n",
    "print(list(range(2, 20, 3)))\n",
    "```\n",
    "\n"
   ]
  },
  {
   "cell_type": "code",
   "execution_count": null,
   "metadata": {},
   "outputs": [],
   "source": []
  },
  {
   "cell_type": "markdown",
   "metadata": {},
   "source": [
    "We can use the `range()` function in for loops to iterate through a sequence of numbers. It can be combined with the `len()` function to iterate through a sequence using indexing. Here is an example.\n",
    "```\n",
    "# Program to iterate through a list using indexing\n",
    "\n",
    "genre = ['pop', 'rock', 'jazz']\n",
    "\n",
    "# iterate over the list using index\n",
    "for i in range(len(genre)):\n",
    "\tprint(\"I like\", genre[i])\n",
    "```"
   ]
  },
  {
   "cell_type": "code",
   "execution_count": null,
   "metadata": {},
   "outputs": [],
   "source": []
  },
  {
   "cell_type": "markdown",
   "metadata": {},
   "source": [
    "alternatively, we can achieve the same without indexing\n",
    "\n",
    "```\n",
    "genre = ['pop', 'rock', 'jazz']\n",
    "for item in genre:\n",
    "    print(\"I like\", item)\n",
    "```"
   ]
  },
  {
   "cell_type": "code",
   "execution_count": null,
   "metadata": {},
   "outputs": [],
   "source": []
  }
 ],
 "metadata": {
  "kernelspec": {
   "display_name": "Python 3 (ipykernel)",
   "language": "python",
   "name": "python3"
  },
  "language_info": {
   "codemirror_mode": {
    "name": "ipython",
    "version": 3
   },
   "file_extension": ".py",
   "mimetype": "text/x-python",
   "name": "python",
   "nbconvert_exporter": "python",
   "pygments_lexer": "ipython3",
   "version": "3.10.11"
  }
 },
 "nbformat": 4,
 "nbformat_minor": 4
}
