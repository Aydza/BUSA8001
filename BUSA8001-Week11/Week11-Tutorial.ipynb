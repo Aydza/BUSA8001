{
 "cells": [
  {
   "cell_type": "markdown",
   "id": "6f76d664-d35b-452d-8faa-0ce85012aa29",
   "metadata": {
    "toc-hr-collapsed": true
   },
   "source": [
    "# Week 11 - Computer Lab"
   ]
  },
  {
   "cell_type": "markdown",
   "id": "f3d7623e-e76f-47c3-875a-d53b45f487a4",
   "metadata": {},
   "source": [
    "\n",
    "1. Multiple-Choice Questions for Week 10\n",
    "2. Programming Task 2\n",
    "3. Group Project"
   ]
  },
  {
   "cell_type": "code",
   "execution_count": null,
   "id": "7c6cdada-0c1b-4493-addb-9b6aeb1f41bf",
   "metadata": {},
   "outputs": [],
   "source": []
  }
 ],
 "metadata": {
  "kernelspec": {
   "display_name": "Python 3 (ipykernel)",
   "language": "python",
   "name": "python3"
  },
  "language_info": {
   "codemirror_mode": {
    "name": "ipython",
    "version": 3
   },
   "file_extension": ".py",
   "mimetype": "text/x-python",
   "name": "python",
   "nbconvert_exporter": "python",
   "pygments_lexer": "ipython3",
   "version": "3.9.18"
  },
  "toc-autonumbering": false,
  "toc-showcode": false,
  "toc-showtags": true
 },
 "nbformat": 4,
 "nbformat_minor": 5
}
