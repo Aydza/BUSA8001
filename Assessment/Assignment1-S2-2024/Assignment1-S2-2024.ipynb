{
 "cells": [
  {
   "cell_type": "markdown",
   "metadata": {},
   "source": [
    "## BUSA8001- Programming Task 1  \n",
    "\n",
    "**Assignment Points**: 100  \n",
    "**Submission**: Provide your answers in this notebook and submit it via iLearn\n",
    "\n",
    "- Where a question requires a written answer provide your solution in Markdown in the cells under each question.\n",
    "- Comment out your print statements unless you are explicitly asked to print your output. \n",
    "- 5 marks will be deducted for printed outputs that are not asked for."
   ]
  },
  {
   "cell_type": "markdown",
   "metadata": {},
   "source": [
    "### About the Assignment\n",
    "\n",
    "- For this assignment there are two files in the `data` folder `credit_record.csv` and `application_record.csv` where bank clients are related by the `ID` column.\n",
    "\n",
    "- In `application_record.csv` we have the following variables\n",
    "\n",
    "| Feature Name         | Explanation     | Additional Remarks |\n",
    "|--------------|-----------|-----------|\n",
    "| ID | Randomly allocated client number      |         |\n",
    "| AMT_INCOME   | Annual income  |  |\n",
    "| NAME_INCOME_TYPE   | Income Source |  |\n",
    "| NAME_EDUCATION_TYPE   | Level of Education  |  |\n",
    "| CODE_GENDER   | Applicant's Gender   |  |\n",
    "| FLAG_OWN_CAR | Car Ownership |  | \n",
    "| CNT_CHILDREN | Number of Children | |\n",
    "| FLAG_OWN_REALTY | Real Estate Ownership | | \n",
    "| NAME_FAMILY_STATUS | Relationship Status | | \n",
    "| NAME_HOUSING_TYPE | Housing Type | | \n",
    "| DAYS_BIRTH | No. of Days | Count backwards from current day (0), -1 means yesterday\n",
    "| DAYS_EMPLOYED | No. of Days | Count backwards from current day (0). If positive, it means the person is currently unemployed.\n",
    "| FLAG_MOBIL | Mobile Phone Ownership | | \n",
    "| FLAG_WORK_PHONE | Work Phone Ownership | | \n",
    "| FLAG_PHONE | Landline Phone Ownership | | \n",
    "| FLAG_EMAIL | Landline Phone Ownership | | \n",
    "| OCCUPATION_TYPE | Occupation | | \n",
    "| CNT_FAM_MEMBERS | Count of Family Members | |\n",
    "\n",
    "\n",
    "\n",
    "- In `credit_record.csv` we have the following variables\n",
    "\n",
    "\n",
    "| Feature Name         | Explanation     | Additional Remarks |\n",
    "|--------------|-----------|-----------|\n",
    "| ID | Randomly allocated client number | |\n",
    "| MONTHS_BALANCE | Number of months in the past from now when STATUS is measured | 0 = current month, -1 = last month, -2 = two months ago, etc.|\n",
    "| STATUS | Number of days a payment is past due | 0: 1-29 days past due 1: 30-59 days past due 2: 60-89 days overdue 3: 90-119 days overdue 4: 120-149 days overdue 5: Overdue or bad debts, write-offs for more than 150 days C: paid off that month X: No loan for the month |"
   ]
  },
  {
   "cell_type": "markdown",
   "metadata": {},
   "source": [
    "---\n",
    "---\n",
    "\n",
    "### Task 1: Reading, Summarising and Cleaning Data (Total Marks: 30)"
   ]
  },
  {
   "cell_type": "markdown",
   "metadata": {},
   "source": [
    "**Question 1.** \n",
    "\n",
    "1. Import the `application_record.csv` and `credit_record.csv` files from `data` folder into pandas DataFrames named `df_application` and `df_credit`, respectively. (1 mark)\n",
    "\n",
    "2. How many rows are there in `df_application` and `df_credit`, respectively? Provide your answers with print() and state them in Markdown text. (1 mark)\n",
    "\n",
    "3. How many unique bank clients are there in `df_application` and `df_credit`? Provide your answers with print() and state them in Markdown text. (1 mark)\n",
    "\n",
    "4. Add the records from `df_credit` to `df_application` by merging the data from the two DataFrames on the `ID` column, and output the joint data into a new DataFrame named `df`. Hint: Use `merge` function from pandas by setting `how` parameter to `inner` (4 marks) \n",
    "\n",
    "5. How many rows and how many unique clients are there now in `df`? (1 mark)\n",
    "\n",
    "6. How are multiple rows for each `ID` in `df` different? Answer in Markdown text. (2 mark) \n",
    "\n",
    "(10 marks)"
   ]
  },
  {
   "cell_type": "code",
   "execution_count": 1,
   "metadata": {},
   "outputs": [
    {
     "name": "stdout",
     "output_type": "stream",
     "text": [
      "<class 'pandas.core.frame.DataFrame'>\n",
      "RangeIndex: 438445 entries, 0 to 438444\n",
      "Data columns (total 18 columns):\n",
      " #   Column               Non-Null Count   Dtype  \n",
      "---  ------               --------------   -----  \n",
      " 0   ID                   438445 non-null  int64  \n",
      " 1   CODE_GENDER          438445 non-null  object \n",
      " 2   FLAG_OWN_CAR         438445 non-null  object \n",
      " 3   FLAG_OWN_REALTY      438445 non-null  object \n",
      " 4   CNT_CHILDREN         438357 non-null  float64\n",
      " 5   AMT_INCOME           438445 non-null  float64\n",
      " 6   NAME_INCOME_TYPE     438445 non-null  object \n",
      " 7   NAME_EDUCATION_TYPE  436429 non-null  object \n",
      " 8   NAME_FAMILY_STATUS   438445 non-null  object \n",
      " 9   NAME_HOUSING_TYPE    438445 non-null  object \n",
      " 10  DAYS_BIRTH           438445 non-null  int64  \n",
      " 11  DAYS_EMPLOYED        438445 non-null  int64  \n",
      " 12  FLAG_MOBIL           438445 non-null  int64  \n",
      " 13  FLAG_WORK_PHONE      438445 non-null  int64  \n",
      " 14  FLAG_PHONE           438445 non-null  int64  \n",
      " 15  FLAG_EMAIL           438445 non-null  int64  \n",
      " 16  OCCUPATION_TYPE      304285 non-null  object \n",
      " 17  CNT_FAM_MEMBERS      438445 non-null  int64  \n",
      "dtypes: float64(2), int64(8), object(8)\n",
      "memory usage: 60.2+ MB\n",
      "<class 'pandas.core.frame.DataFrame'>\n",
      "RangeIndex: 1047185 entries, 0 to 1047184\n",
      "Data columns (total 3 columns):\n",
      " #   Column          Non-Null Count    Dtype \n",
      "---  ------          --------------    ----- \n",
      " 0   ID              1047185 non-null  int64 \n",
      " 1   MONTHS_BALANCE  1047185 non-null  int64 \n",
      " 2   STATUS          1047185 non-null  object\n",
      "dtypes: int64(2), object(1)\n",
      "memory usage: 24.0+ MB\n",
      "Number of rows in df_application is  438445\n",
      "Number of rows in df_credit is  1047185\n",
      "Number of bank clients in df_application is  438398\n",
      "Number of bank clients in df_credit is  45924\n",
      "df has 776325 rows\n",
      "there are 36396 unique clients now in df\n"
     ]
    }
   ],
   "source": [
    "# ---- provide your code here -----\n",
    "# This code file has to be stored at the same folder and same folder level as the datas\n",
    "# Question 1.1\n",
    "\n",
    "import pandas as pd #import pandas lib\n",
    "\n",
    "df_application=pd.read_csv('application_record.csv') #import application record \n",
    "df_application.info()\n",
    "\n",
    "df_credit=pd.read_csv('credit_record.csv')  #import credit record\n",
    "df_credit.info()\n",
    "\n",
    "#Question 1.2\n",
    "\n",
    "#count column for df_application\n",
    "print(\"Number of rows in df_application is \", len(df_application))\n",
    "\n",
    "#count column for df_credit\n",
    "print(\"Number of rows in df_credit is \", len(df_credit))\n",
    "\n",
    "#Question 1.3\n",
    "\n",
    "#count number of unique bank clients for df_application\n",
    "print(\"Number of bank clients in df_application is \", len(df_application['ID'].unique()))\n",
    "#count number of unique bank clients for df_credit\n",
    "print(\"Number of bank clients in df_credit is \", len(df_credit['ID'].unique()))\n",
    "\n",
    "#Question 1.4\n",
    "\n",
    "df=pd.merge(df_application,df_credit, how= 'inner')\n",
    "df\n",
    "\n",
    "#Question 1.5\n",
    "\n",
    "print(f\"df has {len(df)} rows\") #count number of rows\n",
    "\n",
    "print(f\"there are {len(df['ID'].unique())} unique clients now in df\")   #count number of unique clients\n"
   ]
  },
  {
   "cell_type": "markdown",
   "metadata": {},
   "source": [
    "---- provide your written answer here ----\n"
   ]
  },
  {
   "cell_type": "markdown",
   "metadata": {},
   "source": [
    "---\n",
    "\n",
    "**Question 2.**\n",
    "\n",
    "1. Change the values of `STATUS` in `df` according to the following mapping: {C, X, 0} -> 0 and {1, 2, 3, 4, 5} -> 1 making sure that the new values of 0 and 1 are encoded as integers. (2 marks)\n",
    "\n",
    "2. Create a new *numpy* array called `list_of_past_due` that includes the unique ID numbers of clients whose `STATUS = 1` at any point during the last 12 months (hint: count the current month as the first month). (2 marks) \n",
    "\n",
    "3. Create a new DataFrame called `df_final` that contains the rows of `df` for which the `ID` is in `list_of_past_due`, keeping only one row for each `ID` (hint: keep the first duplicate row). How many rows do you have in `df_final`? Answer using both print() function and in Markdown text. (hint: find out about `isin()` function in pandas.) (2 marks)\n",
    "\n",
    "4. Add a new column `y = 1` for all the rows in `df_final`. (1 marks)\n",
    "\n",
    "5. Increase `df_final` to a total of 4,500 rows by adding rows from `df` with unique `ID`s which are not in `list_of_past_due`. To do this start adding the rows from the beginning of `df`. (hint: learn what `~`, i.e. tilde sign, does in pandas). (2 marks) \n",
    "\n",
    "6. Fill the missing values of `y` in `df_final` with zeros. Remove `STATUS` and `MONTHS_BALANCE` from `df_final`. (1 mark)\n",
    "\n",
    "(10 marks)"
   ]
  },
  {
   "cell_type": "code",
   "execution_count": 2,
   "metadata": {},
   "outputs": [
    {
     "name": "stdout",
     "output_type": "stream",
     "text": [
      "[5008831 5008831 5008872 ... 5150049 5150337 5150337]\n",
      "           ID CODE_GENDER FLAG_OWN_CAR FLAG_OWN_REALTY  CNT_CHILDREN  \\\n",
      "369   5008831           F            N               Y           NaN   \n",
      "954   5008872           M            Y               Y           NaN   \n",
      "1718  5008912           F            N               Y           0.0   \n",
      "1755  5008914           F            N               Y           0.0   \n",
      "1790  5008916           F            N               Y           0.0   \n",
      "\n",
      "      AMT_INCOME      NAME_INCOME_TYPE            NAME_EDUCATION_TYPE  \\\n",
      "369     157500.0               Working  Secondary / secondary special   \n",
      "954     360000.0  Commercial associate                            NaN   \n",
      "1718    297000.0  Commercial associate                            NaN   \n",
      "1755    297000.0  Commercial associate                            NaN   \n",
      "1790    297000.0  Commercial associate                            NaN   \n",
      "\n",
      "        NAME_FAMILY_STATUS  NAME_HOUSING_TYPE  DAYS_BIRTH  DAYS_EMPLOYED  \\\n",
      "369                Married  House / apartment      -10031          -1469   \n",
      "954                Married  House / apartment      -16670          -5364   \n",
      "1718  Single / not married   Rented apartment      -15519          -3234   \n",
      "1755  Single / not married   Rented apartment      -15519          -3234   \n",
      "1790  Single / not married   Rented apartment      -15519          -3234   \n",
      "\n",
      "      FLAG_MOBIL  FLAG_WORK_PHONE  FLAG_PHONE  FLAG_EMAIL OCCUPATION_TYPE  \\\n",
      "369            1                0           1           0        Laborers   \n",
      "954            1                0           1           0  Security staff   \n",
      "1718           1                0           0           0        Laborers   \n",
      "1755           1                0           0           0        Laborers   \n",
      "1790           1                0           0           0        Laborers   \n",
      "\n",
      "      CNT_FAM_MEMBERS  MONTHS_BALANCE  STATUS  \n",
      "369                 2               0     NaN  \n",
      "954                 2               0     0.0  \n",
      "1718                1               0     NaN  \n",
      "1755                1               0     NaN  \n",
      "1790                1               0     NaN  \n"
     ]
    },
    {
     "name": "stderr",
     "output_type": "stream",
     "text": [
      "C:\\Users\\LENOVO\\AppData\\Local\\Temp\\ipykernel_9708\\1183023410.py:6: FutureWarning: A value is trying to be set on a copy of a DataFrame or Series through chained assignment using an inplace method.\n",
      "The behavior will change in pandas 3.0. This inplace method will never work because the intermediate object on which we are setting values always behaves as a copy.\n",
      "\n",
      "For example, when doing 'df[col].method(value, inplace=True)', try using 'df.method({col: value}, inplace=True)' or df[col] = df[col].method(value) instead, to perform the operation inplace on the original object.\n",
      "\n",
      "\n",
      "  df['STATUS'].replace(to_replace={\"C\",\"X\",0},value=0, inplace=True)\n",
      "C:\\Users\\LENOVO\\AppData\\Local\\Temp\\ipykernel_9708\\1183023410.py:42: FutureWarning: A value is trying to be set on a copy of a DataFrame or Series through chained assignment using an inplace method.\n",
      "The behavior will change in pandas 3.0. This inplace method will never work because the intermediate object on which we are setting values always behaves as a copy.\n",
      "\n",
      "For example, when doing 'df[col].method(value, inplace=True)', try using 'df.method({col: value}, inplace=True)' or df[col] = df[col].method(value) instead, to perform the operation inplace on the original object.\n",
      "\n",
      "\n",
      "  df_final['y'].replace(to_replace=np.nan,value=0, inplace=True)\n"
     ]
    }
   ],
   "source": [
    "# ---- provide your code here -----\n",
    "\n",
    "#Question 2.1\n",
    "\n",
    "#Method 1: Using replace\n",
    "df['STATUS'].replace(to_replace={\"C\",\"X\",0},value=0, inplace=True)\n",
    "df['STATUS'].replace(to_replace=list(range(1,6)),value=1, inplace=True)\n",
    "df['STATUS']\n",
    "\n",
    "#Medthod 2: Using map\n",
    "status_mapping={'C':0,'X':0, '0':0, '1':1,'2':1,'3':1,'4':1,'5':1}\n",
    "df['STATUS']=df['STATUS'].map(status_mapping)\n",
    "\n",
    "\n",
    "#Question 2.2\n",
    "\n",
    "import numpy as np\n",
    "list_of_past_due = df['ID'][(df['STATUS'] == 1) & (df['MONTHS_BALANCE'] > -12)].to_numpy()\n",
    "print(list_of_past_due)\n",
    "\n",
    "#QUestion 2.3\n",
    "\n",
    "df_final = df[df['ID'].isin(list_of_past_due)].drop_duplicates(subset='ID', keep='first')\n",
    "\n",
    "print(df_final.head())\n",
    "\n",
    "#Question 2.4\n",
    "\n",
    "df_final['y'] = 1\n",
    "df_final.head()\n",
    "\n",
    "#Question 2.5\n",
    "\n",
    "#creating a subarray that contains the rows of `df` for which the `ID` is NOT in `list_of_past_due`, keeping only one row for each `ID`\n",
    "df_sub = df[~df['ID'].isin(list_of_past_due)].drop_duplicates(subset='ID', keep='first')\n",
    "df_sub=df_sub.head(4500-len(list_of_past_due))\n",
    "df_final=pd.concat([df_final,df_sub],ignore_index=True)\n",
    "\n",
    "#Question 2.6\n",
    "\n",
    "df_final.drop([\"STATUS\",\"MONTHS_BALANCE\"], axis='columns', inplace=True)  #remove STATUS AND MONTHS_BALANCE FROM DF_FINALS\n",
    "df_final['y'].replace(to_replace=np.nan,value=0, inplace=True)\n",
    "\n",
    "\n",
    "\n",
    "\n",
    "\n"
   ]
  },
  {
   "cell_type": "markdown",
   "metadata": {},
   "source": [
    "---- provide your written answer here ----\n"
   ]
  },
  {
   "cell_type": "markdown",
   "metadata": {},
   "source": [
    "<hr style=\"width:25%;margin-left:0;\"> \n",
    "\n",
    "**Question 3**. \n",
    "1. Delete `ID` column from `df_final` and reset its index. (1 marks)\n",
    "2. Assuming that `NAME_EDUCATION_TYPE` is the only ordinal variable in `df_final`, which variables are numeric and which ones are nominal? Answer this question by copying and completing the following table (6 marks)\n",
    "\n",
    "|Variable type|Numbers of features|Features' list|\n",
    "| --- | --- | --- |\n",
    "|Numeric:|||\n",
    "|Ordinal:|1| NAME_EDUCATION_TYPE |\n",
    "|Nominal:|||\n",
    "\n",
    "3. Using appropriate functions find and comment on the missing values in `df_final` (3 marks)   \n",
    "\n",
    "(10 marks)"
   ]
  },
  {
   "cell_type": "code",
   "execution_count": 3,
   "metadata": {},
   "outputs": [
    {
     "name": "stdout",
     "output_type": "stream",
     "text": [
      "Missing Values: \n",
      " ID                       0\n",
      "CODE_GENDER              0\n",
      "FLAG_OWN_CAR             0\n",
      "FLAG_OWN_REALTY          0\n",
      "AMT_INCOME               0\n",
      "NAME_INCOME_TYPE         0\n",
      "NAME_HOUSING_TYPE        0\n",
      "NAME_FAMILY_STATUS       0\n",
      "FLAG_MOBIL               0\n",
      "FLAG_WORK_PHONE          0\n",
      "DAYS_BIRTH               0\n",
      "DAYS_EMPLOYED            0\n",
      "FLAG_PHONE               0\n",
      "FLAG_EMAIL               0\n",
      "y                        0\n",
      "CNT_FAM_MEMBERS          0\n",
      "CNT_CHILDREN            74\n",
      "OCCUPATION_TYPE        637\n",
      "NAME_EDUCATION_TYPE    694\n",
      "dtype: int64\n"
     ]
    }
   ],
   "source": [
    "# ---- provide your code here ----\n",
    "#3.1\n",
    "df_final.drop(\"ID\", axis='columns')\n",
    "\n",
    "#3.3\n",
    "df_final.isnull() #print data rows containing NULL values\n",
    "print('Missing Values: \\n',df_final.isnull().sum().sort_values()) #find number of Null values for each cloumn\n",
    "\n"
   ]
  },
  {
   "cell_type": "markdown",
   "metadata": {},
   "source": [
    "---- provide your written answer here ----\n",
    "\n",
    "3.2\n",
    "\n",
    "|Variable type|Numbers of features|Features' list|\n",
    "| --- | --- | --- |\n",
    "|Numeric:|5| CNT_CHILDREN, AMT_INCOME, DAYS_BIRTH, DAYS_EMPLOYED, CNT_FAM_MEMBERS |\n",
    "|Ordinal:|1| NAME_EDUCATION_TYPE |\n",
    "|Nominal:|12| CODE_GENDER, FLAG_OWN_CAR, FLAG_OWN_REALITY, NAME_INCOME_TYPE, NAME_FAMILY_STATUS, NAME_HOUSING_TYPE, OCCUPATION_TYPE, FLAG_MOBIL, FLAG_WORK_PHONE, FLAG_PHONE, FLAG_EMAIL, y|"
   ]
  },
  {
   "cell_type": "markdown",
   "metadata": {},
   "source": [
    "---\n",
    "---\n",
    "\n",
    "### Task 2: Imputing missing values and dealing with categorical features (Total Marks: 30)\n",
    "\n"
   ]
  },
  {
   "cell_type": "markdown",
   "metadata": {},
   "source": [
    "**Question 4.** \n",
    "1. Use an appropriate `pandas` function to impute missing values in `df_final` (15 marks)\n",
    "    - Take into consideration the type of each variable and the best practices we discussed in class/lecture notes\n",
    "\n",
    "(Total: 15 marks)"
   ]
  },
  {
   "cell_type": "code",
   "execution_count": 4,
   "metadata": {},
   "outputs": [
    {
     "name": "stderr",
     "output_type": "stream",
     "text": [
      "C:\\Users\\LENOVO\\AppData\\Local\\Temp\\ipykernel_9708\\1406477015.py:3: FutureWarning: A value is trying to be set on a copy of a DataFrame or Series through chained assignment using an inplace method.\n",
      "The behavior will change in pandas 3.0. This inplace method will never work because the intermediate object on which we are setting values always behaves as a copy.\n",
      "\n",
      "For example, when doing 'df[col].method(value, inplace=True)', try using 'df.method({col: value}, inplace=True)' or df[col] = df[col].method(value) instead, to perform the operation inplace on the original object.\n",
      "\n",
      "\n",
      "  df_final['CNT_CHILDREN'].fillna(df_final['CNT_CHILDREN'].median(axis=0),inplace=True)\n",
      "C:\\Users\\LENOVO\\AppData\\Local\\Temp\\ipykernel_9708\\1406477015.py:4: FutureWarning: A value is trying to be set on a copy of a DataFrame or Series through chained assignment using an inplace method.\n",
      "The behavior will change in pandas 3.0. This inplace method will never work because the intermediate object on which we are setting values always behaves as a copy.\n",
      "\n",
      "For example, when doing 'df[col].method(value, inplace=True)', try using 'df.method({col: value}, inplace=True)' or df[col] = df[col].method(value) instead, to perform the operation inplace on the original object.\n",
      "\n",
      "\n",
      "  df_final['NAME_EDUCATION_TYPE'].fillna(df_final['NAME_EDUCATION_TYPE'].mode()[0],inplace=True)\n",
      "C:\\Users\\LENOVO\\AppData\\Local\\Temp\\ipykernel_9708\\1406477015.py:5: FutureWarning: A value is trying to be set on a copy of a DataFrame or Series through chained assignment using an inplace method.\n",
      "The behavior will change in pandas 3.0. This inplace method will never work because the intermediate object on which we are setting values always behaves as a copy.\n",
      "\n",
      "For example, when doing 'df[col].method(value, inplace=True)', try using 'df.method({col: value}, inplace=True)' or df[col] = df[col].method(value) instead, to perform the operation inplace on the original object.\n",
      "\n",
      "\n",
      "  df_final['OCCUPATION_TYPE'].fillna(df_final['OCCUPATION_TYPE'].mode()[0],inplace=True)\n"
     ]
    }
   ],
   "source": [
    "# ---- provide your code here -----\n",
    "#replace NULL valies using scikit libraries\n",
    "df_final['CNT_CHILDREN'].fillna(df_final['CNT_CHILDREN'].median(axis=0),inplace=True)\n",
    "df_final['NAME_EDUCATION_TYPE'].fillna(df_final['NAME_EDUCATION_TYPE'].mode()[0],inplace=True)\n",
    "df_final['OCCUPATION_TYPE'].fillna(df_final['OCCUPATION_TYPE'].mode()[0],inplace=True)"
   ]
  },
  {
   "cell_type": "markdown",
   "metadata": {},
   "source": [
    "<hr style=\"width:25%;margin-left:0;\"> \n",
    "\n",
    "**Question 5**. Convert the values in `NAME_EDUCATION_TYPE` as follows\n",
    "- Lower secondary -> 1\n",
    "- Secondary / secondary special -> 2\n",
    "- Incomplete higher -> 3\n",
    "- Higher education -> 4\n",
    "\n",
    "\n",
    "(Total: 5 marks)  "
   ]
  },
  {
   "cell_type": "code",
   "execution_count": 5,
   "metadata": {},
   "outputs": [],
   "source": [
    "# ---- provide your code here -----\n",
    "\n",
    "df_final['NAME_EDUCATION_TYPE'].replace(to_replace=\"Lower Secondary\",value=1, inplace=True)\n",
    "df_final['NAME_EDUCATION_TYPE'].replace(to_replace=\"Secondary / secondary special\",value=2, inplace=True)\n",
    "df_final['NAME_EDUCATION_TYPE'].replace(to_replace=\"Incomplete higher\",value=3, inplace=True)\n",
    "df_final['NAME_EDUCATION_TYPE'].replace(to_replace=\"Higher education\",value=4, inplace=True)"
   ]
  },
  {
   "cell_type": "markdown",
   "metadata": {},
   "source": [
    "<hr style=\"width:25%;margin-left:0;\"> \n",
    "\n",
    "**Question 6**. \n",
    "\n",
    "Add dummy variables to `df_final` for all of the nominal features which are currently stored as string (text). \n",
    "- Make sure to delete the original variables from the dataframe\n",
    "- Drop the first column from each set of created dummy variable, i.e. for each feature\n",
    "\n",
    "\n",
    "\n",
    "(Total: 10 marks)  "
   ]
  },
  {
   "cell_type": "code",
   "execution_count": 6,
   "metadata": {},
   "outputs": [],
   "source": [
    "# ---- provide your code here -\n",
    "list_of_heading=df_final.columns\n",
    "for i in list_of_heading:\n",
    "    if df_final[i].dtype=='object':\n",
    "        one_hot = pd.get_dummies(df_final[[i]], dtype = int, drop_first = True)\n",
    "        df_final.drop(i,axis='columns',inplace=True)\n",
    "        df_final=df_final.join(one_hot)"
   ]
  },
  {
   "cell_type": "markdown",
   "metadata": {},
   "source": [
    "---\n",
    "---\n",
    "\n",
    "### Task 3 Preparing X and y arrays (Total Marks: 10)"
   ]
  },
  {
   "cell_type": "markdown",
   "metadata": {},
   "source": [
    "**Question 7**. \n",
    "\n",
    "1. Create a numpy array named `y` from the `y` column of `df_final` making sure that the values of the array `y` are stored as integers (3 marks)   \n",
    "2. Create a numpy array named `X`  from all the remaining features in `df_final` (2 marks)   \n",
    "\n",
    "(Total: 5 Marks)"
   ]
  },
  {
   "cell_type": "code",
   "execution_count": 34,
   "metadata": {},
   "outputs": [
    {
     "data": {
      "text/plain": [
       "array([[5.008831e+06, 0.000000e+00, 1.575000e+05, ..., 0.000000e+00,\n",
       "        0.000000e+00, 0.000000e+00],\n",
       "       [5.008872e+06, 0.000000e+00, 3.600000e+05, ..., 0.000000e+00,\n",
       "        1.000000e+00, 0.000000e+00],\n",
       "       [5.008912e+06, 0.000000e+00, 2.970000e+05, ..., 0.000000e+00,\n",
       "        0.000000e+00, 0.000000e+00],\n",
       "       ...,\n",
       "       [5.009665e+06, 0.000000e+00, 1.260000e+05, ..., 0.000000e+00,\n",
       "        0.000000e+00, 0.000000e+00],\n",
       "       [5.009666e+06, 0.000000e+00, 1.260000e+05, ..., 0.000000e+00,\n",
       "        0.000000e+00, 0.000000e+00],\n",
       "       [5.009668e+06, 0.000000e+00, 1.260000e+05, ..., 0.000000e+00,\n",
       "        0.000000e+00, 0.000000e+00]])"
      ]
     },
     "execution_count": 34,
     "metadata": {},
     "output_type": "execute_result"
    }
   ],
   "source": [
    "# ---- provide your code here -----\n",
    "\n",
    "#7.1\n",
    "y = df_final['y'].astype(int).values\n",
    "\n",
    "#7.2\n",
    "X = df_final.drop(columns=['y']).values\n",
    "X"
   ]
  },
  {
   "cell_type": "markdown",
   "metadata": {},
   "source": [
    "<hr style=\"width:25%;margin-left:0;\"> \n",
    "\n",
    "**Question 8**. \n",
    "\n",
    "1. Use an appropriate scikit-learn library we used in class to create `y_train`, `y_test`, `X_train` and `X_test` by splitting the data into 75% train and 25% test datasets (2.5 marks) \n",
    "    - Set random_state to 8 and stratify the subsamples so that train and test datasets have roughly equal proportions of the target's class labels \n",
    "2. Standardise the data using `StandardScaler` library (2.5 marks)   \n",
    "\n",
    "(Total: 5 marks) "
   ]
  },
  {
   "cell_type": "code",
   "execution_count": 48,
   "metadata": {},
   "outputs": [
    {
     "name": "stdout",
     "output_type": "stream",
     "text": [
      "[0 1 1 ... 1 1 1]\n",
      "[1 1 1 0 1 1 1 1 1 0 0 1 0 1 0 0 1 1 0 1 0 1 1 1 1 1 1 1 0 0 1 1 0 1 1 0 1\n",
      " 0 1 1 0 0 1 1 0 1 0 1 1 1 1 1 1 1 0 1 1 0 1 1 0 1 1 1 0 1 0 0 1 0 1 1 1 1\n",
      " 0 1 1 1 1 1 0 1 1 1 0 1 1 1 1 1 1 1 1 1 1 0 1 1 0 1 1 1 1 1 1 1 1 0 0 1 0\n",
      " 0 1 1 0 0 1 1 1 1 0 1 1 1 1 1 0 1 1 1 1 0 1 1 0 1 0 0 1 1 1 0 1 1 1 1 1 0\n",
      " 0 1 1 1 0 1 1 0 1 0 1 0 1 1 0 0 1 1 1 1 1 1 1 0 0 1 1 1 1 1 1 0 1 1 1 1 1\n",
      " 1 1 1 1 1 0 0 1 1 1 1 0 1 1 1 1 0 1 1 0 1 0 1 1 1 1 0 1 0 1 1 1 1 1 1 0 0\n",
      " 1 1 1 1 1 1 1 1 1 1 1 1 1 1 1 1 1 1 1 1 1 0 1 1 0 0 1 1 0 1 0 1 1 0 0 1 1\n",
      " 1 1 0 1 1 1 0 1 1 0 1 1 0 0 0 1 0 1 0 1 1 1 0 1 1 0 0 1 1 1 1 1 1 0 0 1 1\n",
      " 1 1 1 1 1 1 1 1 0 1 0 0 1 0 1 1 1 0 1 1 1 1 0 1 1 0 1 0 0 1 1 0 1 1 0 1 1\n",
      " 1 1 1 1 0 1 1 1 1 1 1 1 1 0 1 1 1 1 1 1 1 0 1 1 1 0 1 1 1 1 1 0 1 1 0 1 0\n",
      " 1 0 1 0 1 1 0 1 1 1 1 1 1 0 1 0 1 1 1 1 1 1 0 1 1 0 1 1 1 0 1 1 1 1 1 1 1\n",
      " 0 1 0 1 1 1 1 0 0 1 0 0 1 0 1 1 0 1 0 1 0 1 1 1 0 1 1 1 1 0 0 1 0 1 0 1 1\n",
      " 1 1 0 1 1 1 1 0 1 1 1 0 1 1 1 1 1 1 1 1 1 1 1 1 1 1 1 0 0 1 1 1 1 1 1 0 0\n",
      " 1 0 1 1 1 0 0 1 1 1 1 0 1 1 1 1 1 1 0 1 0 1 0 1 0 1 1 1 0 0 1 1 1 1 0 1 1\n",
      " 1 0 1 1 1 1 1 0 0 1 1 1 1 1 1 1 0 0 1 1 1 1 1 1 0 0 1 0 1 0 0 0 1 0 1 1 1\n",
      " 1 1 1 1 1 1 0 1 1 1 1 0 1 0 0 0 1 1 1 0 0 1 1 1 1 1 1 1 1 1 1 1 1 1 1 0 1\n",
      " 0 1 1 1 1]\n",
      "means: [5059971.003       0.378  193969.081  -15516.323   44449.498       1.\n",
      "       0.247       0.326       0.113       2.15        0.342       0.356\n",
      "       0.57        0.132       0.091       0.001       0.511       0.036\n",
      "       0.184       0.002       0.655       0.061       0.154       0.031\n",
      "       0.855       0.03        0.008       0.044       0.057       0.022\n",
      "       0.02        0.1         0.074       0.003       0.035       0.003\n",
      "       0.457       0.007       0.094       0.025       0.003       0.002\n",
      "       0.088       0.005       0.019       0.003] [-0. -0. -0.  0.  0.  0. -0.  0. -0. -0.  0. -0.  0. -0. -0. -0.  0.  0.\n",
      "  0.  0.  0. -0. -0.  0. -0.  0.  0. -0. -0.  0. -0.  0. -0. -0. -0. -0.\n",
      "  0.  0.  0. -0.  0.  0. -0.  0. -0. -0.]\n",
      "sigmas [ 46334.434      0.82  105264.      4096.837 122889.202      0.\n",
      "      0.432      0.469      0.316      0.981      0.475      0.479\n",
      "      0.495      0.339      0.288      0.024      0.5        0.187\n",
      "      0.388      0.047      0.475      0.24       0.361      0.173\n",
      "      0.352      0.17       0.088      0.205      0.232      0.146\n",
      "      0.138      0.3        0.262      0.058      0.183      0.058\n",
      "      0.498      0.085      0.292      0.157      0.053      0.041\n",
      "      0.284      0.071      0.137      0.058] [1. 1. 1. 1. 1. 0. 1. 1. 1. 1. 1. 1. 1. 1. 1. 1. 1. 1. 1. 1. 1. 1. 1. 1.\n",
      " 1. 1. 1. 1. 1. 1. 1. 1. 1. 1. 1. 1. 1. 1. 1. 1. 1. 1. 1. 1. 1. 1.]\n",
      "means: [5061589.147       0.332  194299.945  -15680.457   53387.022       1.\n",
      "       0.236       0.327       0.111       2.101       0.365       0.357\n",
      "       0.551       0.154       0.112       0.          0.486       0.03\n",
      "       0.184       0.008       0.663       0.044       0.189       0.025\n",
      "       0.859       0.039       0.005       0.032       0.06        0.02\n",
      "       0.02        0.107       0.072       0.002       0.054       0.002\n",
      "       0.454       0.003       0.085       0.044       0.007       0.002\n",
      "       0.07        0.002       0.018       0.007] [ 0.035 -0.057  0.003 -0.04   0.073  0.    -0.026  0.002 -0.007 -0.051\n",
      "  0.048  0.001 -0.039  0.064  0.074 -0.024 -0.05  -0.033 -0.     0.13\n",
      "  0.018 -0.075  0.097 -0.032  0.011  0.053 -0.032 -0.06   0.014 -0.012\n",
      "  0.004  0.024 -0.009 -0.029  0.104 -0.029 -0.006 -0.046 -0.029  0.118\n",
      "  0.074 -0.    -0.063 -0.047 -0.004  0.058]\n",
      "sigmas [ 47541.007      0.648 107208.775   4145.956 132269.881      0.\n",
      "      0.425      0.469      0.314      0.862      0.481      0.479\n",
      "      0.497      0.361      0.316      0.         0.5        0.171\n",
      "      0.388      0.091      0.473      0.204      0.392      0.157\n",
      "      0.348      0.192      0.071      0.176      0.238      0.14\n",
      "      0.14       0.309      0.259      0.041      0.225      0.041\n",
      "      0.498      0.058      0.28       0.204      0.082      0.041\n",
      "      0.256      0.041      0.134      0.082] [1.026 0.79  1.018 1.012 1.076 0.    0.984 1.001 0.991 0.879 1.015 1.\n",
      " 1.005 1.065 1.097 0.    1.    0.914 1.    1.93  0.994 0.85  1.085 0.907\n",
      " 0.988 1.135 0.803 0.855 1.027 0.961 1.014 1.031 0.986 0.708 1.232 0.708\n",
      " 0.999 0.681 0.958 1.304 1.546 1.    0.901 0.578 0.985 1.411]\n"
     ]
    }
   ],
   "source": [
    "# ---- provide your code here -----\n",
    "#8.1\n",
    "from sklearn.model_selection import train_test_split\n",
    "\n",
    "X_train, X_test, y_train, y_test = train_test_split(X, y, test_size = 0.25, random_state = 8, stratify = y)\n",
    "print(y_train)\n",
    "print(y_test)\n",
    "\n",
    "#8.2\n",
    "from sklearn.preprocessing import StandardScaler\n",
    "np.set_printoptions(precision=3, suppress = True) # pretty printing\n",
    "\n",
    "sc = StandardScaler()\n",
    "\n",
    "sc.fit(X_train)\n",
    "\n",
    "X_train_scaled = sc.transform(X_train)\n",
    "print('means:', X_train.mean(axis=0), X_train_scaled.mean(axis=0))\n",
    "print('sigmas', X_train.std(axis=0), X_train_scaled.std(axis=0))\n",
    "\n",
    "X_test_scaled = sc.transform(X_test)\n",
    "print('means:', X_test.mean(axis=0), X_test_scaled.mean(axis=0))\n",
    "print('sigmas', X_test.std(axis=0), X_test_scaled.std(axis=0))\n"
   ]
  },
  {
   "cell_type": "markdown",
   "metadata": {},
   "source": [
    "---\n",
    "---\n",
    "\n",
    "### Task 4. Logistic Regression and Random Forest Classifiers and Accuracies (Total Marks: 30)\n"
   ]
  },
  {
   "cell_type": "markdown",
   "metadata": {},
   "source": [
    "**Question 9**. \n",
    "\n",
    "1. Train a Logistic Regression Classifier on standardised data (5 marks)\n",
    "    - Set `random_state` to 10 (don't change any other parameters)\n",
    "    - Compute and print training and test dataset accuracies   \n",
    "2. Train a Random Forest Classifier on standardised data (5 marks)\n",
    "    - Set `random_state` to 10 (don't change any other parameters)\n",
    "    - Compute and print training and test dataset accuracies\n",
    "\n",
    "When printing accuracies round the values to three decimal places.      \n",
    "\n",
    "(Total: 10 marks)  "
   ]
  },
  {
   "cell_type": "code",
   "execution_count": 49,
   "metadata": {},
   "outputs": [],
   "source": [
    "# ---- provide your code here -----\n"
   ]
  },
  {
   "cell_type": "code",
   "execution_count": 50,
   "metadata": {},
   "outputs": [
    {
     "name": "stdout",
     "output_type": "stream",
     "text": [
      "Accuracy for training dataset = 0.965\n",
      "Accuracy for test dataset = 0.948\n"
     ]
    },
    {
     "name": "stderr",
     "output_type": "stream",
     "text": [
      "d:\\Macquarie\\Term 2-2024\\BUSA 8001 Applied Predictive Analytics\\BUSA8001\\.venv\\Lib\\site-packages\\sklearn\\linear_model\\_logistic.py:1256: FutureWarning: 'multi_class' was deprecated in version 1.5 and will be removed in 1.7. Use OneVsRestClassifier(LogisticRegression(..)) instead. Leave it to its default value to avoid this warning.\n",
      "  warnings.warn(\n"
     ]
    }
   ],
   "source": [
    "#9.1\n",
    "\n",
    "#training logistic model\n",
    "from sklearn.linear_model import LogisticRegression\n",
    "lr = LogisticRegression(C=100.0, random_state=10, solver='lbfgs', multi_class='ovr') \n",
    "lr.fit(X_train_scaled, y_train)\n",
    "\n",
    "#printing accuracy\n",
    "print(f'Accuracy for training dataset = {lr.score(X_train_scaled, y_train):.3f}')\n",
    "print(f'Accuracy for test dataset = {lr.score(X_test_scaled, y_test):.3f}')\n",
    "\n"
   ]
  },
  {
   "cell_type": "code",
   "execution_count": 52,
   "metadata": {},
   "outputs": [
    {
     "name": "stdout",
     "output_type": "stream",
     "text": [
      "Accuracy for training dataset = 0.999\n",
      "Accuracy for test dataset = 0.961\n"
     ]
    }
   ],
   "source": [
    "#9.2\n",
    "from sklearn.ensemble import RandomForestClassifier\n",
    "\n",
    "forest = RandomForestClassifier(criterion='gini', n_estimators=25, random_state=10, n_jobs=2)\n",
    "forest.fit(X_train_scaled, y_train)\n",
    "\n",
    "#printing accuracy\n",
    "print(f'Accuracy for training dataset = {forest.score(X_train_scaled, y_train):.3f}')\n",
    "print(f'Accuracy for test dataset = {forest.score(X_test_scaled, y_test):.3f}')"
   ]
  },
  {
   "cell_type": "markdown",
   "metadata": {},
   "source": [
    "**Question 10**. \n",
    "\n",
    "a) Comment and compare the training and test accuracies for each classifier computed in Question 9. What can we say about the extent of overfitting for each classifier? (5 marks)   \n",
    "b) Comment and compare the accuracies across the two classifiers. Which classifier provides better forecasts? (5 marks)   \n",
    "c) What can you say about the presence of nonlinearities in the dataset? (10 marks)   \n",
    "\n",
    "(Total: 20 marks)  "
   ]
  },
  {
   "cell_type": "markdown",
   "metadata": {},
   "source": [
    "---- provide your written answer here ----\n"
   ]
  },
  {
   "cell_type": "markdown",
   "metadata": {},
   "source": [
    "---\n",
    "---"
   ]
  }
 ],
 "metadata": {
  "kernelspec": {
   "display_name": "Python 3 (ipykernel)",
   "language": "python",
   "name": "python3"
  },
  "language_info": {
   "codemirror_mode": {
    "name": "ipython",
    "version": 3
   },
   "file_extension": ".py",
   "mimetype": "text/x-python",
   "name": "python",
   "nbconvert_exporter": "python",
   "pygments_lexer": "ipython3",
   "version": "3.12.5"
  }
 },
 "nbformat": 4,
 "nbformat_minor": 4
}
