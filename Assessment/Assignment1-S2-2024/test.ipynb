{
 "cells": [
  {
   "cell_type": "code",
   "execution_count": 2,
   "metadata": {},
   "outputs": [
    {
     "name": "stdout",
     "output_type": "stream",
     "text": [
      "There are 438445 rows in df_application\n",
      "There are 1047185 rows in df_credit\n",
      "There are 438398 unique bank clients in df_application\n",
      "There are 45924 unique bank clients in df_credit\n",
      "There are 776325 rows in df\n",
      "There are 36396 unique bank clients in df\n"
     ]
    },
    {
     "data": {
      "text/plain": [
       "array(['C', '1', '0', 'X', '5', '4', '3', '2'], dtype=object)"
      ]
     },
     "execution_count": 2,
     "metadata": {},
     "output_type": "execute_result"
    }
   ],
   "source": [
    "\n",
    "import pandas as pd\n",
    "df_application = pd.read_csv('application_record.csv',header=0)\n",
    "df_credit = pd.read_csv('credit_record.csv',header=0)\n",
    "num_of_rows_application = len(df_application)\n",
    "num_of_rows_credit = len(df_credit)\n",
    "print(f'There are {num_of_rows_application} rows in df_application')\n",
    "print(f'There are {num_of_rows_credit} rows in df_credit') \n",
    "uniq_application = df_application['ID'].nunique(dropna=False)\n",
    "print(f'There are {uniq_application} unique bank clients in df_application')\n",
    "uniq_credit = df_credit['ID'].nunique(dropna=False)\n",
    "print(f'There are {uniq_credit} unique bank clients in df_credit')\n",
    "df = pd.merge(df_application,df_credit,how=\"inner\")\n",
    "num_of_rows_df = len(df)\n",
    "print(f'There are {num_of_rows_df} rows in df')\n",
    "uniq_df = df['ID'].nunique(dropna=False)\n",
    "print(f'There are {uniq_df} unique bank clients in df')\n",
    "df['STATUS'].unique()\n"
   ]
  },
  {
   "cell_type": "code",
   "execution_count": 4,
   "metadata": {},
   "outputs": [
    {
     "name": "stdout",
     "output_type": "stream",
     "text": [
      "<class 'pandas.core.frame.DataFrame'>\n",
      "Int64Index: 776325 entries, 0 to 776324\n",
      "Data columns (total 20 columns):\n",
      " #   Column               Non-Null Count   Dtype  \n",
      "---  ------               --------------   -----  \n",
      " 0   ID                   776325 non-null  int64  \n",
      " 1   CODE_GENDER          776325 non-null  object \n",
      " 2   FLAG_OWN_CAR         776325 non-null  object \n",
      " 3   FLAG_OWN_REALTY      776325 non-null  object \n",
      " 4   CNT_CHILDREN         774800 non-null  float64\n",
      " 5   AMT_INCOME           776325 non-null  float64\n",
      " 6   NAME_INCOME_TYPE     776325 non-null  object \n",
      " 7   NAME_EDUCATION_TYPE  737566 non-null  object \n",
      " 8   NAME_FAMILY_STATUS   776325 non-null  object \n",
      " 9   NAME_HOUSING_TYPE    776325 non-null  object \n",
      " 10  DAYS_BIRTH           776325 non-null  int64  \n",
      " 11  DAYS_EMPLOYED        776325 non-null  int64  \n",
      " 12  FLAG_MOBIL           776325 non-null  int64  \n",
      " 13  FLAG_WORK_PHONE      776325 non-null  int64  \n",
      " 14  FLAG_PHONE           776325 non-null  int64  \n",
      " 15  FLAG_EMAIL           776325 non-null  int64  \n",
      " 16  OCCUPATION_TYPE      536655 non-null  object \n",
      " 17  CNT_FAM_MEMBERS      776325 non-null  int64  \n",
      " 18  MONTHS_BALANCE       776325 non-null  int64  \n",
      " 19  STATUS               776325 non-null  object \n",
      "dtypes: float64(2), int64(9), object(9)\n",
      "memory usage: 124.4+ MB\n"
     ]
    }
   ],
   "source": [
    "df.info()"
   ]
  },
  {
   "cell_type": "code",
   "execution_count": 5,
   "metadata": {},
   "outputs": [
    {
     "name": "stdout",
     "output_type": "stream",
     "text": [
      "{'C': 0, 'X': 0, '0': 0, '1': 1, '2': 1, '3': 1, '4': 1, '5': 1} <class 'dict'>\n",
      "{'C': 0, 'X': 0, '0': 0, '1': 1, '2': 1, '3': 1, '4': 1, '5': 1} <class 'dict'>\n",
      "There are 3850 rows in list_of_past_due\n"
     ]
    },
    {
     "data": {
      "text/plain": [
       "array([[5008831, 'F', 'N', ..., 2, -5, 1],\n",
       "       [5008831, 'F', 'N', ..., 2, -8, 1],\n",
       "       [5008872, 'M', 'Y', ..., 2, -8, 1],\n",
       "       ...,\n",
       "       [5150049, 'F', 'N', ..., 2, -1, 1],\n",
       "       [5150337, 'M', 'N', ..., 1, -10, 1],\n",
       "       [5150337, 'M', 'N', ..., 1, -11, 1]], dtype=object)"
      ]
     },
     "execution_count": 5,
     "metadata": {},
     "output_type": "execute_result"
    }
   ],
   "source": [
    "STATUS_mapping = {'C':0,'X':0,'0':0, '1':1,'2':1,'3':1,'4':1,'5':1}\n",
    "print(STATUS_mapping, type(STATUS_mapping))\n",
    "df['STATUS'] = df['STATUS'].map(STATUS_mapping)\n",
    "print(STATUS_mapping, type(STATUS_mapping))\n",
    "df['STATUS'].info\n",
    "list_of_past_due = df.loc[(df['STATUS']==1) & (df['MONTHS_BALANCE']>-12)].values\n",
    "num_list_of_past_due = len(list_of_past_due)\n",
    "print(f'There are {num_list_of_past_due} rows in list_of_past_due')\n",
    "list_of_past_due\n"
   ]
  },
  {
   "cell_type": "code",
   "execution_count": 6,
   "metadata": {},
   "outputs": [
    {
     "ename": "ValueError",
     "evalue": "Buffer has wrong number of dimensions (expected 1, got 2)",
     "output_type": "error",
     "traceback": [
      "\u001b[1;31m---------------------------------------------------------------------------\u001b[0m",
      "\u001b[1;31mValueError\u001b[0m                                Traceback (most recent call last)",
      "Cell \u001b[1;32mIn[6], line 1\u001b[0m\n\u001b[1;32m----> 1\u001b[0m df_final \u001b[38;5;241m=\u001b[39m df[\u001b[43mdf\u001b[49m\u001b[43m[\u001b[49m\u001b[38;5;124;43m'\u001b[39;49m\u001b[38;5;124;43mID\u001b[39;49m\u001b[38;5;124;43m'\u001b[39;49m\u001b[43m]\u001b[49m\u001b[38;5;241;43m.\u001b[39;49m\u001b[43misin\u001b[49m\u001b[43m(\u001b[49m\u001b[43mlist_of_past_due\u001b[49m\u001b[43m)\u001b[49m]\u001b[38;5;241m.\u001b[39mdrop_duplicates(subset\u001b[38;5;241m=\u001b[39m\u001b[38;5;124m'\u001b[39m\u001b[38;5;124mID\u001b[39m\u001b[38;5;124m'\u001b[39m, keep\u001b[38;5;241m=\u001b[39m\u001b[38;5;124m'\u001b[39m\u001b[38;5;124mfirst\u001b[39m\u001b[38;5;124m'\u001b[39m)\n",
      "File \u001b[1;32m~\\AppData\\Local\\Packages\\PythonSoftwareFoundation.Python.3.10_qbz5n2kfra8p0\\LocalCache\\local-packages\\Python310\\site-packages\\pandas\\core\\series.py:5563\u001b[0m, in \u001b[0;36mSeries.isin\u001b[1;34m(self, values)\u001b[0m\n\u001b[0;32m   5490\u001b[0m \u001b[38;5;28;01mdef\u001b[39;00m \u001b[38;5;21misin\u001b[39m(\u001b[38;5;28mself\u001b[39m, values) \u001b[38;5;241m-\u001b[39m\u001b[38;5;241m>\u001b[39m Series:\n\u001b[0;32m   5491\u001b[0m \u001b[38;5;250m    \u001b[39m\u001b[38;5;124;03m\"\"\"\u001b[39;00m\n\u001b[0;32m   5492\u001b[0m \u001b[38;5;124;03m    Whether elements in Series are contained in `values`.\u001b[39;00m\n\u001b[0;32m   5493\u001b[0m \n\u001b[1;32m   (...)\u001b[0m\n\u001b[0;32m   5561\u001b[0m \u001b[38;5;124;03m    dtype: bool\u001b[39;00m\n\u001b[0;32m   5562\u001b[0m \u001b[38;5;124;03m    \"\"\"\u001b[39;00m\n\u001b[1;32m-> 5563\u001b[0m     result \u001b[38;5;241m=\u001b[39m \u001b[43malgorithms\u001b[49m\u001b[38;5;241;43m.\u001b[39;49m\u001b[43misin\u001b[49m\u001b[43m(\u001b[49m\u001b[38;5;28;43mself\u001b[39;49m\u001b[38;5;241;43m.\u001b[39;49m\u001b[43m_values\u001b[49m\u001b[43m,\u001b[49m\u001b[43m \u001b[49m\u001b[43mvalues\u001b[49m\u001b[43m)\u001b[49m\n\u001b[0;32m   5564\u001b[0m     \u001b[38;5;28;01mreturn\u001b[39;00m \u001b[38;5;28mself\u001b[39m\u001b[38;5;241m.\u001b[39m_constructor(result, index\u001b[38;5;241m=\u001b[39m\u001b[38;5;28mself\u001b[39m\u001b[38;5;241m.\u001b[39mindex)\u001b[38;5;241m.\u001b[39m__finalize__(\n\u001b[0;32m   5565\u001b[0m         \u001b[38;5;28mself\u001b[39m, method\u001b[38;5;241m=\u001b[39m\u001b[38;5;124m\"\u001b[39m\u001b[38;5;124misin\u001b[39m\u001b[38;5;124m\"\u001b[39m\n\u001b[0;32m   5566\u001b[0m     )\n",
      "File \u001b[1;32m~\\AppData\\Local\\Packages\\PythonSoftwareFoundation.Python.3.10_qbz5n2kfra8p0\\LocalCache\\local-packages\\Python310\\site-packages\\pandas\\core\\algorithms.py:527\u001b[0m, in \u001b[0;36misin\u001b[1;34m(comps, values)\u001b[0m\n\u001b[0;32m    524\u001b[0m     comps_array \u001b[38;5;241m=\u001b[39m comps_array\u001b[38;5;241m.\u001b[39mastype(common, copy\u001b[38;5;241m=\u001b[39m\u001b[38;5;28;01mFalse\u001b[39;00m)\n\u001b[0;32m    525\u001b[0m     f \u001b[38;5;241m=\u001b[39m htable\u001b[38;5;241m.\u001b[39mismember\n\u001b[1;32m--> 527\u001b[0m \u001b[38;5;28;01mreturn\u001b[39;00m \u001b[43mf\u001b[49m\u001b[43m(\u001b[49m\u001b[43mcomps_array\u001b[49m\u001b[43m,\u001b[49m\u001b[43m \u001b[49m\u001b[43mvalues\u001b[49m\u001b[43m)\u001b[49m\n",
      "File \u001b[1;32mpandas\\_libs\\hashtable_func_helper.pxi:2253\u001b[0m, in \u001b[0;36mpandas._libs.hashtable.__pyx_fuse_10ismember\u001b[1;34m()\u001b[0m\n",
      "\u001b[1;31mValueError\u001b[0m: Buffer has wrong number of dimensions (expected 1, got 2)"
     ]
    }
   ],
   "source": [
    "df_final = df[df['ID'].isin(list_of_past_due)].drop_duplicates(subset='ID', keep='first')"
   ]
  }
 ],
 "metadata": {
  "kernelspec": {
   "display_name": "Python 3",
   "language": "python",
   "name": "python3"
  },
  "language_info": {
   "codemirror_mode": {
    "name": "ipython",
    "version": 3
   },
   "file_extension": ".py",
   "mimetype": "text/x-python",
   "name": "python",
   "nbconvert_exporter": "python",
   "pygments_lexer": "ipython3",
   "version": "3.10.11"
  }
 },
 "nbformat": 4,
 "nbformat_minor": 2
}
