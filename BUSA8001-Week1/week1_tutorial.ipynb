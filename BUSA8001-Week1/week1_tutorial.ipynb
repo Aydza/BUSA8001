{
 "cells": [
  {
   "cell_type": "markdown",
   "metadata": {},
   "source": [
    "# Week 1 Tutorial/Computer Lab {-}\n",
    "\n",
    "\n",
    "### Unit Convenor & Lecturer {-}\n",
    "[George Milunovich](https://www.georgemilunovich.com)  \n",
    "[george.milunovich@mq.edu.au](mailto:george.milunovich@mq.edu.au)\n",
    "\n"
   ]
  },
  {
   "cell_type": "markdown",
   "metadata": {},
   "source": [
    "---\n",
    "\n",
    "**Objectives**\n",
    " \n",
    "1. Read sample short-answer questions and answers (5 minutes)\n",
    "2. Complete Week 1 Practice Quiz (15 min)\n",
    "3. Python Tutorial\n",
    "    - Assign values to variables\n",
    "    - Explain what a library is and what libraries are used for\n",
    "    - Import a Python library and use the functions it contains\n",
    "    - Read tabular data (txt/csv/excel/etc) from a file into a program\n",
    "    - `pandas` Python libarary\n",
    "    - Default of Credit Card Clients Dataset \n",
    "    - [https://archive.ics.uci.edu/ml/datasets/default+of+credit+card+clients](https://archive.ics.uci.edu/ml/datasets/default+of+credit+card+clients)\n",
    "        - Select individual values and subsections from data\n",
    "        - Perform operations on arrays of data\n",
    "        - Plot simple graphs from data\n",
    "        - Writing Functions in Python\n",
    "        - Writing Classes in Python\n",
    "\n",
    "---"
   ]
  },
  {
   "cell_type": "markdown",
   "metadata": {},
   "source": [
    "## Variables {-}\n",
    "Any Python interpreter can be used as a calculator:\n",
    "\n",
    "Type the following into the cell below and hit Shift+Enter at the same time. It will execute\n",
    "\n",
    "```\n",
    "2 * 3 + 5 - 1\n",
    "```"
   ]
  },
  {
   "cell_type": "code",
   "execution_count": null,
   "metadata": {},
   "outputs": [],
   "source": []
  },
  {
   "cell_type": "markdown",
   "metadata": {},
   "source": [
    "In Python, we can also assign a value to a variable, using the equals sign =. For example, to assign value 60 to a variable weight_kg, we would execute:\n",
    "\n",
    "```\n",
    "weight_kg = 60\n",
    "print(weight_kg)\n",
    "```"
   ]
  },
  {
   "cell_type": "code",
   "execution_count": null,
   "metadata": {},
   "outputs": [],
   "source": []
  },
  {
   "cell_type": "markdown",
   "metadata": {},
   "source": [
    "From now on, whenever we use weight_kg, Python will substitute the value we assigned to it. In essence, a variable is just a name for a value.\n",
    "\n",
    "```\n",
    "print(weight_kg + 5)\n",
    "print(weight_kg)\n",
    "```"
   ]
  },
  {
   "cell_type": "code",
   "execution_count": null,
   "metadata": {},
   "outputs": [],
   "source": []
  },
  {
   "cell_type": "code",
   "execution_count": null,
   "metadata": {},
   "outputs": [],
   "source": []
  },
  {
   "cell_type": "markdown",
   "metadata": {},
   "source": [
    "In Python, variable names:\n",
    "\n",
    "- can include letters, digits, and underscores - `A-z, a-z, _`\n",
    "- cannot start with a digit\n",
    "- **are case sensitive**\n",
    "\n",
    "This means that, for example:\n",
    "\n",
    "`weight0` is a valid variable name, whereas `0weight` is not\n",
    "`weight` and `Weight` are different variables\n",
    "\n",
    "\n",
    "```\n",
    "Weight_kg = 1\n",
    "print(weight_kg, Weight_kg)\n",
    "\n",
    "a = 2\n",
    "A = 3\n",
    "\n",
    "print(a)\n",
    "print(A)\n",
    "```\n",
    "\n"
   ]
  },
  {
   "cell_type": "code",
   "execution_count": null,
   "metadata": {},
   "outputs": [],
   "source": []
  },
  {
   "cell_type": "code",
   "execution_count": null,
   "metadata": {},
   "outputs": [],
   "source": []
  },
  {
   "cell_type": "code",
   "execution_count": null,
   "metadata": {},
   "outputs": [],
   "source": []
  },
  {
   "cell_type": "code",
   "execution_count": null,
   "metadata": {},
   "outputs": [],
   "source": []
  },
  {
   "cell_type": "markdown",
   "metadata": {},
   "source": [
    "--- \n",
    "## Types of data {-}\n",
    "Python has a number of different types of data, however we do not need to explicitely declare the types of data. Three common data types are:\n",
    "\n",
    "- integer numbers (whole numbers)\n",
    "- floating point numbers (numbers with a decimal point)\n",
    "- strings (of characters, i.e. text)\n",
    "\n",
    "In the example above, variable `weight_kg` has an integer value of `60`. To create a variable with a floating point value, we can execute:\n",
    "\n",
    "```\n",
    "print(f'This variable is an integer: {weight_kg}')\n",
    "weight_kg = 60.0\n",
    "print(f'This variable now is a floating point number (decimal number): {weight_kg}')\n",
    "```"
   ]
  },
  {
   "cell_type": "code",
   "execution_count": null,
   "metadata": {},
   "outputs": [],
   "source": []
  },
  {
   "cell_type": "code",
   "execution_count": null,
   "metadata": {},
   "outputs": [],
   "source": []
  },
  {
   "cell_type": "code",
   "execution_count": null,
   "metadata": {},
   "outputs": [],
   "source": []
  },
  {
   "cell_type": "markdown",
   "metadata": {},
   "source": [
    "And to create a string we simply have to add single or double quotes around some text, for example:\n",
    "\n",
    "```\n",
    "weight_kg_text = 'weight in kilograms:'\n",
    "print(weight_kg_text)\n",
    "```"
   ]
  },
  {
   "cell_type": "code",
   "execution_count": null,
   "metadata": {},
   "outputs": [],
   "source": []
  },
  {
   "cell_type": "code",
   "execution_count": null,
   "metadata": {},
   "outputs": [],
   "source": []
  },
  {
   "cell_type": "markdown",
   "metadata": {},
   "source": [
    "---\n",
    "### Changing Variable Values {-}\n",
    "\n",
    "As the name implies, a variable is something which can change. Once a variable is assigned a value we can easily overwrite it by giving it another value. Try the following:\n",
    "\n",
    "```\n",
    "x1 = 10\n",
    "print(x1)\n",
    "\n",
    "x1 = 12.1\n",
    "print(x1)\n",
    "\n",
    "```"
   ]
  },
  {
   "cell_type": "code",
   "execution_count": null,
   "metadata": {},
   "outputs": [],
   "source": []
  },
  {
   "cell_type": "code",
   "execution_count": null,
   "metadata": {},
   "outputs": [],
   "source": []
  },
  {
   "cell_type": "markdown",
   "metadata": {},
   "source": [
    "#### Updating a Variable {-}\n",
    "\n",
    "Variables calculated from other variables **do not change value** just because the original variable change value (unlike cells in Excel):\n",
    "\n",
    "```\n",
    "x1 = 10\n",
    "print(f'x1 is {x1}')\n",
    "\n",
    "x2 = x1   # create variable x2 and assign it the value of x1\n",
    "print(f'x2 is {x2}')\n",
    "\n",
    "x1 = 5\n",
    "print(f'x1 is now {x1}')\n",
    "print(f'x2 is still {x2}')\n",
    "```"
   ]
  },
  {
   "cell_type": "code",
   "execution_count": null,
   "metadata": {},
   "outputs": [],
   "source": []
  },
  {
   "cell_type": "code",
   "execution_count": null,
   "metadata": {},
   "outputs": [],
   "source": []
  },
  {
   "cell_type": "code",
   "execution_count": null,
   "metadata": {},
   "outputs": [],
   "source": []
  },
  {
   "cell_type": "markdown",
   "metadata": {},
   "source": [
    "- Since `x2` doesn’t *remember* where its value comes from, it is not updated when we change `x1`. Such variables are called **immutable**, i.e. if this variable is created by assigning to it a value from another variable, then changing the value of the original variables will not change the value of the new variable (as above). \n",
    "\n",
    "- There are some variables for which this is not true, e.g. lists, which are said to be **mutable**. More on this later."
   ]
  },
  {
   "cell_type": "markdown",
   "metadata": {},
   "source": [
    "---\n",
    "## Libraries {-}\n",
    "\n",
    "Python libraries are collections of functions and methods that allow us to perform many actions without writing your code. \n",
    "\n",
    "- While some general tools are built into Python, specialized tools built up from these basic units live in *libraries* that can be called upon when needed."
   ]
  },
  {
   "attachments": {
    "image.png": {
     "image/png": "[encoded data removed]"
    }
   },
   "cell_type": "markdown",
   "metadata": {},
   "source": [
    "\n",
    "## pandas {-}\n",
    "\n",
    "pandas is a Python library written for data manipulation and analysis. It offers data structures and operations for manipulating numerical tables and time series. The name is derived from the term \"panel data\", an econometrics term for data sets that include observations over multiple time periods for the same individuals.\n",
    "\n",
    "![image.png](images/tute_pic1.png)\n",
    "\n",
    "In order to load our credit card dataset into Python, we need to access (import in Python terminology) a library data allows us to read csv or excel files. \n",
    "\n",
    "\n",
    "In general you should use this library if you want to do fancy things with numbers, especially if you have matrices or arrays. We can import `pandas` and call it by its abbreviation `pd` using:\n",
    "\n",
    "```\n",
    "import pandas as pd\n",
    "```"
   ]
  },
  {
   "cell_type": "code",
   "execution_count": null,
   "metadata": {},
   "outputs": [],
   "source": []
  },
  {
   "cell_type": "markdown",
   "metadata": {},
   "source": [
    "Lets first download the data into the data directory within the current directory, by clicking [https://archive.ics.uci.edu/ml/machine-learning-databases/00350/default%20of%20credit%20card%20clients.xls](https://archive.ics.uci.edu/ml/machine-learning-databases/00350/default%20of%20credit%20card%20clients.xls) and copying the file into the data directory\n"
   ]
  },
  {
   "cell_type": "markdown",
   "metadata": {},
   "source": [
    "Now we will import this saved excel file using the following command and assign it to the df (dataframe) variable\n",
    "\n",
    "```\n",
    "df = pd.read_excel('data/default of credit card clients.xlsx')\n",
    "\n",
    "df\n",
    "```"
   ]
  },
  {
   "cell_type": "code",
   "execution_count": 8,
   "metadata": {},
   "outputs": [],
   "source": []
  },
  {
   "cell_type": "code",
   "execution_count": null,
   "metadata": {},
   "outputs": [],
   "source": []
  },
  {
   "cell_type": "code",
   "execution_count": null,
   "metadata": {},
   "outputs": [],
   "source": []
  },
  {
   "cell_type": "markdown",
   "metadata": {},
   "source": [
    "The expression `pd.read_excel(...)` is a function call that asks Python to run the function `read_excel` which belongs to the `pandas` library that we named `pd` here. \n",
    "\n",
    "  \n",
    "This dot `.` notation is used everywhere in Python: the thing that appears before the dot contains the thing that appears after.\n",
    "\n",
    "See documentation for [read_excel](https://pandas.pydata.org/docs/reference/api/pandas.read_excel.html) method\n",
    "\n",
    "In `pd.read_excel(...)` we may three parameters: \n",
    "- the name of the file we want to read, which needs to be character strings (or strings for short), so we put it in quotes\n",
    "- which row of excel table to skip importing, here we skip row 0 (see original excel file for why we do this)\n",
    "- which varible will be used for index column\n",
    "\n",
    "Note that instead of first saving the file to our hard drive we could have directly read it into Python as follows\n",
    "\n",
    "```\n",
    "df2 = pd.read_excel('https://archive.ics.uci.edu/ml/machine-learning-databases/00350/default%20of%20credit%20card%20clients.xls', skiprows=[0])\n",
    "\n",
    "df2\n",
    "```"
   ]
  },
  {
   "cell_type": "code",
   "execution_count": null,
   "metadata": {},
   "outputs": [],
   "source": []
  },
  {
   "cell_type": "code",
   "execution_count": null,
   "metadata": {},
   "outputs": [],
   "source": []
  },
  {
   "cell_type": "markdown",
   "metadata": {},
   "source": [
    "\n",
    "\n",
    "Now that the data is in memory, we can manipulate it. First, let’s ask Python what type of thing `data` refers to:\n",
    "\n",
    "```\n",
    "print(type(df))\n",
    "\n",
    "print(type(df2))\n",
    "```"
   ]
  },
  {
   "cell_type": "code",
   "execution_count": null,
   "metadata": {},
   "outputs": [],
   "source": []
  },
  {
   "cell_type": "markdown",
   "metadata": {},
   "source": [
    "The output tells us that data currently refers to a pandas DataFrame object, the functionality for which is provided by the `pandas` library."
   ]
  },
  {
   "cell_type": "markdown",
   "metadata": {
    "jp-MarkdownHeadingCollapsed": true
   },
   "source": [
    "---\n",
    "\n",
    "## Working with pandas DataFrame {-}\n",
    "\n",
    "A few commands come in useful when working with pandas DataFrame objects. Try the following:\n",
    "\n",
    "```\n",
    "print(df2.info())    # DataFrame information\n",
    "\n",
    "print(df2.columns)   # list columns\n",
    "\n",
    "print(df2.shape)     # show dimensions of the dataframe, i.e. number of columns followed by the number of rows\n",
    "\n",
    "print(df2.head())    # print the first 5 examples (observations)\n",
    "\n",
    "print(df2.tail())    # print the last 5 examples (observations)\n",
    "```\n",
    "\n",
    "Also as you can see below the hash symbol `#` indicates a comment, which is a way of keeping notes in Python without having the text following it being executed."
   ]
  },
  {
   "cell_type": "code",
   "execution_count": null,
   "metadata": {},
   "outputs": [],
   "source": []
  },
  {
   "cell_type": "code",
   "execution_count": null,
   "metadata": {
    "scrolled": true
   },
   "outputs": [],
   "source": []
  },
  {
   "cell_type": "code",
   "execution_count": null,
   "metadata": {},
   "outputs": [],
   "source": []
  },
  {
   "cell_type": "code",
   "execution_count": null,
   "metadata": {},
   "outputs": [],
   "source": []
  },
  {
   "cell_type": "code",
   "execution_count": null,
   "metadata": {},
   "outputs": [],
   "source": []
  },
  {
   "cell_type": "markdown",
   "metadata": {},
   "source": [
    "---\n",
    "---\n",
    "\n",
    "If we wish to get a single column (last columns here) of the dataframe and lets say assign it to the variable `y`, while assigning the remaining variables a new dataframe `X` we could do the following:\n",
    "\n",
    "```\n",
    "y = df2['default payment next month']\n",
    "y\n",
    "\n",
    "X = df2.copy()\n",
    "X\n",
    "\n",
    "\n",
    "del X['default payment next month']  # to remove y from X\n",
    "X\n",
    "```\n",
    "Note: I used copy() here rather than a simple = assignment in the second line.   \n",
    "This is because pandas are **mutable** - if I delete a 'default payment next month' from X it would get also deleted from df. Using copy() avoids this.."
   ]
  },
  {
   "cell_type": "code",
   "execution_count": null,
   "metadata": {},
   "outputs": [],
   "source": []
  },
  {
   "cell_type": "code",
   "execution_count": null,
   "metadata": {},
   "outputs": [],
   "source": []
  },
  {
   "cell_type": "code",
   "execution_count": null,
   "metadata": {},
   "outputs": [],
   "source": []
  },
  {
   "cell_type": "code",
   "execution_count": null,
   "metadata": {},
   "outputs": [],
   "source": []
  },
  {
   "cell_type": "markdown",
   "metadata": {},
   "source": [
    "---\n",
    "---\n",
    "\n",
    "### Accessing Elements {-}\n",
    "\n",
    "- Selecting multiple rows, note: does not include 3, e.g. ```df2[0:3]```\n",
    "- Selecting multiple rows - method 2, note: includes 3, e.g. ```df2.loc[0:3]```\n",
    "\n",
    "- Selecting multiple columns, e.g.: ```df2[['LIMIT_BAL', 'SEX', 'EDUCATION']]```\n",
    "- Selecting multple rows and columns using .loc[], e.g.: ```df2.loc[0:3, ['LIMIT_BAL', 'SEX', 'EDUCATION']]```\n",
    "\n",
    "\n"
   ]
  },
  {
   "cell_type": "code",
   "execution_count": null,
   "metadata": {},
   "outputs": [],
   "source": []
  },
  {
   "cell_type": "code",
   "execution_count": null,
   "metadata": {},
   "outputs": [],
   "source": []
  },
  {
   "cell_type": "code",
   "execution_count": null,
   "metadata": {},
   "outputs": [],
   "source": []
  },
  {
   "cell_type": "code",
   "execution_count": null,
   "metadata": {},
   "outputs": [],
   "source": []
  },
  {
   "cell_type": "code",
   "execution_count": null,
   "metadata": {},
   "outputs": [],
   "source": []
  },
  {
   "cell_type": "code",
   "execution_count": null,
   "metadata": {},
   "outputs": [],
   "source": []
  },
  {
   "cell_type": "code",
   "execution_count": null,
   "metadata": {},
   "outputs": [],
   "source": []
  },
  {
   "cell_type": "code",
   "execution_count": null,
   "metadata": {},
   "outputs": [],
   "source": []
  },
  {
   "cell_type": "code",
   "execution_count": null,
   "metadata": {},
   "outputs": [],
   "source": []
  },
  {
   "cell_type": "code",
   "execution_count": null,
   "metadata": {},
   "outputs": [],
   "source": []
  },
  {
   "cell_type": "code",
   "execution_count": null,
   "metadata": {},
   "outputs": [],
   "source": []
  },
  {
   "cell_type": "markdown",
   "metadata": {
    "jp-MarkdownHeadingCollapsed": true
   },
   "source": [
    "---\n",
    "---\n",
    "\n",
    "## Descriptive Statistics {-}\n"
   ]
  },
  {
   "cell_type": "markdown",
   "metadata": {},
   "source": [
    "```\n",
    "\n",
    "df2.describe() # print all descriptive statistics\n",
    "\n",
    "df2.mean() # print mean\n",
    "\n",
    "```\n",
    "- etc."
   ]
  },
  {
   "cell_type": "code",
   "execution_count": null,
   "metadata": {},
   "outputs": [],
   "source": []
  },
  {
   "cell_type": "code",
   "execution_count": null,
   "metadata": {},
   "outputs": [],
   "source": []
  },
  {
   "cell_type": "markdown",
   "metadata": {
    "jp-MarkdownHeadingCollapsed": true
   },
   "source": [
    "---\n",
    "## Visualising Data - Basic Plots in Python {-}\n",
    "\n",
    "We start with a few features of Python’s `matplotlib` library here. \n",
    "\n",
    "- While there is no official plotting library, `matplotlib` is the de facto standard. \n",
    "- First, we will import the `pyplot` module from `matplotlib` and use it to plot the bar chart of the means of all the columns in df DataFrame\n",
    "\n",
    "```\n",
    "import matplotlib.pyplot as plt\n",
    "\n",
    "X.mean().plot(kind='bar')\n",
    "\n",
    "plt.show()\n",
    "```"
   ]
  },
  {
   "cell_type": "code",
   "execution_count": null,
   "metadata": {},
   "outputs": [],
   "source": []
  },
  {
   "cell_type": "markdown",
   "metadata": {},
   "source": [
    "There are many different types of plots we can do with ```pandas``` and ```matplotlib```.\n",
    "\n",
    "For instance we could do a scatter plot between BILL_AMT4 and BILL_AMT5 using the following command\n",
    "\n",
    "```\n",
    "df2.plot(kind='scatter',x='BILL_AMT4',y='BILL_AMT5',color='red')\n",
    "\n",
    "plt.show()\n",
    "```"
   ]
  },
  {
   "cell_type": "code",
   "execution_count": null,
   "metadata": {},
   "outputs": [],
   "source": []
  },
  {
   "cell_type": "markdown",
   "metadata": {},
   "source": [
    "Instead of using ```matplotlib``` we could also use ```seaborn``` another plotting library, which can also plot the fitted regression line\n",
    "```\n",
    "import seaborn as sns\n",
    "\n",
    "sns.lmplot(x='BILL_AMT4', y='BILL_AMT5', data=df2)\n",
    "```"
   ]
  },
  {
   "cell_type": "code",
   "execution_count": null,
   "metadata": {},
   "outputs": [],
   "source": []
  },
  {
   "cell_type": "markdown",
   "metadata": {
    "jp-MarkdownHeadingCollapsed": true
   },
   "source": [
    "---\n",
    "\n",
    "## Magic Functions in IPython {-}\n",
    "\n",
    "How did we know what functions pandas has and how to use them? \n",
    "\n",
    "If you are working in a Jupyter Notebook/JupyterLab (which we are), there is an easy way to find out. \n",
    "\n",
    "- If you type the name of something followed by a dot `.`, then you can use `Tab` completion (e.g. type `pd.` and then press `tab`) to see a list of all functions and attributes that you can use. \n",
    "\n",
    "```\n",
    "pd.\n",
    "```"
   ]
  },
  {
   "cell_type": "code",
   "execution_count": null,
   "metadata": {},
   "outputs": [],
   "source": []
  },
  {
   "cell_type": "markdown",
   "metadata": {},
   "source": [
    "After selecting one, you can also add a question mark `?` (e.g. `pd.read_excel?`), and IPython will return an explanation of the method! \n",
    "\n",
    "This is similar to running `help(pd.read_excel)`."
   ]
  },
  {
   "cell_type": "code",
   "execution_count": null,
   "metadata": {},
   "outputs": [],
   "source": []
  },
  {
   "cell_type": "code",
   "execution_count": null,
   "metadata": {},
   "outputs": [],
   "source": []
  },
  {
   "cell_type": "markdown",
   "metadata": {
    "jp-MarkdownHeadingCollapsed": true
   },
   "source": [
    "---\n",
    "\n",
    "## Functions in Python {-}\n",
    "\n",
    "A function is a block of code which only runs when it is called.\n",
    "\n",
    "You can pass data, known as parameters, into a function.\n",
    "\n",
    "A function can return data as a result.\n",
    "\n",
    "In Python a function is defined using the `def` keyword. Try the following\n",
    "\n",
    "```\n",
    "def my_function():\n",
    "  print(\"Hello from a function\") \n",
    "```"
   ]
  },
  {
   "cell_type": "code",
   "execution_count": null,
   "metadata": {},
   "outputs": [],
   "source": []
  },
  {
   "cell_type": "markdown",
   "metadata": {},
   "source": [
    "As you can see nothing has happened. However, Python has created a function called ```my_function```, which is now available for us to call by typing its name. \n",
    "\n",
    "```my_function()```\n"
   ]
  },
  {
   "cell_type": "code",
   "execution_count": null,
   "metadata": {},
   "outputs": [],
   "source": []
  },
  {
   "cell_type": "markdown",
   "metadata": {},
   "source": [
    "We can pass parameters to the function inside the parenthasis. Lets make a new function to add two numbers and print out the answer as follows:\n",
    "```\n",
    "def add_two_numbers(number_one, number_two):\n",
    "    sum = number_one + number_two\n",
    "    return sum\n",
    "```\n"
   ]
  },
  {
   "cell_type": "code",
   "execution_count": null,
   "metadata": {},
   "outputs": [],
   "source": []
  },
  {
   "cell_type": "markdown",
   "metadata": {},
   "source": [
    "We can now call the function ```add_two_numbers``` and give it which two numbers to add, e.g. 3 and 6\n",
    "\n",
    "```\n",
    "result = add_two_numbers(3, 6)\n",
    "print(result)\n",
    "```"
   ]
  },
  {
   "cell_type": "code",
   "execution_count": null,
   "metadata": {},
   "outputs": [],
   "source": []
  },
  {
   "cell_type": "code",
   "execution_count": null,
   "metadata": {},
   "outputs": [],
   "source": []
  },
  {
   "cell_type": "code",
   "execution_count": null,
   "metadata": {},
   "outputs": [],
   "source": []
  },
  {
   "cell_type": "markdown",
   "metadata": {
    "jp-MarkdownHeadingCollapsed": true
   },
   "source": [
    "---\n",
    "\n",
    "## Classes in Python {-}\n",
    "\n",
    "Classes provide a means of bundling data and functionality together. \n",
    "\n",
    "- Creating a new class creates a new type of object, allowing new instances of that type to be made. \n",
    "- Each class instance can have attributes attached to it for maintaining its state. \n",
    "- Class instances can also have methods (defined by its class) for modifying its state.\n",
    "\n",
    "Lets create a class which does algebra with two numbers, which will contains a function for adding two numbers and multiplying two numbers\n",
    "\n",
    "```\n",
    "class algebra_with_two_numbers:\n",
    "    def __init__(self, n_one = 3, n_two = 6):\n",
    "        self.number_one = n_one\n",
    "        self.number_two = n_two\n",
    "        \n",
    "    def print_function_attributes(self):\n",
    "        print(self.number_one, self.number_two)\n",
    "\n",
    "    def add_two_numbers(self):\n",
    "        self.sum = self.number_one + self.number_two\n",
    "        return self.sum\n",
    "        \n",
    "    def multipy_two_numbers(self):\n",
    "        self.product = self.number_one * self.number_two\n",
    "        return self.product\n",
    "```\n",
    "    "
   ]
  },
  {
   "cell_type": "code",
   "execution_count": null,
   "metadata": {},
   "outputs": [],
   "source": []
  },
  {
   "cell_type": "markdown",
   "metadata": {},
   "source": [
    "Lets create two instances of `algebra_with_two_numbers` class and print their attributes\n",
    "\n",
    "```\n",
    "algebra_1 = algebra_with_two_numbers()\n",
    "algebra_1.print_function_attributes()\n",
    "\n",
    "\n",
    "algebra_2 = algebra_with_two_numbers(n_one = 1, n_two = 2)\n",
    "algebra_2.print_function_attributes()\n",
    "\n",
    "```"
   ]
  },
  {
   "cell_type": "code",
   "execution_count": null,
   "metadata": {},
   "outputs": [],
   "source": []
  },
  {
   "cell_type": "code",
   "execution_count": null,
   "metadata": {},
   "outputs": [],
   "source": []
  },
  {
   "cell_type": "code",
   "execution_count": null,
   "metadata": {},
   "outputs": [],
   "source": [
    "\n"
   ]
  },
  {
   "cell_type": "code",
   "execution_count": null,
   "metadata": {},
   "outputs": [],
   "source": []
  },
  {
   "cell_type": "code",
   "execution_count": null,
   "metadata": {},
   "outputs": [],
   "source": []
  },
  {
   "cell_type": "code",
   "execution_count": null,
   "metadata": {},
   "outputs": [],
   "source": []
  },
  {
   "cell_type": "code",
   "execution_count": null,
   "metadata": {},
   "outputs": [],
   "source": []
  },
  {
   "cell_type": "code",
   "execution_count": null,
   "metadata": {},
   "outputs": [],
   "source": []
  },
  {
   "cell_type": "markdown",
   "metadata": {},
   "source": [
    "Lets create a new instance of the ```algebra_with_two_numbers``` class and use its two remaining methods:\n",
    "\n",
    "```\n",
    "one = 1\n",
    "two = 15\n",
    "algebra = algebra_with_two_numbers(n_one=one, n_two=two)\n",
    "\n",
    "print(algebra.add_two_numbers())\n",
    "\n",
    "four = algebra.multipy_two_numbers()\n",
    "print(four)\n",
    "\n",
    "algebra.add_two_numbers() + algebra.multipy_two_numbers()\n",
    "```\n"
   ]
  },
  {
   "cell_type": "code",
   "execution_count": null,
   "metadata": {},
   "outputs": [],
   "source": []
  },
  {
   "cell_type": "code",
   "execution_count": null,
   "metadata": {},
   "outputs": [],
   "source": []
  },
  {
   "cell_type": "code",
   "execution_count": null,
   "metadata": {},
   "outputs": [],
   "source": []
  },
  {
   "cell_type": "code",
   "execution_count": null,
   "metadata": {},
   "outputs": [],
   "source": []
  },
  {
   "cell_type": "code",
   "execution_count": null,
   "metadata": {},
   "outputs": [],
   "source": []
  },
  {
   "cell_type": "code",
   "execution_count": null,
   "metadata": {},
   "outputs": [],
   "source": []
  }
 ],
 "metadata": {
  "kernelspec": {
   "display_name": "Python 3 (ipykernel)",
   "language": "python",
   "name": "python3"
  },
  "language_info": {
   "codemirror_mode": {
    "name": "ipython",
    "version": 3
   },
   "file_extension": ".py",
   "mimetype": "text/x-python",
   "name": "python",
   "nbconvert_exporter": "python",
   "pygments_lexer": "ipython3",
   "version": "3.9.18"
  }
 },
 "nbformat": 4,
 "nbformat_minor": 4
}
