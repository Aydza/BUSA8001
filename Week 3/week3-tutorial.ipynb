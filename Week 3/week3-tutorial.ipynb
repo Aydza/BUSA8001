{
 "cells": [
  {
   "cell_type": "markdown",
   "id": "6f76d664-d35b-452d-8faa-0ce85012aa29",
   "metadata": {
    "toc-hr-collapsed": true
   },
   "source": [
    "# Week 3 Computer Lab {-}"
   ]
  },
  {
   "cell_type": "markdown",
   "id": "8d189c50-869b-42b8-8242-ddc8dcda592d",
   "metadata": {},
   "source": [
    "\n",
    "1. Read Week 3 - Sample Short-Answer Questions (5 min)\n",
    "2. Complete Week 3 Practice Quiz (15 min)\n",
    "2. Introduce some commonly used Pandas functions\n",
    "    - `isnull()` Check for missing values . https://pandas.pydata.org/pandas-docs/stable/reference/api/pandas.isnull.html\n",
    "    - `unique()` Return unique values from a DataFrame. https://pandas.pydata.org/docs/reference/api/pandas.unique.html\n",
    "    - `nunique()` Count the number of distinct elements in specified axis. https://pandas.pydata.org/docs/reference/api/pandas.DataFrame.nunique.html\n",
    "    - `value_counts()` Return a Series containing counts of unique values. https://pandas.pydata.org/docs/reference/api/pandas.Series.value_counts.html\n",
    "    - `drop_duplicates()` Return DataFrame with duplicate rows removed. https://pandas.pydata.org/docs/reference/api/pandas.DataFrame.drop_duplicates.html\n",
    "    - `loc[]` with multiple conditions. https://pandas.pydata.org/docs/reference/api/pandas.DataFrame.loc.html\n",
    "\n",
    "\n",
    "\n",
    "---\n",
    "---"
   ]
  },
  {
   "cell_type": "markdown",
   "id": "4d4bbc14-ec15-4b4d-b84d-d06260256127",
   "metadata": {},
   "source": [
    "### Import libraries & Create a small dataset to be used in the tutorial\n",
    "\n",
    "```\n",
    "import pandas as pd\n",
    "import numpy as np\n",
    "import matplotlib.pyplot as plt\n",
    "```\n",
    "\n",
    "\n",
    "\n",
    "```\n",
    "\n",
    "df = pd.DataFrame({\n",
    "    'StudentID': ['S001', 'S002', 'S003', 'S004', 'S005', 'S006', 'S007', 'S008', 'S009'],\n",
    "    'StudentName': ['Angela', 'Frank', 'Grace', 'Jack', 'Bernadette', 'Alexander', 'Fiona', 'Colin', 'Tom'],\n",
    "    'PostCode': ['1234', '1234', '2000', np.nan, '2001', np.nan, '2020','2020', '2122'], \n",
    "    'CourseCode': ['ACCG001','ACCG001','INFO300','INFO200', 'INFO200', \n",
    "                   'BUSA001','BUSA001','AFIN003','ACCG001']})\n",
    "```\n",
    "\n",
    "\n",
    "\n",
    "```\n",
    "df\n",
    "```"
   ]
  },
  {
   "cell_type": "code",
   "execution_count": null,
   "id": "b8901e83-f849-4768-bc16-98c29648caf0",
   "metadata": {},
   "outputs": [],
   "source": []
  },
  {
   "cell_type": "code",
   "execution_count": null,
   "id": "a813b853-6687-4f2b-bebc-308797764075",
   "metadata": {},
   "outputs": [],
   "source": []
  },
  {
   "cell_type": "code",
   "execution_count": null,
   "id": "8dffd64c-a4ac-4dca-a1b6-22b18aae6768",
   "metadata": {},
   "outputs": [],
   "source": []
  },
  {
   "cell_type": "code",
   "execution_count": null,
   "id": "36f6d614-34ea-4ec8-889c-05a6c9edbc1b",
   "metadata": {},
   "outputs": [],
   "source": []
  },
  {
   "cell_type": "markdown",
   "id": "aa88d833-5949-470c-a462-9b6da3b17628",
   "metadata": {},
   "source": [
    "---\n"
   ]
  },
  {
   "cell_type": "markdown",
   "id": "41f7f562-e9c7-42bc-a4d9-b26da5134891",
   "metadata": {},
   "source": [
    "### `isnull()`\n",
    "\n",
    "- https://pandas.pydata.org/pandas-docs/stable/reference/api/pandas.isnull.html\n",
    "- Detect missing values for an array-like object.\n",
    "- This function takes a scalar or array-like object and indicates whether values are missing (NaN in numeric arrays, None or NaN in object arrays, NaT in datetimelike).\n",
    "\n",
    "\n",
    "We will illustrate it by applying `isnull()` on the feature **Postcode**.\n",
    "\n",
    "Note: \n",
    "- To check the number of NA value, we could use `isnull().sum()`.\n",
    "\n",
    "```\n",
    "df['PostCode'].isnull() # test each observation for missing value\n",
    "\n",
    "print(f'There are {df[\"PostCode\"].isnull().sum()} missing values in the column Postcode.') # sum missing values\n",
    "\n",
    "```"
   ]
  },
  {
   "cell_type": "code",
   "execution_count": null,
   "id": "1d3c30b9-60bd-425e-8e2f-6c0774dc84a7",
   "metadata": {},
   "outputs": [],
   "source": []
  },
  {
   "cell_type": "code",
   "execution_count": null,
   "id": "4ec28054-1cd0-4465-ac6d-9b9816bcf367",
   "metadata": {},
   "outputs": [],
   "source": []
  },
  {
   "cell_type": "code",
   "execution_count": null,
   "id": "5adc58e1-a755-4f66-a811-5499b855c6fc",
   "metadata": {},
   "outputs": [],
   "source": []
  },
  {
   "cell_type": "code",
   "execution_count": null,
   "id": "19f35b23-650f-4792-8273-db0fc12614c2",
   "metadata": {},
   "outputs": [],
   "source": []
  },
  {
   "cell_type": "code",
   "execution_count": null,
   "id": "0db41284-a964-4b0f-80af-9a2d1b94f663",
   "metadata": {},
   "outputs": [],
   "source": []
  },
  {
   "cell_type": "markdown",
   "id": "994acf53-f37a-4106-b64f-87d8c4f4a2b2",
   "metadata": {},
   "source": [
    "--- \n",
    "### `unique()`\n",
    "type(df['CourseCode'].unique())    # check the type of the returned object\n",
    "- [https://pandas.pydata.org/pandas-docs/stable/reference/api/pandas.unique.html](https://pandas.pydata.org/pandas-docs/stable/reference/api/pandas.unique.html)\n",
    "- Returns unique values.\n",
    "- Uniques are returned in the order of appearance. This does NOT sort\n",
    "- Significantly faster than numpy.unique for long sequences\n",
    "- Will also include `None` (missing values) as a unique element\n",
    "\n",
    "Examples\n",
    "- Lets check unique **CourseCode** and **PostCode**.\n",
    "\n",
    "```\n",
    "df['CourseCode'].unique()\n",
    "\n",
    "\n",
    "df['PostCode'].unique()\n",
    "\n",
    "\n",
    "type(df['PostCode'].unique())    # check the type of the returned object\n",
    "\n",
    "```"
   ]
  },
  {
   "cell_type": "code",
   "execution_count": null,
   "id": "41dbc005-64d8-4b5b-ae0f-b89965d910f4",
   "metadata": {},
   "outputs": [],
   "source": []
  },
  {
   "cell_type": "code",
   "execution_count": null,
   "id": "a1346b51-7664-4979-90ff-fa788052bdde",
   "metadata": {},
   "outputs": [],
   "source": []
  },
  {
   "cell_type": "code",
   "execution_count": null,
   "id": "7deed14a-96e0-4762-8182-ca43d1efb900",
   "metadata": {},
   "outputs": [],
   "source": []
  },
  {
   "cell_type": "code",
   "execution_count": null,
   "id": "29ac61aa-7483-492f-ad37-20e7bd7493f0",
   "metadata": {},
   "outputs": [],
   "source": []
  },
  {
   "cell_type": "code",
   "execution_count": null,
   "id": "e457b1a4-d0b1-4178-af84-325bb1a8c79d",
   "metadata": {},
   "outputs": [],
   "source": []
  },
  {
   "cell_type": "markdown",
   "id": "e794024e-ea15-4411-9f00-6cdfb9d7c241",
   "metadata": {
    "tags": []
   },
   "source": [
    "--- \n",
    "### `nunique()`\n",
    "\n",
    "- [ https://pandas.pydata.org/docs/reference/api/pandas.DataFrame.nunique.html]( https://pandas.pydata.org/docs/reference/api/pandas.DataFrame.nunique.html)\n",
    "- Count number of distinct elements in specified axis.\n",
    "- Return Series with number of distinct elements. \n",
    "- Option `dropna = False` will count missing values as a unique element\n",
    "\n",
    "Differences between `unique()` and `nunique()`:\n",
    "- `unique()` gives the unique value, whereas `nunique()` give the number of unique value.\n",
    "- `unique()` includes **NA** value, whereas `nunique()` does not take **NA** value into account by default (but see dropna option)\n",
    "\n",
    "\n",
    "```\n",
    "df\n",
    "\n",
    "print(f'Number of unique values in Postcode which does NOT include NA values is {df[\"PostCode\"].nunique()}')\n",
    "\n",
    "print(f'Number of unique values in Postcode which includes NA values is {df[\"PostCode\"].nunique(dropna=False)}')\n",
    "```"
   ]
  },
  {
   "cell_type": "code",
   "execution_count": null,
   "id": "c56e3a46-b149-4a56-93bb-0889c037485b",
   "metadata": {},
   "outputs": [],
   "source": []
  },
  {
   "cell_type": "code",
   "execution_count": null,
   "id": "26dd7252-d4f7-4296-82a8-8b18c7012b58",
   "metadata": {},
   "outputs": [],
   "source": []
  },
  {
   "cell_type": "code",
   "execution_count": null,
   "id": "fb579e22-ef75-44a1-9667-d83da1acfe47",
   "metadata": {},
   "outputs": [],
   "source": []
  },
  {
   "cell_type": "markdown",
   "id": "d71c6047-259c-4be0-bff4-a075189d7d2d",
   "metadata": {},
   "source": [
    "---\n",
    "\n",
    "### `value_counts()`\n",
    "\n",
    "- [https://pandas.pydata.org/docs/reference/api/pandas.Series.value_counts.html](https://pandas.pydata.org/docs/reference/api/pandas.Series.value_counts.html)\n",
    "- Returns a Series containing `counts` of each unique value\n",
    "- The resulting object will be in descending order so that the first element is the most frequently-occurring element. \n",
    "- Excludes NA values by default.\n",
    "\n",
    "```\n",
    "df\n",
    "\n",
    "df['CourseCode'].value_counts()\n",
    "```"
   ]
  },
  {
   "cell_type": "code",
   "execution_count": null,
   "id": "a04c405d-5a84-4067-a2f9-1fc53a3f9ecc",
   "metadata": {},
   "outputs": [],
   "source": []
  },
  {
   "cell_type": "code",
   "execution_count": null,
   "id": "4522fea4-6709-4f4f-ac45-d2a2b30bd00a",
   "metadata": {},
   "outputs": [],
   "source": []
  },
  {
   "cell_type": "code",
   "execution_count": null,
   "id": "abe92743-8e84-4c4f-a9e3-f69e53e572e0",
   "metadata": {},
   "outputs": [],
   "source": []
  },
  {
   "cell_type": "code",
   "execution_count": null,
   "id": "c834992c-c4ae-48b0-acff-dd0150ee1b99",
   "metadata": {},
   "outputs": [],
   "source": []
  },
  {
   "cell_type": "markdown",
   "id": "c538964a-a39a-4bd3-a8d2-347c243a3050",
   "metadata": {},
   "source": [
    "\n",
    "- `value_counts()` could be used to create bar plot, which shows the frequence of each class;\n",
    "    - There are also many other ways of doing this \n",
    "\n",
    "```\n",
    "# course_freq stores course name and corresponding frequnce\n",
    "course_freq = df['CourseCode'].value_counts()\n",
    "\n",
    "# use course_freq to generate a bar plot\n",
    "ax = course_freq.plot.barh(title='Course Enrollments')\n",
    "ax.set_xlabel('Frequency')\n",
    "ax.set_ylabel('Course')\n",
    "plt.show()\n",
    "```\n",
    "\n"
   ]
  },
  {
   "cell_type": "code",
   "execution_count": null,
   "id": "b1d55d46-bf01-47fd-ad31-dd33dee6bdc9",
   "metadata": {},
   "outputs": [],
   "source": []
  },
  {
   "cell_type": "code",
   "execution_count": null,
   "id": "b23717d7-4995-426a-8e71-31abb9125d8a",
   "metadata": {},
   "outputs": [],
   "source": []
  },
  {
   "cell_type": "markdown",
   "id": "b90d5e3b-fbe0-49ff-9c91-5e5f345b400b",
   "metadata": {},
   "source": [
    "---\n",
    "### `drop_duplicates()`\n",
    "\n",
    "- [https://pandas.pydata.org/docs/reference/api/pandas.DataFrame.drop_duplicates.html](https://pandas.pydata.org/docs/reference/api/pandas.DataFrame.drop_duplicates.html)\n",
    "- Returns DataFrame with duplicate rows removed\n",
    "- To remove duplicates on specific column(s), use `subset`\n",
    "- Must use `inplace = True` to modify the original dataframe\n",
    "- keep{‘first’, ‘last’, False}, default ‘first’. Determines which duplicates (if any) to keep.\n",
    "    - first : Drop duplicates except for the first occurrence (**default value**)\n",
    "    - last : Drop duplicates except for the last occurrence.\n",
    "    - False : Drop all duplicates.\n",
    "\n",
    "\n",
    "\n",
    "```\n",
    "# create a new dataframe with duplicates\n",
    "\n",
    "df2 = pd.DataFrame({\n",
    "    'productID':[\"p01\",\"p02\",\"p03\",\"p04\",\"p01\",\"p02\",\"p05\"],\n",
    "    'Price':[100,250,220,300,100,250,300],\n",
    "    'productType':['A','A','B','C','A','A','B']\n",
    "})\n",
    "df2\n",
    "\n",
    "\n",
    "\n",
    "df2.drop_duplicates()   # drop rows which have identical duplicates\n",
    "df2\n",
    "\n",
    "\n",
    "df2.drop_duplicates(subset='productType')\n",
    "df2\n",
    "\n",
    "df2.drop_duplicates(subset='productType', inplace = True)\n",
    "df2\n",
    "```"
   ]
  },
  {
   "cell_type": "code",
   "execution_count": null,
   "id": "fe440b02-462d-4c11-9821-9c8430307e8d",
   "metadata": {},
   "outputs": [],
   "source": []
  },
  {
   "cell_type": "code",
   "execution_count": null,
   "id": "07064b30-a90c-42c0-a307-ec00dd600de8",
   "metadata": {},
   "outputs": [],
   "source": []
  },
  {
   "cell_type": "code",
   "execution_count": null,
   "id": "1c7da9d4-246c-453a-83cb-56addf8ec8c8",
   "metadata": {},
   "outputs": [],
   "source": []
  },
  {
   "cell_type": "code",
   "execution_count": null,
   "id": "0bd3b60b-62db-4ad8-9261-69c6dc5a96d3",
   "metadata": {},
   "outputs": [],
   "source": []
  },
  {
   "cell_type": "code",
   "execution_count": null,
   "id": "2a89f85b-b5e2-40b9-ac3d-1a5cdaeac5b1",
   "metadata": {},
   "outputs": [],
   "source": []
  },
  {
   "cell_type": "markdown",
   "id": "39700dbb-a6da-405d-bc3a-ec09d9c4d1e2",
   "metadata": {},
   "source": [
    "---\n",
    "## `loc[]` with multiple conditions inside\n",
    "\n",
    "- [https://pandas.pydata.org/docs/reference/api/pandas.DataFrame.loc.html](https://pandas.pydata.org/docs/reference/api/pandas.DataFrame.loc.html)\n",
    "- Access a group of rows and columns by labels\n",
    "\n",
    "- By using `loc[]` you can apply multiple conditions. \n",
    "    - Make sure you **surround each condition with round brackets**. Not using this will get you incorrect results.\n",
    "    \n",
    "    \n",
    "```\n",
    "# create dataframes\n",
    "df = pd.DataFrame({\n",
    "    'productID':[\"p01\",\"p02\",\"p03\",\"p04\",\"p05\",\"p06\",\"p07\",\"p08\",\"p09\",\"p10\"],\n",
    "    'Price':[100,250,220,300,190,900,1050,40,30,90],\n",
    "    'productType':['A','A','B','C','B','A','A','B','A','C'],\n",
    "    'yearReleased':[2010,2012,2020,2013,2020,2021,2014,2009,2020,2022],\n",
    "    'cumulativeSales($)':[100000,200000,190000,90000,10000,\n",
    "                          140000,10000,6000,9000,300000]\n",
    "})\n",
    "\n",
    "df\n",
    "```\n"
   ]
  },
  {
   "cell_type": "code",
   "execution_count": null,
   "id": "2ec83124-5a13-4ad5-acc5-5af1b2431b7a",
   "metadata": {},
   "outputs": [],
   "source": []
  },
  {
   "cell_type": "code",
   "execution_count": null,
   "id": "2b058f28-5411-4a4a-b77d-1b27d27076b2",
   "metadata": {},
   "outputs": [],
   "source": []
  },
  {
   "cell_type": "markdown",
   "id": "3ee7383d-dcb9-468b-abaa-495c00c6d88f",
   "metadata": {},
   "source": [
    "\n",
    "1. Select products that price is greater than $100 and released before 2020.\n",
    "\n",
    "```\n",
    "df.loc[(df['Price']>100) & (df['yearReleased']<2020)] # '&' refers to 'and'\n",
    "```\n",
    "\n",
    "(condition A) & (condition B)"
   ]
  },
  {
   "cell_type": "code",
   "execution_count": null,
   "id": "cc2c6315-7d39-4193-aaea-677c8d455ad1",
   "metadata": {},
   "outputs": [],
   "source": []
  },
  {
   "cell_type": "code",
   "execution_count": null,
   "id": "d18a4707-17d0-442d-8de7-b5540f1d1925",
   "metadata": {},
   "outputs": [],
   "source": []
  },
  {
   "cell_type": "markdown",
   "id": "93edf48c-6653-414a-a027-2fa1fac9f5ed",
   "metadata": {},
   "source": [
    "2. Select products that price is less than $100, product type is B, and released before 2020.\n",
    "\n",
    "```\n",
    "df.loc[(df['Price']<100) & (df['productType']=='B') & (df['yearReleased']<2020)]\n",
    "```\n"
   ]
  },
  {
   "cell_type": "code",
   "execution_count": null,
   "id": "3b9598a4-46ea-499e-b4d5-33b9e59eaeab",
   "metadata": {},
   "outputs": [],
   "source": []
  },
  {
   "cell_type": "markdown",
   "id": "f7a35391-b642-4536-b81b-3c37aa1cb12d",
   "metadata": {},
   "source": [
    "3. Select products that either price is less than 100 `or` cumulative sales is less than 100000.\n",
    "\n",
    "```\n",
    "df.loc[(df['Price']<100) | (df['cumulativeSales($)']<100000)]\n",
    "# '|' refers to 'or'\n",
    "```"
   ]
  },
  {
   "cell_type": "code",
   "execution_count": null,
   "id": "ef74f9eb-b767-4585-8992-723432ca3c0c",
   "metadata": {},
   "outputs": [],
   "source": []
  },
  {
   "cell_type": "code",
   "execution_count": null,
   "id": "b6793fed-cb5a-46f5-9e55-0a9b2d21f608",
   "metadata": {},
   "outputs": [],
   "source": []
  }
 ],
 "metadata": {
  "kernelspec": {
   "display_name": "Python 3 (ipykernel)",
   "language": "python",
   "name": "python3"
  },
  "language_info": {
   "codemirror_mode": {
    "name": "ipython",
    "version": 3
   },
   "file_extension": ".py",
   "mimetype": "text/x-python",
   "name": "python",
   "nbconvert_exporter": "python",
   "pygments_lexer": "ipython3",
   "version": "3.9.18"
  },
  "toc-autonumbering": false,
  "toc-showcode": false,
  "toc-showtags": true
 },
 "nbformat": 4,
 "nbformat_minor": 5
}
