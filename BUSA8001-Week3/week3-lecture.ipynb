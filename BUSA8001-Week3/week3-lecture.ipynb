{
 "cells": [
  {
   "cell_type": "markdown",
   "metadata": {},
   "source": [
    "\n",
    "## Week 3 Lecture - Classification Algorithms (Part 2) {-}\n",
    "\n",
    "\n",
    "### Unit Convenor & Lecturer {-}\n",
    "[George Milunovich](https://www.georgemilunovich.com)  \n",
    "[george.milunovich@mq.edu.au](mailto:george.milunovich@mq.edu.au)\n",
    "\n",
    "### References {-}\n",
    "\n",
    "1. Python Machine Learning 3rd Edition by Raschka & Mirjalili - Chapter 3\n",
    "2. Various open-source material\n",
    "\n",
    "### Week 3 Learning Objectives {-}\n",
    "\n",
    "- Introduce `scikit-learn` machine learning library\n",
    "    - `train` vs `test` datasets: `train_test_split` library\n",
    "    - Feature Scaling: train_test_split library\n",
    "    - Fitting `Perceptron` & Measuring Classification Accuracy via `accuracy_score`\n",
    "- Logistic Regression\n",
    "    - logit function, log-odds, logistic signoid function\n",
    "    - Predicting probabilities\n",
    "    - Predicting class labels\n",
    "    - `sklearn.linear_model.LogisticRegression` library\n",
    "- Avoiding Overfitting via Regularization\n",
    "    - Bias-Variance Tradeoff\n",
    "    - L2 Shrinkage  \n",
    "    \n",
    "---"
   ]
  },
  {
   "cell_type": "markdown",
   "metadata": {},
   "source": [
    "## Choosing a Classification Algorithm {-}\n",
    "\n",
    "When facing a practical forecasting problem the issue of which classification algorithm to use arises. \n",
    "\n",
    "Two well-know quotes are relevent to this question:\n",
    "\n",
    "- Statistician G. Box argued that **All models are wrong, but some are useful**\n",
    "- Computer scientist D. Wolpert said that **No single classifier works best across all possible scenarios**  \n",
    "<br>\n",
    "\n",
    "Therefore, it is a good practice to **train several different forecasting models and compare their predictive performance**\n",
    "- Choose the algorithm which produces best results in the given situation\n",
    "\n",
    "There are 5 basic steps that we will follow when `training` a `supervised` machine learning algorithm:\n",
    "\n",
    "1. Collect the data (labeled training examples)\n",
    "2. Choose a performance/evaluation metric (how to measure classification performance)\n",
    "3. Choose a classifier (classification model, e.g. Adaline) and an optimization algorithm (how to train the model, e.g. Gradient Descent)\n",
    "4. Evaluate the performance of the model (fit the model, compute the value of the evaluation metric and see how well it performs)\n",
    "5. Tune the algorithm (alterning hyperparameter values to get better performance)\n"
   ]
  },
  {
   "cell_type": "markdown",
   "metadata": {
    "tags": []
   },
   "source": [
    "---\n",
    "\n",
    "## Training `perceptron` with `scikit-learn` {-}\n",
    "\n",
    "In Week 2 we trained **perceptron** and **Adaline**. \n",
    "\n",
    "Lets repeat what we did in Week 2 with the Iris dataset\n",
    "- Extend the dataset to all 150 observations;\n",
    "- All 3 classess of Iris;\n",
    "- We can import data from scikit-learn directly; \n",
    "- Scikit-learn has a number of popular datasets included in its library.\n",
    "\n",
    "\n",
    "We will load the dataset from scikit-learn's `datasets` library\n",
    "- [https://scikit-learn.org/stable/datasets.html](https://scikit-learn.org/stable/datasets.html)\n",
    "\n",
    "---\n",
    "\n",
    "### 1. Importing the Dataset {-}\n",
    "\n",
    "\n",
    "```\n",
    "from sklearn import datasets\n",
    "import numpy as np\n",
    "\n",
    "iris = datasets.load_iris()\n",
    "# print(type(iris))\n",
    "# print(iris)\n",
    "\n",
    "print(dir(iris))\n",
    "\n",
    "# print(iris['DESCR'])\n",
    "\n",
    "print(iris['feature_names'])\n",
    "print(iris['data'][:10,:])\n",
    "\n",
    "\n",
    "X = iris['data'][:, [2, 3]] # columns indexed 2 & 3 correspond to petal length and petal width\n",
    "print(X.shape)\n",
    "\n",
    "y = iris['target']\n",
    "print(type(y), y.shape, y)\n",
    "print('Class labels:', np.unique(y)) #np.unique() finds unique values\n",
    "```\n"
   ]
  },
  {
   "cell_type": "code",
   "execution_count": 1,
   "metadata": {},
   "outputs": [
    {
     "name": "stdout",
     "output_type": "stream",
     "text": [
      "['DESCR', 'data', 'data_module', 'feature_names', 'filename', 'frame', 'target', 'target_names']\n",
      "['sepal length (cm)', 'sepal width (cm)', 'petal length (cm)', 'petal width (cm)']\n",
      "[[5.1 3.5 1.4 0.2]\n",
      " [4.9 3.  1.4 0.2]\n",
      " [4.7 3.2 1.3 0.2]\n",
      " [4.6 3.1 1.5 0.2]\n",
      " [5.  3.6 1.4 0.2]\n",
      " [5.4 3.9 1.7 0.4]\n",
      " [4.6 3.4 1.4 0.3]\n",
      " [5.  3.4 1.5 0.2]\n",
      " [4.4 2.9 1.4 0.2]\n",
      " [4.9 3.1 1.5 0.1]]\n",
      "(150, 2)\n",
      "<class 'numpy.ndarray'> (150,) [0 0 0 0 0 0 0 0 0 0 0 0 0 0 0 0 0 0 0 0 0 0 0 0 0 0 0 0 0 0 0 0 0 0 0 0 0\n",
      " 0 0 0 0 0 0 0 0 0 0 0 0 0 1 1 1 1 1 1 1 1 1 1 1 1 1 1 1 1 1 1 1 1 1 1 1 1\n",
      " 1 1 1 1 1 1 1 1 1 1 1 1 1 1 1 1 1 1 1 1 1 1 1 1 1 1 2 2 2 2 2 2 2 2 2 2 2\n",
      " 2 2 2 2 2 2 2 2 2 2 2 2 2 2 2 2 2 2 2 2 2 2 2 2 2 2 2 2 2 2 2 2 2 2 2 2 2\n",
      " 2 2]\n",
      "Class labels: [0 1 2]\n"
     ]
    }
   ],
   "source": [
    "from sklearn import datasets\n",
    "import numpy as np\n",
    "\n",
    "iris = datasets.load_iris()\n",
    "# print(type(iris))\n",
    "# print(iris)\n",
    "\n",
    "print(dir(iris))\n",
    "\n",
    "# print(iris['DESCR'])\n",
    "\n",
    "print(iris['feature_names'])\n",
    "print(iris['data'][:10,:])\n",
    "\n",
    "\n",
    "X = iris['data'][:, [2, 3]] # columns indexed 2 & 3 correspond to petal length and petal width\n",
    "print(X.shape)\n",
    "\n",
    "y = iris['target']\n",
    "print(type(y), y.shape, y)\n",
    "print('Class labels:', np.unique(y)) #np.unique() finds unique values"
   ]
  },
  {
   "cell_type": "code",
   "execution_count": 11,
   "metadata": {},
   "outputs": [
    {
     "name": "stdout",
     "output_type": "stream",
     "text": [
      "['DESCR', 'data', 'data_module', 'feature_names', 'filename', 'frame', 'target', 'target_names']\n"
     ]
    }
   ],
   "source": [
    "print(dir(iris))"
   ]
  },
  {
   "cell_type": "code",
   "execution_count": null,
   "metadata": {},
   "outputs": [],
   "source": []
  },
  {
   "cell_type": "code",
   "execution_count": null,
   "metadata": {},
   "outputs": [],
   "source": []
  },
  {
   "cell_type": "code",
   "execution_count": null,
   "metadata": {},
   "outputs": [],
   "source": []
  },
  {
   "cell_type": "code",
   "execution_count": null,
   "metadata": {},
   "outputs": [],
   "source": []
  },
  {
   "cell_type": "markdown",
   "metadata": {},
   "source": [
    "The `dir()` function\n",
    "- Above we used the `dir()` function in Python\n",
    "    - The dir() function in Python is typically pronounced as \"dir\" (rhyming with \"stir\" or \"fur\").\n",
    "    - It is short for \"directory\"\n",
    "- One of the most useful buildin function\n",
    "    - Can be used to learn about an object in Python when we don't know how to use it\n",
    "- It returns a list of the names of the attributes (variables) and methods (functions) of an object\n",
    "    - These names are the attributes and methods that are defined on the object, including its class attributes and inherited attributes\n",
    " "
   ]
  },
  {
   "cell_type": "markdown",
   "metadata": {},
   "source": [
    "So in our `NumPy` array $y$ we have three integer values  \n",
    "\n",
    "- 0 - Iris-setosa\n",
    "- 1 - Iris-versicolor\n",
    "- 2 - Iris-virginica\n",
    "\n",
    "--- \n",
    "\n",
    "### 2. Splitting the Dataset {-}\n",
    "\n",
    "In order to evaluate how well a trained model performs on **unseen** data (data not used for model fitting), split the dataset into separate \n",
    "- **training** dataset and \n",
    "- **test** dataset. \n",
    "\n",
    "We use a test dataset to avoid **overfitting**.\n",
    "\n",
    "### Overfitting {-}\n",
    "- Overfitting happens when the model captures \"patterns\" in the training data that do not repeat in new data\n",
    "- These **perceived** patterns are actually **random** (consider getting 5 heads in a row out of 7 coin flips)\n",
    "- The model then tries to extrapolate these false \"patterns\" to new data and makes inaccurate forecasts\n",
    "- We say that the model **fails to generalize** to unseen data \n",
    "\n",
    "The image below illustrates this well. If you build a model (a bed in this case) to fit every detail of your data (how you sleep on a given night) many of the features of the model will not generalize to new data (how you sleep the following night). \n",
    "\n",
    "This happens because the model will take into account a lot of random noise (how you slept on the first night) which will not repeat in the future and hence will result in bad predictions (very uncomfortable sleep in the future). More on this in Week 5.\n",
    "\n",
    "**In order to correctly evaluate the performance of a predictive model we need to test it on new data.**\n",
    "\n",
    "\n",
    "<img src=\"images/overfitting.jpg\" alt=\"Drawing\" style=\"width: 450px;\"/>\n",
    "\n",
    "<!-- ![](images/overfitting.jpg) -->"
   ]
  },
  {
   "cell_type": "markdown",
   "metadata": {},
   "source": [
    "---\n",
    "\n",
    "### Training and Test Datasets {-}\n",
    "\n",
    "- Lets split our data into **training** and **test** datasets\n",
    "- We will use `train_test_split` library from `sklearn` for this purpose\n",
    "\n",
    "\n",
    "```\n",
    "from sklearn.model_selection import train_test_split\n",
    "\n",
    "X_train, X_test, y_train, y_test = train_test_split(X, y, test_size = 0.2, random_state = 1, stratify = y)\n",
    "\n",
    "# print(X_train.shape)\n",
    "# print(y_train.shape)\n",
    "# print(X_test.shape)\n",
    "# print(y_test.shape)\n",
    "print(y_train)\n",
    "print(y_test)\n",
    "```"
   ]
  },
  {
   "cell_type": "markdown",
   "metadata": {},
   "source": [
    "Stratifying preserves the proportion of how data is distributed in the target column - and depicts that same proportion of distribution in the train_test_split. Take for example, if the problem is a binary classification problem, and the target column is having the proportion of:\n",
    "\n",
    "- 80% = yes\n",
    "- 20% = no\n",
    "\n",
    "Since there are 4 times more 'yes' than 'no' in the target column, by splitting into train and test without stratifying, we might run into the trouble of having only the 'yes' falling into our training set, and all the 'no' falling into our test set. (i.e, the training set might not have 'no' in its target column)\n",
    "\n",
    "Hence by Stratifying, the target column for:\n",
    "\n",
    "- the training set has 80% of 'yes' and 20% of 'no', and also,\n",
    "- the test set has 80% of 'yes' and 20% of 'no' respectively.\n",
    "\n",
    "Hence, stratify makes even distribution of the target (label) in the train and test set - just as it is distributed in the original dataset."
   ]
  },
  {
   "cell_type": "code",
   "execution_count": 2,
   "metadata": {},
   "outputs": [
    {
     "name": "stdout",
     "output_type": "stream",
     "text": [
      "[0 0 2 1 1 1 1 2 2 1 2 0 1 1 2 0 2 1 1 0 0 2 2 1 2 2 0 0 2 0 0 0 0 2 0 1 2\n",
      " 1 2 2 1 1 2 2 1 1 2 1 1 0 2 0 2 0 0 1 0 1 2 0 2 0 0 2 2 0 1 0 0 1 2 1 1 0\n",
      " 0 1 2 1 1 2 1 2 0 1 2 1 1 0 0 2 1 2 1 0 1 2 2 0 0 2 2 0 2 1 1 1 2 0 2 1 2\n",
      " 0 2 0 1 0 1 0 0 0]\n",
      "[2 0 1 0 0 0 2 2 2 1 0 1 2 1 2 0 2 1 1 2 1 1 0 0 2 2 0 0 1 1]\n"
     ]
    }
   ],
   "source": [
    "from sklearn.model_selection import train_test_split\n",
    "\n",
    "X_train, X_test, y_train, y_test = train_test_split(X, y, test_size = 0.2, random_state = 1, stratify = y)  #test_size: % total data, randon_state: how data shuffle b4 split (set a seed-randomize and retain this random everytime rerun code)\n",
    "\n",
    "# print(X_train.shape)\n",
    "# print(y_train.shape)\n",
    "# print(X_test.shape)\n",
    "# print(y_test.shape)\n",
    "print(y_train)\n",
    "print(y_test)"
   ]
  },
  {
   "cell_type": "code",
   "execution_count": 19,
   "metadata": {},
   "outputs": [
    {
     "data": {
      "text/plain": [
       "120"
      ]
     },
     "execution_count": 19,
     "metadata": {},
     "output_type": "execute_result"
    }
   ],
   "source": [
    "len(y_train)"
   ]
  },
  {
   "cell_type": "code",
   "execution_count": 17,
   "metadata": {},
   "outputs": [
    {
     "data": {
      "text/plain": [
       "30"
      ]
     },
     "execution_count": 17,
     "metadata": {},
     "output_type": "execute_result"
    }
   ],
   "source": [
    "len(y_test)"
   ]
  },
  {
   "cell_type": "markdown",
   "metadata": {},
   "source": [
    "\n",
    "**Note the following:**\n",
    "\n",
    "- `train_test_split` function automatically splits between `training` and `test` dataset\n",
    "    - The size of the test dataset is 20% of all available observations, and the size of the training set is the remaining 80%\n",
    "- `train_test_split` also **randomises** the dataset before spliting it\n",
    "    - Avoid for instance having all 0's and 1's in the training set and 2's in the test set\n",
    "- `random_state = 1` sets a value for the random number generator which shuffles the dataset prior to splitting.\n",
    "    - This allows us to **replicate** our results (data always shuffled in the same way) \n",
    "- In addition to shuffling the dataset note that we also employ `stratify = y` option in `train_test_split()`.\n",
    "    - This ensures that the training and test datasets have the **same proportions** of class lables as the input dataset. \n",
    "\n",
    "Lets check counts and proportions of each class label in the 3 datasets using `bincount` function from NumPy\n",
    "```\n",
    "print(y_train)\n",
    "print('Train Dataset', 'counts', np.bincount(y_train), 'proportions', np.bincount(y_train)/len(y_train))\n",
    "print('Test Dataset', 'counts', np.bincount(y_test), 'proportions', np.bincount(y_test)/len(y_test))\n",
    "```"
   ]
  },
  {
   "cell_type": "code",
   "execution_count": 3,
   "metadata": {},
   "outputs": [
    {
     "name": "stdout",
     "output_type": "stream",
     "text": [
      "[0 0 2 1 1 1 1 2 2 1 2 0 1 1 2 0 2 1 1 0 0 2 2 1 2 2 0 0 2 0 0 0 0 2 0 1 2\n",
      " 1 2 2 1 1 2 2 1 1 2 1 1 0 2 0 2 0 0 1 0 1 2 0 2 0 0 2 2 0 1 0 0 1 2 1 1 0\n",
      " 0 1 2 1 1 2 1 2 0 1 2 1 1 0 0 2 1 2 1 0 1 2 2 0 0 2 2 0 2 1 1 1 2 0 2 1 2\n",
      " 0 2 0 1 0 1 0 0 0]\n",
      "Train Dataset counts [40 40 40] proportions [0.33333333 0.33333333 0.33333333]\n",
      "Test Dataset counts [10 10 10] proportions [0.33333333 0.33333333 0.33333333]\n"
     ]
    }
   ],
   "source": [
    "print(y_train)\n",
    "print('Train Dataset', 'counts', np.bincount(y_train), 'proportions', np.bincount(y_train)/len(y_train))\n",
    "print('Test Dataset', 'counts', np.bincount(y_test), 'proportions', np.bincount(y_test)/len(y_test))"
   ]
  },
  {
   "cell_type": "code",
   "execution_count": null,
   "metadata": {},
   "outputs": [],
   "source": []
  },
  {
   "cell_type": "code",
   "execution_count": null,
   "metadata": {},
   "outputs": [],
   "source": []
  },
  {
   "cell_type": "markdown",
   "metadata": {},
   "source": [
    "---\n",
    "\n",
    "### 3. Feature Scaling {-}\n",
    "\n",
    "In Week 2 we discussed how standardization of features can help with the training of classifiers. \n",
    "\n",
    "- `scikit-learn` contains `preprocessing` module which contains a number of classes used for standardization\n",
    "    - [https://scikit-learn.org/stable/modules/preprocessing.html](https://scikit-learn.org/stable/modules/preprocessing.html)\n",
    "- For now we will use `StandardScalar` class \n",
    "- Scale the data by doing the following transformation $X\\sim(\\mu, \\sigma) \\rightarrow Z(0, 1)$\n",
    "    - If a feature has a variance that is many times larger than others, it might dominate the objective function and make the estimator unable to learn from other features correctly as expected.\n",
    "\n"
   ]
  },
  {
   "cell_type": "markdown",
   "metadata": {},
   "source": [
    "- Note that we use `training` dataset to estimate the parameters $\\mu \\text{ and } \\sigma$ which are then used to standardize both the `training` and `test` datasets. \n",
    "    - This prevents cheating and increasing forecast accuracy by assuming how the observations from the `test` dataset are distributed.\n",
    "\n",
    "```\n",
    "from sklearn.preprocessing import StandardScaler\n",
    "np.set_printoptions(precision=3, suppress = True) # pretty printing\n",
    "\n",
    "sc = StandardScaler()\n",
    "\n",
    "sc.fit(X_train)\n",
    "\n",
    "# print(dir(sc))\n",
    "# print(sc.mean_, sc.scale_)\n",
    "\n",
    "\n",
    "X_train_scaled = sc.transform(X_train)\n",
    "print('means:', X_train.mean(axis=0), X_train_scaled.mean(axis=0))\n",
    "print('sigmas', X_train.std(axis=0), X_train_scaled.std(axis=0))\n",
    "\n",
    "X_test_scaled = sc.transform(X_test)\n",
    "print('means:', X_test.mean(axis=0), X_test_scaled.mean(axis=0))\n",
    "print('sigmas', X_test.std(axis=0), X_test_scaled.std(axis=0))\n",
    "\n",
    "```\n"
   ]
  },
  {
   "cell_type": "code",
   "execution_count": 4,
   "metadata": {},
   "outputs": [
    {
     "name": "stdout",
     "output_type": "stream",
     "text": [
      "means: [3.79  1.204] [0. 0.]\n",
      "sigmas [1.784 0.769] [1. 1.]\n",
      "means: [3.63 1.18] [-0.09  -0.031]\n",
      "sigmas [1.653 0.721] [0.927 0.938]\n"
     ]
    }
   ],
   "source": [
    "from sklearn.preprocessing import StandardScaler\n",
    "np.set_printoptions(precision=3, suppress = True) # pretty printing\n",
    "\n",
    "sc = StandardScaler()\n",
    "\n",
    "sc.fit(X_train)\n",
    "\n",
    "# print(dir(sc))\n",
    "# print(sc.mean_, sc.scale_)\n",
    "\n",
    "\n",
    "X_train_scaled = sc.transform(X_train)\n",
    "print('means:', X_train.mean(axis=0), X_train_scaled.mean(axis=0))\n",
    "print('sigmas', X_train.std(axis=0), X_train_scaled.std(axis=0))\n",
    "\n",
    "X_test_scaled = sc.transform(X_test)\n",
    "print('means:', X_test.mean(axis=0), X_test_scaled.mean(axis=0))\n",
    "print('sigmas', X_test.std(axis=0), X_test_scaled.std(axis=0))"
   ]
  },
  {
   "cell_type": "code",
   "execution_count": null,
   "metadata": {},
   "outputs": [],
   "source": []
  },
  {
   "cell_type": "code",
   "execution_count": null,
   "metadata": {},
   "outputs": [],
   "source": []
  },
  {
   "cell_type": "code",
   "execution_count": null,
   "metadata": {},
   "outputs": [],
   "source": []
  },
  {
   "cell_type": "code",
   "execution_count": null,
   "metadata": {},
   "outputs": [],
   "source": []
  },
  {
   "cell_type": "code",
   "execution_count": null,
   "metadata": {},
   "outputs": [],
   "source": []
  },
  {
   "cell_type": "markdown",
   "metadata": {},
   "source": [
    "---\n",
    "\n",
    "### 4. Training the Classifier {-}\n",
    "\n",
    "Note that our dataset consists of three classes: \n",
    "1. setosa\n",
    "2. versicolor\n",
    "3. virginica \n",
    "\n",
    "Most scikit-learn clasifiers support **multiclass classification** by default via the **one-vs.rest (OvR)**/**one-vs-all (OvA)** method\n",
    "- See Week 2 lecture notes for details\n",
    "\n"
   ]
  },
  {
   "cell_type": "markdown",
   "metadata": {},
   "source": [
    "Let's implement `scikit-learn` library `Perceptron`\n",
    "- See documentation [https://scikit-learn.org/stable/modules/generated/sklearn.linear_model.Perceptron.html](https://scikit-learn.org/stable/modules/generated/sklearn.linear_model.Perceptron.html)\n",
    "- To initialize it we set `eta0` which is the learning rate $(\\eta)$, and `random_state` which is used in order to be able to reproduce the results \n",
    "- `random-state` is used to shuffle the data after each epoch\n",
    "\n",
    "```\n",
    "from sklearn.linear_model import Perceptron\n",
    "\n",
    "ppn = Perceptron(eta0=0.1, random_state=7)\n",
    "ppn.fit(X_train_scaled, y_train)\n",
    "\n",
    "print('--- Estimated Weights ---')\n",
    "print('intercept:\\n', ppn.intercept_)\n",
    "print('coefficients:\\n', ppn.coef_)\n",
    "```\n"
   ]
  },
  {
   "cell_type": "code",
   "execution_count": 5,
   "metadata": {},
   "outputs": [
    {
     "name": "stdout",
     "output_type": "stream",
     "text": [
      "--- Estimated Weights ---\n",
      "intercept:\n",
      " [-0.1 -0.  -0.4]\n",
      "coefficients:\n",
      " [[-0.073 -0.051]\n",
      " [ 0.297 -0.377]\n",
      " [ 0.379  0.327]]\n"
     ]
    }
   ],
   "source": [
    "from sklearn.linear_model import Perceptron\n",
    "\n",
    "ppn = Perceptron(eta0=0.1, random_state=7)\n",
    "ppn.fit(X_train_scaled, y_train)\n",
    "\n",
    "print('--- Estimated Weights ---')\n",
    "print('intercept:\\n', ppn.intercept_)\n",
    "print('coefficients:\\n', ppn.coef_)"
   ]
  },
  {
   "cell_type": "code",
   "execution_count": null,
   "metadata": {},
   "outputs": [],
   "source": []
  },
  {
   "cell_type": "code",
   "execution_count": null,
   "metadata": {},
   "outputs": [],
   "source": []
  },
  {
   "cell_type": "code",
   "execution_count": null,
   "metadata": {},
   "outputs": [],
   "source": []
  },
  {
   "cell_type": "markdown",
   "metadata": {},
   "source": [
    "- Why are there so many estimated weights (coefficients)?"
   ]
  },
  {
   "cell_type": "markdown",
   "metadata": {},
   "source": [
    "---\n",
    "\n",
    "### 5. Producing Forecasts and Measuring Accuracy {-}\n",
    "\n",
    "Now that we've trained `scikit-learn` Perceptron we can employ it to classify our `test` dataset.\n",
    "\n",
    "For each prediction $\\hat{y}^{(i)}$ we could either have\n",
    "- correct classification if $\\hat{y}^{(i)} = y^{(i)}$\n",
    "- misclassification if $\\hat{y}^{(i)} \\ne y^{(i)}$\n",
    "\n",
    "**Misclassification Error**\n",
    "- Misclassification error is the fraction of observations incorrectly classified\n",
    "- Count the number of misclassified examples and divide by the number of observations \n",
    "\n",
    "\n",
    "$\\text{Misclassification Error} = \\frac{\\text{Number of incorrectly classified observations}}{\\text{Total Number of Observations}}$\n",
    "\n",
    "\n",
    "**Classification Accuracy**\n",
    "- Accuracy is the fraction of observations which are correctly classified  \n",
    "\n",
    "$\\text{Accuracy}=1-\\text{Misclassification Error}$\n",
    "\n",
    "\n",
    "---\n",
    "\n",
    "```\n",
    "y_train_pred = ppn.predict(X_train_scaled)\n",
    "\n",
    "# print('Predictions:', y_train_pred)\n",
    "# print('True Labels:', y_train)\n",
    "print(40*'=')\n",
    "\n",
    "print('Number of incorrectly classified in training set:', (y_train != y_train_pred).sum())\n",
    "\n",
    "error_train = (y_train != y_train_pred).sum()/len(y_train)\n",
    "print(f'Misclassification Error: {error_train:.3f}')\n",
    "print(f'Accuracy: {1 - error_train:.3f}')\n",
    "\n",
    "print(40*'=')\n",
    "\n",
    "y_test_pred = ppn.predict(X_test_scaled)\n",
    "print('Number of incorrectly classified in test set:', (y_test != y_test_pred).sum())\n",
    "error_test = (y_test != y_test_pred).sum()/len(y_test)\n",
    "\n",
    "print(f'Misclassification Error: {error_test:.3f}')\n",
    "print(f'Accuracy: {1 - error_test:.3f}')\n",
    "print(40*'=')\n",
    "\n",
    "\n",
    "```\n"
   ]
  },
  {
   "cell_type": "code",
   "execution_count": 6,
   "metadata": {},
   "outputs": [
    {
     "name": "stdout",
     "output_type": "stream",
     "text": [
      "========================================\n",
      "Number of incorrectly classified in training set: 34\n",
      "Misclassification Error: 0.283\n",
      "Accuracy: 0.717\n",
      "========================================\n",
      "Number of incorrectly classified in test set: 9\n",
      "Misclassification Error: 0.300\n",
      "Accuracy: 0.700\n",
      "========================================\n"
     ]
    }
   ],
   "source": [
    "y_train_pred = ppn.predict(X_train_scaled)\n",
    "\n",
    "# print('Predictions:', y_train_pred)\n",
    "# print('True Labels:', y_train)\n",
    "print(40*'=')\n",
    "\n",
    "print('Number of incorrectly classified in training set:', (y_train != y_train_pred).sum())\n",
    "\n",
    "error_train = (y_train != y_train_pred).sum()/len(y_train)\n",
    "print(f'Misclassification Error: {error_train:.3f}')\n",
    "print(f'Accuracy: {1 - error_train:.3f}')\n",
    "\n",
    "print(40*'=')\n",
    "\n",
    "y_test_pred = ppn.predict(X_test_scaled)\n",
    "print('Number of incorrectly classified in test set:', (y_test != y_test_pred).sum())\n",
    "error_test = (y_test != y_test_pred).sum()/len(y_test)\n",
    "\n",
    "print(f'Misclassification Error: {error_test:.3f}')\n",
    "print(f'Accuracy: {1 - error_test:.3f}')\n",
    "print(40*'=')"
   ]
  },
  {
   "cell_type": "code",
   "execution_count": null,
   "metadata": {},
   "outputs": [],
   "source": []
  },
  {
   "cell_type": "code",
   "execution_count": null,
   "metadata": {},
   "outputs": [],
   "source": []
  },
  {
   "cell_type": "code",
   "execution_count": null,
   "metadata": {},
   "outputs": [],
   "source": []
  },
  {
   "cell_type": "code",
   "execution_count": null,
   "metadata": {},
   "outputs": [],
   "source": []
  },
  {
   "cell_type": "markdown",
   "metadata": {},
   "source": [
    "\n",
    "---\n",
    "\n",
    "`scikit-learn` provides a number of different **performance metrics** in its `metrics` module\n",
    "- [https://scikit-learn.org/stable/modules/model_evaluation.html](https://scikit-learn.org/stable/modules/model_evaluation.html)\n",
    "- **classification Accuracy** is one of such performance measures \n",
    "- Misclassification error $=1-\\text{Accuracy}$.\n",
    "\n",
    "```\n",
    "from sklearn.metrics import accuracy_score\n",
    "print(f'Accuracy = {accuracy_score(y_test, y_test_pred):.3f}')\n",
    "```\n"
   ]
  },
  {
   "cell_type": "code",
   "execution_count": 7,
   "metadata": {},
   "outputs": [
    {
     "name": "stdout",
     "output_type": "stream",
     "text": [
      "Accuracy = 0.700\n"
     ]
    }
   ],
   "source": [
    "from sklearn.metrics import accuracy_score\n",
    "print(f'Accuracy = {accuracy_score(y_test, y_test_pred):.3f}')"
   ]
  },
  {
   "cell_type": "code",
   "execution_count": null,
   "metadata": {},
   "outputs": [],
   "source": []
  },
  {
   "cell_type": "code",
   "execution_count": null,
   "metadata": {},
   "outputs": [],
   "source": []
  },
  {
   "cell_type": "markdown",
   "metadata": {},
   "source": [
    "\n",
    "---\n",
    "\n",
    "We can also use the `score` method which is function **built into** most `sklearn` classifier libraries\n",
    "- It does not need to be imported before using\n",
    "- Its a shortcut to first producing the forecast via `predict` and then computing the accuracy by importing `accuracy_score` and using it \n",
    "\n",
    "\n",
    "\n",
    "```\n",
    "print(f'Accuracy = {ppn.score(X_test_scaled, y_test):.3f}')\n",
    "```"
   ]
  },
  {
   "cell_type": "code",
   "execution_count": 8,
   "metadata": {},
   "outputs": [
    {
     "name": "stdout",
     "output_type": "stream",
     "text": [
      "Accuracy = 0.700\n"
     ]
    }
   ],
   "source": [
    "print(f'Accuracy = {ppn.score(X_test_scaled, y_test):.3f}')"
   ]
  },
  {
   "cell_type": "markdown",
   "metadata": {},
   "source": [
    "---\n",
    "\n",
    "### Plotting Decision Regions {-}\n",
    "\n",
    "\n",
    "We can re-use the code from Week 2 to plot the **decision regions**\n",
    "- visualise how well the model separates the classes\n",
    "- copy and paste the `plot_decision_regions` function from Week 2\n",
    "- function is modified to depict test dataset examples\n",
    "\n",
    "\n",
    "```\n",
    "from matplotlib.colors import ListedColormap\n",
    "import matplotlib.pyplot as plt\n",
    "import numpy as np\n",
    "\n",
    "# # To check recent matplotlib compatibility\n",
    "# import matplotlib\n",
    "# from distutils.version import LooseVersion\n",
    "\n",
    "\n",
    "def plot_decision_regions(X, y, classifier, test_idx=None, resolution=0.02):\n",
    "\n",
    "    # setup marker generator and color map\n",
    "    markers = ('o', 's', '^', 'v', '<')\n",
    "    colors = ('red', 'blue', 'lightgreen', 'gray', 'cyan')\n",
    "    cmap = ListedColormap(colors[:len(np.unique(y))])\n",
    "\n",
    "    # plot the decision surface\n",
    "    x1_min, x1_max = X[:, 0].min() - 1, X[:, 0].max() + 1\n",
    "    x2_min, x2_max = X[:, 1].min() - 1, X[:, 1].max() + 1\n",
    "    xx1, xx2 = np.meshgrid(np.arange(x1_min, x1_max, resolution),\n",
    "                           np.arange(x2_min, x2_max, resolution))\n",
    "    lab = classifier.predict(np.array([xx1.ravel(), xx2.ravel()]).T)\n",
    "    lab = lab.reshape(xx1.shape)\n",
    "    plt.contourf(xx1, xx2, lab, alpha=0.3, cmap=cmap)\n",
    "    plt.xlim(xx1.min(), xx1.max())\n",
    "    plt.ylim(xx2.min(), xx2.max())\n",
    "\n",
    "    # plot class examples\n",
    "    for idx, cl in enumerate(np.unique(y)):\n",
    "        plt.scatter(x=X[y == cl, 0], \n",
    "                    y=X[y == cl, 1],\n",
    "                    alpha=0.8, \n",
    "                    c=colors[idx],\n",
    "                    marker=markers[idx], \n",
    "                    label=f'Class {cl}', \n",
    "                    edgecolor='black')\n",
    "\n",
    "    # highlight test examples\n",
    "    if test_idx:\n",
    "        # plot all examples\n",
    "        X_test, y_test = X[test_idx, :], y[test_idx]\n",
    "\n",
    "        plt.scatter(X_test[:, 0],\n",
    "                    X_test[:, 1],\n",
    "                    c='none',\n",
    "                    edgecolor='black',\n",
    "                    alpha=1.0,\n",
    "                    linewidth=1,\n",
    "                    marker='o',\n",
    "                    s=100, \n",
    "                    label='Test set')        \n",
    "```"
   ]
  },
  {
   "cell_type": "code",
   "execution_count": 9,
   "metadata": {},
   "outputs": [],
   "source": [
    "from matplotlib.colors import ListedColormap\n",
    "import matplotlib.pyplot as plt\n",
    "import numpy as np\n",
    "\n",
    "# # To check recent matplotlib compatibility\n",
    "# import matplotlib\n",
    "# from distutils.version import LooseVersion\n",
    "\n",
    "\n",
    "def plot_decision_regions(X, y, classifier, test_idx=None, resolution=0.02):\n",
    "\n",
    "    # setup marker generator and color map\n",
    "    markers = ('o', 's', '^', 'v', '<')\n",
    "    colors = ('red', 'blue', 'lightgreen', 'gray', 'cyan')\n",
    "    cmap = ListedColormap(colors[:len(np.unique(y))])\n",
    "\n",
    "    # plot the decision surface\n",
    "    x1_min, x1_max = X[:, 0].min() - 1, X[:, 0].max() + 1\n",
    "    x2_min, x2_max = X[:, 1].min() - 1, X[:, 1].max() + 1\n",
    "    xx1, xx2 = np.meshgrid(np.arange(x1_min, x1_max, resolution),\n",
    "                           np.arange(x2_min, x2_max, resolution))\n",
    "    lab = classifier.predict(np.array([xx1.ravel(), xx2.ravel()]).T)\n",
    "    lab = lab.reshape(xx1.shape)\n",
    "    plt.contourf(xx1, xx2, lab, alpha=0.3, cmap=cmap)\n",
    "    plt.xlim(xx1.min(), xx1.max())\n",
    "    plt.ylim(xx2.min(), xx2.max())\n",
    "\n",
    "    # plot class examples\n",
    "    for idx, cl in enumerate(np.unique(y)):\n",
    "        plt.scatter(x=X[y == cl, 0], \n",
    "                    y=X[y == cl, 1],\n",
    "                    alpha=0.8, \n",
    "                    c=colors[idx],\n",
    "                    marker=markers[idx], \n",
    "                    label=f'Class {cl}', \n",
    "                    edgecolor='black')\n",
    "\n",
    "    # highlight test examples\n",
    "    if test_idx:\n",
    "        # plot all examples\n",
    "        X_test, y_test = X[test_idx, :], y[test_idx]\n",
    "\n",
    "        plt.scatter(X_test[:, 0],\n",
    "                    X_test[:, 1],\n",
    "                    c='none',\n",
    "                    edgecolor='black',\n",
    "                    alpha=1.0,\n",
    "                    linewidth=1,\n",
    "                    marker='o',\n",
    "                    s=100, \n",
    "                    label='Test set')        "
   ]
  },
  {
   "cell_type": "markdown",
   "metadata": {},
   "source": [
    "--- \n",
    "\n",
    "- Visualisation code is now in computer memory\n",
    "- Next we use it\n",
    "- Note: although the model has been fitted on `training` dataset, we will use it to visualise the entire dataset\n",
    "\n",
    "\n",
    "```\n",
    "print(X_train_scaled.shape)\n",
    "print(X_test_scaled.shape)\n",
    "\n",
    "X_combined_scaled = np.vstack((X_train_scaled, X_test_scaled))\n",
    "# print(X_combined_scaled.shape)\n",
    "\n",
    "# print(y_train.shape)\n",
    "# print(y_test.shape)\n",
    "y_combined = np.hstack((y_train, y_test))\n",
    "# print(y_combined.shape)\n",
    "\n",
    "plot_decision_regions(X=X_combined_scaled, y=y_combined, classifier=ppn)\n",
    "\n",
    "plt.xlabel('patel length [standardized]')\n",
    "plt.ylabel('patel width [standardized]')\n",
    "plt.legend(loc='upper left')\n",
    "plt.tight_layout()\n",
    "plt.show()\n",
    "```"
   ]
  },
  {
   "cell_type": "code",
   "execution_count": 10,
   "metadata": {},
   "outputs": [
    {
     "name": "stdout",
     "output_type": "stream",
     "text": [
      "(120, 2)\n",
      "(30, 2)\n"
     ]
    },
    {
     "data": {
      "image/png": "[encoded data removed]",
      "text/plain": [
       "<Figure size 640x480 with 1 Axes>"
      ]
     },
     "metadata": {},
     "output_type": "display_data"
    }
   ],
   "source": [
    "print(X_train_scaled.shape)\n",
    "print(X_test_scaled.shape)\n",
    "\n",
    "X_combined_scaled = np.vstack((X_train_scaled, X_test_scaled))\n",
    "# print(X_combined_scaled.shape)\n",
    "\n",
    "# print(y_train.shape)\n",
    "# print(y_test.shape)\n",
    "y_combined = np.hstack((y_train, y_test))\n",
    "# print(y_combined.shape)\n",
    "\n",
    "plot_decision_regions(X=X_combined_scaled, y=y_combined, classifier=ppn)\n",
    "\n",
    "plt.xlabel('patel length [standardized]')\n",
    "plt.ylabel('patel width [standardized]')\n",
    "plt.legend(loc='upper left')\n",
    "plt.tight_layout()\n",
    "plt.show()"
   ]
  },
  {
   "cell_type": "markdown",
   "metadata": {},
   "source": [
    "**Conclusion**: the three flower classes cannot be perfectly separated by a linear decision boundary.   \n"
   ]
  },
  {
   "cell_type": "markdown",
   "metadata": {},
   "source": [
    "---\n",
    "\n",
    "# Modelling Class Probabilities via Logistic Regression {-}\n",
    "\n",
    "The main problem with Perceptron is that it does not converge to fixed values for weights if classes are not perfectly linearly separable, see e.g. previous image. \n",
    "- There are other linear classifiers which will converge to a cost minimum even if he classes are not linearly separable, e.g. Adeline"
   ]
  },
  {
   "cell_type": "markdown",
   "metadata": {},
   "source": [
    "- **Logistic regression** is one of the most widely used classification models in the industry\n",
    "- Basic logistic regression is used for binary classification\n",
    "    - **It predicts the probability of an outcome based on one or more predictor variables**\n",
    "    - Its output is between 0 and 1 which can be interpreted as the probability of the target class\n",
    "- Multiclass classification can be done either via *OvR* or multinomial logistic regression (softmax regression) \n",
    "    - see [https://scikit-learn.org/stable/modules/generated/sklearn.linear_model.LogisticRegression.html](https://scikit-learn.org/stable/modules/generated/sklearn.linear_model.LogisticRegression.html)"
   ]
  },
  {
   "cell_type": "code",
   "execution_count": null,
   "metadata": {},
   "outputs": [],
   "source": []
  },
  {
   "cell_type": "code",
   "execution_count": null,
   "metadata": {},
   "outputs": [],
   "source": []
  },
  {
   "cell_type": "markdown",
   "metadata": {},
   "source": [
    "---\n",
    "\n",
    "### Theory behind Logistic Regression {-}\n",
    "\n",
    "Let us introduce the following:\n",
    "- There are only two events, $A$ and $B$, e.g. \n",
    "    - $A=$pass unit, \n",
    "    - $B=$fail unit.\n",
    "- Create a variable based on the range of outcomes \n",
    "    - $y=1$ if $A$ occurs and \n",
    "    - $y=0$ if $B$ occurs\n",
    "- $p$ - probability of event $A$, e.g. $p = 60\\%=0.6$\n",
    "- $P(y=1)=p\\Rightarrow P(y=0)=1-P(y=1)=1-p$\n",
    "- **odds** - odds in favour of event $A$ (or equivalently $y=1$), \n",
    "    - $\\text{odds}=\\frac{p}{1-p}$\n",
    "    - e.g. odds=$\\frac{0.6}{0.4}=\\frac{3}{2}$ this can be said \"3 to 2 odds\" meaning that out of 5 students, odds are that 3 students will pass (events $A$) and 2 students will fail (event $B$)\n",
    "\n",
    "<br>\n"
   ]
  },
  {
   "cell_type": "markdown",
   "metadata": {},
   "source": [
    "Having the above definitions we can now introduce the **logit** function which gives us **log-odds** \n",
    "\n",
    "$\\text{logit}(p)=\\text{logit(P[y=1])}=\\text{ln}(\\frac{p}{1-p})$\n",
    "\n",
    "\n",
    "- **ln** is the natural logarithm function.\n",
    "- Note the following:\n",
    "    - $(\\frac{p}{1-p})\\in[0,\\infty)$ \n",
    "    - $\\text{logit}(p)=\\text{ln}(\\frac{p}{1-p})\\in(-\\infty, \\infty)$ \n"
   ]
  },
  {
   "cell_type": "markdown",
   "metadata": {},
   "source": [
    "\n",
    "---\n",
    "Next extend the above ideas to conditional probability\n",
    "\n",
    "We are familiar with the notion of conditional probability $P(y=1|x)$ which gives the probability that $y=1$ given that $x$ takes on some value\n",
    "- e.g. probability that a student will pass the unit $(y=1)$ given that the student has studied 4 hours per day $(x=4)$, i.e.  $P(y=1|x=4)$\n",
    "- this is clearly different from $P(y=1)$\n",
    "\n",
    "Similary we can define the **log-odds** using the logit function $\\text{logit}\\left(P(y=1|x)\\right)=\\text{ln}\\left(\\frac{P(y=1|x)}{1-P(y=1|x)}\\right)$ \n",
    "\n",
    "Now lets say that $\\text{logit}\\left(P(y=1|x)\\right)$ can be represented as a linear function of the features - $x$ variables:\n",
    "\n",
    "$z=\\text{logit}\\left(P(y=1|x)\\right)=w_0x_0+w_1x_1+\\dots+w_mx_m=\\sum_{i=0}^{m}w_ix_i=\\mathbf{w}^{T}\\mathbf{x}$\n",
    "\n",
    "To be able to predict (get the probability) that a certain example belongs to a particular class we need the **inverse** of the logit function (log-odds)\n",
    "- The inverse of the logistic function is called the **logistic sigmoid function** or just **sigmoid function** or **logistic tranformation**\n",
    "- $P(y=1|x)=\\phi(z)=\\frac{1}{1+e^{-z}}$\n",
    "\n",
    "where $z$ is the net input given by $z=\\text{logit}\\left(P(y=1|x)\\right)=w_0x_0+w_1x_1+\\dots+w_mx_m$ </span> in this case.\n",
    "\n",
    "Lets see what $\\phi(z)$ looks like:\n",
    "\n",
    "```\n",
    "\n",
    "import matplotlib.pyplot as plt\n",
    "\n",
    "def sigmoid(z):\n",
    "    return 1 / (1.0 + np.exp(-z))\n",
    "\n",
    "z = np.arange(-7, 7.1, 0.1)\n",
    "print(z, type(z))\n",
    "\n",
    "phi_z = sigmoid(z)\n",
    "print(phi_z)\n",
    "\n",
    "plt.plot(z, phi_z)\n",
    "plt.xlabel('z')\n",
    "plt.axvline(0.0, color='gray')\n",
    "plt.ylabel('$\\phi(z)$')\n",
    "plt.yticks([0.0, 0.5, 1.0])\n",
    "ax = plt.gca()\n",
    "ax.yaxis.grid(True)\n",
    "plt.tight_layout()\n",
    "plt.show()\n",
    "```\n"
   ]
  },
  {
   "cell_type": "code",
   "execution_count": null,
   "metadata": {},
   "outputs": [],
   "source": []
  },
  {
   "cell_type": "markdown",
   "metadata": {},
   "source": [
    "We observe the following:\n",
    "- The graph resembles an S-shaped curve\n",
    "- $z\\rightarrow\\infty\\Rightarrow\\phi(z)\\rightarrow1$\n",
    "- $z\\rightarrow-\\infty\\Rightarrow\\phi(z)\\rightarrow0$\n",
    "- Since $\\phi(z)\\in[0,1]$ it can be used to model probabilities. For example we can use it in:\n",
    "    - Credit card fraud detection: predict whether a person will default and also the probability of default\n",
    "    - Weather forecasting: predict if it will rain and the chance of rain\n",
    "    - Medical applications: decide if a patient has a disease and the chance of the disease given the symptoms\n",
    "    - Etc.\n",
    "\n"
   ]
  },
  {
   "cell_type": "markdown",
   "metadata": {},
   "source": [
    "---\n",
    "\n",
    "Consider the comparison of **Logistic Regression** with **Perceptron** and **Adaline**:\n",
    "\n",
    "<hr style=\"width:15%;margin-left:0;\">\n",
    "\n",
    "**Perceptron**\n",
    "    \n",
    "$z=w_0 + w_1x_1 +  w_2x_2=\\sum_{j=0}^{3}w_jx_j=\\mathbf{w}^{T}\\mathbf{x}$\n",
    "\n",
    "$\\phi(z)=\\left\\{ \n",
    "\\begin{array}{cc}\n",
    "1 & \\text{if } z \\ge 0 \\hfill \\\\ \n",
    "-1 & \\text{otherwise,}\n",
    "\\end{array}\n",
    "\\right.$\n",
    "\n",
    "$\\hat{y}=\\phi(z)$\n",
    "\n",
    "<hr style=\"width:15%;margin-left:0;\">\n",
    "\n",
    "**Adaline**\n",
    "\n",
    "$z=w_0 + w_1x_1 + w_2x_2=\\sum_{j=0}^{3}w_jx_j=\\mathbf{w}^{T}\\mathbf{x}$\n",
    "\n",
    "$\\phi(z)=z$\n",
    "\n",
    "$\\hat{y}=\\left\\{ \n",
    "\\begin{array}{cc}\n",
    "1 & \\text{if } \\phi(z) \\ge  0 \\hfill \\\\ \n",
    "-1 & \\text{otherwise}\n",
    "\\end{array}\n",
    "\\right.$\n",
    "\n",
    "<hr style=\"width:15%;margin-left:0;\">\n",
    "\n",
    "**Logistic Regression**\n",
    "\n",
    "$z=w_0 + w_1x_1 +  w_2x_2=\\sum_{j=0}^{3}w_jx_j=\\mathbf{w}^{T}\\mathbf{x}$\n",
    "\n",
    "$\\phi(z)=\\frac{1}{1+e^{-z}}$\n",
    "\n",
    "The sigmoid function is interpreted as the *conditional probability* of a particular example belonging to class 1:\n",
    "\n",
    "- $P(y=1|x)=\\phi(z)$\n",
    "- $P(y=0|x)= 1- P(y=1|x)$\n",
    "\n",
    "E.g. $\\phi(z)=0.8$ means that the probability that the flower is Iris-Versicolor is 80% and the prob that it is Iris-Setosa is 20%.\n",
    "\n",
    "$\\hat{y}=\\left\\{ \n",
    "\\begin{array}{cc}\n",
    "1 & \\text{if } \\phi(z) \\ge 0.5 \\hfill \\\\ \n",
    "0 & \\text{otherwise}\n",
    "\\end{array}\n",
    "\\right.$\n",
    "\n",
    "Equivallently we can use\n",
    "\n",
    "$\\hat{y}=\\left\\{ \n",
    "\\begin{array}{cc}\n",
    "1 & \\text{if } z \\ge 0 \\hfill \\\\ \n",
    "0 & \\text{otherwise}\n",
    "\\end{array}\n",
    "\\right.$\n",
    "\n",
    "\n",
    "<img src=\"images/image1.jpg\" alt=\"Drawing\" style=\"width: 450px;\"/>\n",
    "\n",
    "<!-- ![](images/image1.jpg) -->\n",
    "\n",
    "---"
   ]
  },
  {
   "cell_type": "markdown",
   "metadata": {},
   "source": [
    "## Learning the Weights of the Logistic Cost Function {-}\n",
    "\n",
    "The estimating (fitting) of the parameters in the Logistic Regression model is based on the principle of **Maximum Likelihood Estimation (MLE)**. \n",
    "- MLE is a method of estimating the parameters of a probability distribution by maximizing a **likelihood function**\n",
    "- The point in the parameter space that maximizes the likelihood function (optimal weight) is called the **maximum likelihood estimate**. \n",
    "- Maximum Likelihood Estimation is beyond the scope of this unit\n",
    "    - If interested in further details refer to the above URL as well as the textbook\n",
    "    - [https://en.wikipedia.org/wiki/Maximum_likelihood_estimation](https://en.wikipedia.org/wiki/Maximum_likelihood_estimation).\n",
    "\n"
   ]
  },
  {
   "cell_type": "markdown",
   "metadata": {},
   "source": [
    "---\n",
    "\n",
    "## Training a Logistic Regression Model with `scikit-learn` {-}\n",
    "\n",
    "- `sklearn.linear_model.LogisticRegression` class\n",
    "    - [https://scikit-learn.org/stable/modules/generated/sklearn.linear_model.LogisticRegression.html](https://scikit-learn.org/stable/modules/generated/sklearn.linear_model.LogisticRegression.html)\n",
    "- As mentioned above `scikit-learn` implements multiclass classification by default via two methods OvR or multinomial\n",
    "    - `multi_class='ovr`\n",
    "    - `multi_class='multinomial'`\n",
    "    \n",
    "```\n",
    "from sklearn.linear_model import LogisticRegression\n",
    "lr = LogisticRegression(C=100.0, random_state=1, solver='lbfgs', multi_class='ovr') \n",
    "lr.fit(X_train_scaled, y_train)\n",
    "plot_decision_regions(X_combined_scaled, y_combined, classifier=lr, test_idx=range(105, 150))\n",
    "plt.xlabel('patel length [standardized]')\n",
    "plt.ylabel('patel width [standardized]')\n",
    "plt.legend(loc='upper left')\n",
    "plt.tight_layout()\n",
    "plt.show()\n",
    "```"
   ]
  },
  {
   "cell_type": "code",
   "execution_count": 35,
   "metadata": {},
   "outputs": [
    {
     "data": {
      "image/png": "[encoded data removed]",
      "text/plain": [
       "<Figure size 640x480 with 1 Axes>"
      ]
     },
     "metadata": {},
     "output_type": "display_data"
    }
   ],
   "source": [
    "from sklearn.linear_model import LogisticRegression\n",
    "lr = LogisticRegression(C=100.0, random_state=1, solver='lbfgs', multi_class='ovr') #C: Inverse of regularization strength; must be a positive float. Like in support vector machines, smaller values specify stronger regularization.\n",
    "lr.fit(X_train_scaled, y_train)\n",
    "plot_decision_regions(X_combined_scaled, y_combined, classifier=lr, test_idx=range(105, 150))\n",
    "plt.xlabel('patel length [standardized]')\n",
    "plt.ylabel('patel width [standardized]')\n",
    "plt.legend(loc='upper left')\n",
    "plt.tight_layout()\n",
    "plt.show()"
   ]
  },
  {
   "cell_type": "code",
   "execution_count": 37,
   "metadata": {},
   "outputs": [
    {
     "name": "stdout",
     "output_type": "stream",
     "text": [
      "Accuracy = 0.700\n"
     ]
    }
   ],
   "source": [
    "print(f'Accuracy = {ppn.score(X_test_scaled, y_test):.3f}')"
   ]
  },
  {
   "cell_type": "code",
   "execution_count": null,
   "metadata": {},
   "outputs": [],
   "source": []
  },
  {
   "cell_type": "code",
   "execution_count": null,
   "metadata": {},
   "outputs": [],
   "source": []
  },
  {
   "cell_type": "markdown",
   "metadata": {},
   "source": [
    "We can also consider the values of the estimated weights and compare them to those of the perceptron algorithm discussed above\n",
    "\n",
    "```\n",
    "print('--- Estimated Weights ---')\n",
    "print('intercept:\\n', lr.intercept_)\n",
    "print('coefficients:\\n', lr.coef_)\n",
    "```"
   ]
  },
  {
   "cell_type": "code",
   "execution_count": null,
   "metadata": {},
   "outputs": [],
   "source": []
  },
  {
   "cell_type": "markdown",
   "metadata": {},
   "source": [
    "As you can see there are a number of options we need to provide to initialize `LogisticRegression`\n",
    "\n",
    "- Optimization algorithm \n",
    "- We use Limited-memory BFGS here using `solver='lbfgs'`. \n",
    "    - This is a more sophisticated optimization algorithm based on the second derivative (Hessian matrix). See [https://en.wikipedia.org/wiki/Limited-memory_BFGS](https://en.wikipedia.org/wiki/Limited-memory_BFGS)\n",
    "- `C` parameter refers to 'Inverse of regularization strength' - see below\n",
    "\n",
    "\n",
    "Lets make the following forecasts for the first 4 rows of the test set:\n",
    "- forecast the probability that each of the four examples belongs in each of the three categories using `predict_proba()`\n",
    "- forecast which category each of the four examples will belong to using `predict()`\n",
    "\n",
    "```\n",
    "print(X_test_scaled[:4, :])\n",
    "print(2*'\\n')\n",
    "\n",
    "# print(lr.predict_proba(X_test_scaled[:4, :]))\n",
    "print(np.around(lr.predict_proba(X_test_scaled[:4, :]), 3)) # round off to 3 decimal places\n",
    "```"
   ]
  },
  {
   "cell_type": "code",
   "execution_count": 29,
   "metadata": {},
   "outputs": [
    {
     "name": "stdout",
     "output_type": "stream",
     "text": [
      "[[ 1.407  0.775]\n",
      " [-1.284 -1.436]\n",
      " [-0.443 -0.135]\n",
      " [-1.228 -1.306]]\n",
      "\n",
      "\n",
      "\n"
     ]
    }
   ],
   "source": [
    "print(X_test_scaled[:4, :])\n",
    "print(2*'\\n')"
   ]
  },
  {
   "cell_type": "code",
   "execution_count": 26,
   "metadata": {},
   "outputs": [
    {
     "name": "stdout",
     "output_type": "stream",
     "text": [
      "[[0.    0.433 0.567]\n",
      " [0.771 0.229 0.   ]\n",
      " [0.144 0.856 0.   ]\n",
      " [0.79  0.21  0.   ]]\n"
     ]
    }
   ],
   "source": [
    "print(lr.predict_proba(X_test_scaled[:4, :]))"
   ]
  },
  {
   "cell_type": "code",
   "execution_count": 34,
   "metadata": {},
   "outputs": [
    {
     "name": "stdout",
     "output_type": "stream",
     "text": [
      "[[0.    0.433 0.567]\n",
      " [0.771 0.229 0.   ]\n",
      " [0.144 0.856 0.   ]\n",
      " [0.79  0.21  0.   ]]\n"
     ]
    }
   ],
   "source": [
    "print(np.around(lr.predict_proba(X_test_scaled[:4, :]), 3)) # round off to 3 decimal places\n",
    "# each col represent %probability that data belong to group {0;1;2}"
   ]
  },
  {
   "cell_type": "code",
   "execution_count": 33,
   "metadata": {},
   "outputs": [
    {
     "data": {
      "text/plain": [
       "array([[2],\n",
       "       [0],\n",
       "       [1],\n",
       "       [0],\n",
       "       [0],\n",
       "       [0],\n",
       "       [2],\n",
       "       [2],\n",
       "       [2],\n",
       "       [1]])"
      ]
     },
     "execution_count": 33,
     "metadata": {},
     "output_type": "execute_result"
    }
   ],
   "source": [
    "lr.predict(X_test_scaled[:10, :]).reshape(-1,1) #decide classification based on group with highest %"
   ]
  },
  {
   "cell_type": "markdown",
   "metadata": {},
   "source": [
    "Given our classes \n",
    "\n",
    "- 0 - Iris-setosa\n",
    "- 1 - Iris-versicolor\n",
    "- 2 - Iris-virginica\n",
    "\n",
    "we see that the first flower has about 57% chance of being Iris-virginica, While the second flower has 77% chance of being an Iris-setosa. These are conditional probabilities of each flower belonging to a class based on their petal characteristics. \n",
    "\n",
    "To get predicted class labels $\\hat{y}^{(i)}\\in{0, 1, 2}$ we just choose the class which corresponds with the **highest** probability\n",
    "\n",
    "```\n",
    "print(lr.predict_proba(X_test_scaled[:4, :]).argmax(axis=1))\n",
    "```"
   ]
  },
  {
   "cell_type": "code",
   "execution_count": null,
   "metadata": {},
   "outputs": [],
   "source": []
  },
  {
   "cell_type": "markdown",
   "metadata": {},
   "source": [
    "A simpler way to do the same thing is \n",
    "```\n",
    "print(lr.predict(X_test_scaled[:4, :]))\n",
    "```"
   ]
  },
  {
   "cell_type": "code",
   "execution_count": null,
   "metadata": {},
   "outputs": [],
   "source": []
  },
  {
   "cell_type": "markdown",
   "metadata": {},
   "source": [
    "Note: When forecasting from a single example (single row slice) which has only one dimension we need to first create a 2-D array which `scikit-learn` expects. Do this using `reshape` command\n",
    "\n",
    "```\n",
    "print(X_test_scaled[0, :])\n",
    "print(X_test_scaled[0, :].shape)\n",
    "print(lr.predict(X_test_scaled[0, :]))\n",
    "\n",
    "\n",
    "print(X_test_scaled[0, :].reshape(1, -1))\n",
    "print(X_test_scaled[0, :].reshape(1, -1).shape)\n",
    "print(lr.predict(X_test_scaled[0, :].reshape(1, -1)))\n",
    "```"
   ]
  },
  {
   "cell_type": "code",
   "execution_count": null,
   "metadata": {},
   "outputs": [],
   "source": []
  },
  {
   "cell_type": "code",
   "execution_count": null,
   "metadata": {},
   "outputs": [],
   "source": []
  },
  {
   "cell_type": "markdown",
   "metadata": {},
   "source": [
    "---\n",
    "## Avoiding Overfitting via Regularization {-}"
   ]
  },
  {
   "cell_type": "code",
   "execution_count": null,
   "metadata": {},
   "outputs": [],
   "source": []
  },
  {
   "cell_type": "markdown",
   "metadata": {},
   "source": [
    "**Overfitting** - when a model performs well on training data but does not generalize well to unseen data (generates bad forecast on new data)  \n",
    "**Underfitting** - when a model is too simple to capture the patterns found in training data \n",
    "\n",
    "<br>\n",
    "\n",
    "**Bias-Variance Tradeoff**\n",
    "- The bias-variance tradeoff is a concept in machine learning that describes the balance between two sources of error that affect the performance of predictive models. \n",
    "\n"
   ]
  },
  {
   "cell_type": "markdown",
   "metadata": {},
   "source": [
    "- **Bias** refers to the error introduced by approximating a real-world problem, which is often complex, by a simplified model\n",
    "    - High bias is related to underfitting, where the model is **too simple** to capture the underlying patterns \n",
    "    - A model that is too simple cannot capture all the relevant patterns in the data \n",
    "    - High bias means that on average our predictions are bad -> there is a systematic error which is not due to randomness \n",
    "    - E.g. $X=0.1$ hours of study time -> $\\hat{y} = 0$ (Fail) $X=4.1$ hours of study time -> $\\hat{y} = 0$ (Fail)"
   ]
  },
  {
   "cell_type": "markdown",
   "metadata": {},
   "source": [
    "- **Variance** refers to the error introduced by the model's sensitivity to small fluctuations in the training data\n",
    "    - High variance is a result of overfitting\n",
    "    - Overfitting typically happens when the model is too complex and has too many parameters and captures **random noise** in the training data as if it were a true signal\n",
    "    - Since the model is overly complicated it produces vastly different predictions for very small variations in the features\n",
    "    - E.g. $X=4.0$ hours of study time -> $\\hat{y} = 1$ (Pass) $X=4.1$ hours of study time -> $\\hat{y} = 0$ (Fail)\n",
    "    - We say that such predictions have high variance\n"
   ]
  },
  {
   "cell_type": "markdown",
   "metadata": {},
   "source": [
    "- **Achieving a good predictive model involves finding the right balance between bias and variance to minimize the total prediction error**\n",
    "<br>\n",
    "\n",
    "    \n",
    "\n",
    "<img src=\"images/image2.jpg\" alt=\"Drawing\" style=\"width: 450px;\"/>\n",
    "\n",
    "<!-- ![](images/image2.jpg) -->"
   ]
  },
  {
   "cell_type": "markdown",
   "metadata": {},
   "source": [
    "**Regularization** is the process of adding information in order to prevent overfitting and reach a good bias-variance tradeoff.\n",
    "- In ML regularization works by adding information to **penalize large parameter (weight) values**\n",
    "    - This means that it works by making optimal weights smaller -> less influence from corresponding predictor variables \n",
    "    - For regularization to work properly all features must be on comparable scale -> **feature scaling** is important\n",
    "\n"
   ]
  },
  {
   "cell_type": "markdown",
   "metadata": {},
   "source": [
    "In one sentence, regularization makes the model perform worse on training data so that it may perform better on holdout data.\n",
    "ogistic regression is an optimization problem where the following objective function is minimized.\n",
    "\n",
    "<img src=\"images/objectivefunction.jpg\" alt=\"Drawing\" style=\"width: 450px;\"/>\n",
    "\n",
    "where loss function looks like (at least for solver='lbfgs') the following:\n",
    "\n",
    "<img src=\"images/lossfunction.jpg\" alt=\"Drawing\" style=\"width: 450px;\"/>\n",
    "\n",
    "Regularization adds a norm of the coefficients to this function. The following implements the L2 penalty.\n",
    "\n",
    "<img src=\"images/l2penalty.jpg\" alt=\"Drawing\" style=\"width: 450px;\"/>\n",
    "\n",
    "From the equation, it's clear that the regularization term is there to penalize large coefficients (the minimization problem is solving for the coefficients that minimize the objective function). Since the size of each coefficient depends on the scale of its corresponding variable, scaling the data is required so that the regularization penalizes each variable equally. The regularization strength is determined by C and as C increases, the regularization term becomes smaller (and for extremely large C values, it's as if there is no regularization at all).\n",
    "\n",
    "If the initial model is overfit (as in, it fits the training data too well), then adding a strong regularization term (with small C value) makes the model perform worse for the training data, but introducing such \"noise\" improves the model's performance on unseen (or test) data."
   ]
  },
  {
   "cell_type": "markdown",
   "metadata": {},
   "source": [
    "An example with 1000 samples and 200 features shown below. As can be seen from the plot of accuracy over different values of C, if C is large (with very little regularization), there is a big gap between how the model performs on training data and test data. However, as C decreases, the model performs worse on training data but performs better on test data (test accuracy increases). However, when C becomes too small (or the regularization becomes too strong), the model begins performing worse again because now the regularization term completely dominates the objective function.\n",
    "\n",
    "<img src=\"images/example.jpg\" alt=\"Drawing\" style=\"width: 450px;\"/>"
   ]
  },
  {
   "cell_type": "markdown",
   "metadata": {},
   "source": [
    "\n",
    "**L2 regularization** (L2 shrinkage) most common, where $\\lambda$ is called the **regularization parameter**\n",
    "\n",
    "Regularization term $\\frac{\\lambda}{2}||w||^2=\\frac{\\lambda}{2}\\sum_{j=1}^{m}w_j^2$ is often added to the Logistic Regression cost function, which will shrink (make smaller) estimated parameters (weights)\n",
    "\n",
    "$J(w)=\\sum_{i=1}^n\\left[-y^{(i)}\\text{ln}\\left(\\phi(z^{(i)})\\right)-\\left(1-y^{(i)}\\right)\\text{ln}\\left(1-\\phi(z^{(i)})\\right)\\right] + \\frac{\\lambda}{2}||w||^2$\n",
    "\n",
    "- By increasing $\\lambda$ we increase regularization strength, penalizing more large parameter values and hence obtaining more parameters closer to zero-> less overfit\n",
    "- <span style='background:orange'>  In LogisticRegression $C=\\frac{1}{\\lambda}$ -> Small values of $C$ -> Reduce the magnitude of the estimated parameters\n",
    "- We need to try different values of $C$ to optimise classification/predictive performance"
   ]
  }
 ],
 "metadata": {
  "kernelspec": {
   "display_name": "Python 3 (ipykernel)",
   "language": "python",
   "name": "python3"
  },
  "language_info": {
   "codemirror_mode": {
    "name": "ipython",
    "version": 3
   },
   "file_extension": ".py",
   "mimetype": "text/x-python",
   "name": "python",
   "nbconvert_exporter": "python",
   "pygments_lexer": "ipython3",
   "version": "3.10.11"
  }
 },
 "nbformat": 4,
 "nbformat_minor": 4
}
