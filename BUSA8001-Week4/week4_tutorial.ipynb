{
 "cells": [
  {
   "cell_type": "markdown",
   "metadata": {},
   "source": [
    "# Week 4 Tutorial/Computer Lab {-}\n",
    "\n",
    "\n",
    "### Unit Convenor & Lecturer {-}\n",
    "[George Milunovich](https://www.georgemilunovich.com)  \n",
    "[george.milunovich@mq.edu.au](mailto:george.milunovich@mq.edu.au)\n",
    "\n",
    "---\n",
    "\n",
    "1. Read Week 4 Short-Answer Sample Questions (5 min)\n",
    "2. Practice Quiz (15 min)\n",
    "3. Choosing where to split a decision tree question\n",
    "4. Python Exercise\n",
    "\n",
    "---"
   ]
  },
  {
   "cell_type": "markdown",
   "metadata": {
    "jp-MarkdownHeadingCollapsed": true
   },
   "source": [
    "\n",
    "\n",
    "**Decision Tree Split**\n",
    "\n",
    "- Decide between the tree splits depicted below based on information gain computed using: 1) Classification Error, 2) Entropy, 3) Gini Impurity\n",
    "\n",
    "<img src=\"images/image6.jpg\" alt=\"Drawing\" style=\"width: 350px;\"/>\n",
    "\n",
    "**Python Exercise**\n",
    "\n",
    "Credit score cards are used as a risk control method in the financial industry. Personal information submitted by credit card applicants are used to predict the probability of future defaults. The bank employs such data to decide whether to issue a credit card to the applicant or not.\n",
    "\n",
    "\n",
    "| Feature Name         | Explanation     | Additional Remarks |\n",
    "|--------------|-----------|-----------|\n",
    "| ID | Randomly allocated client number      |         |\n",
    "| Income   | Annual income  |  |\n",
    "| Gender   | Applicant's Gender   | Male = 0, Female = 1  |\n",
    "| Car | Car Ownership | Yes = 1, No = 0 | \n",
    "| Children | Number of Children | |\n",
    "| Real Estate | Real Estate Ownership | Yes = 1, No = 0 \n",
    "| Days Since Birth | No. of Days | Count backwards from current day (0), -1 means yesterday\n",
    "| Days Employed | No. of Days | Count backwards from current day(0). If positive, it means the person is currently unemployed.\n",
    "| Payment Default | Whether a client has overdue credit card payments | Yes = 1, No = 0\n",
    "\n",
    "</br>\n",
    "\n",
    "- Import the credit_data.xlsx file from data folder into a pandas DataFrame named df.\n",
    "- What are the dimensions of the dataset?\n",
    "- How many unique rows of \"ID\" column are there?\n",
    "- Delete duplicate rows from df according to ID (keep the first occurance of each duplicate row).\n",
    "- How many rows are left in the dataframe? (answer in the Markdown box below in a full sentence)\n",
    "- Reset the index in `df` using an appropriate function from `pandas` so that the new index corresponds to the number of rows (make sure to delete the old index). Why do we need to do this?\n",
    "- How many positive values of Days Employed are there? (answer in Markdown)\n",
    "- Replace the positive values of Days Employed with 0 (zero) in df, and check that the operation was performed successfully.\n",
    "\n",
    "---\n",
    "---"
   ]
  },
  {
   "cell_type": "markdown",
   "metadata": {},
   "source": [
    "\n",
    "## Exercise 1 \n",
    "\n",
    "- Decide between the tree splits depicted below based on information gain computed using: 1) Classification Error, 2) Entropy, 3) Gini Impurity\n",
    "\n",
    "<img src=\"images/image6.jpg\" alt=\"Drawing\" style=\"width: 350px;\"/>\n",
    "\n",
    "<hr style=\"width:25%;margin-left:0;\"> \n"
   ]
  },
  {
   "cell_type": "markdown",
   "metadata": {},
   "source": [
    "\n",
    "### Solution \n",
    "\n",
    "- Deciding between two algernative tree splits based on information gain\n",
    "- For a more detailed solution see \"Decision Tree Question.pdf\" file in Week 4 zip folder\n",
    "\n",
    "Computing Information Gain  \n",
    "\n",
    "$IG(D_p, f)=I(D_p)-\\frac{N_\\text{left}}{N_\\text{p}}I(D_\\text{left}) - \\frac{N_\\text{right}}{N_\\text{p}}I(D_\\text{right})$\n",
    "\n",
    "- $I$ - Impurity measure\n",
    "- $f$ - feature to perform the split, e.g. age or education level\n",
    "- $D_p$ - dataset of the parent node\n",
    "- $N_p$ - number of training examples at the parent node\n",
    "- $D_j$ - dataset of the jth child node\n",
    "- $N_j$ - number of training examples in the jth child node\n",
    "\n",
    "\n",
    "\n",
    "where $p(i|t)$ be the proportion of the examples that belong to class $i$ for a node $t$\n",
    "\n",
    "\n",
    "Lets consider splitting a **parent node which has (40, 40)** examples, i.e 40 examples from class 0 and 40 examples from class 1, in two different ways\n",
    "\n",
    "\n",
    "<img src=\"images/image6.jpg\" alt=\"Drawing\" style=\"width: 350px;\"/>\n",
    "\n",
    "\n",
    "Parent Node:\n",
    "- $N_p = 80$\n",
    "- $P(i=1|D_P)=\\frac{40}{80}=0.5$\n",
    "- $P(i=2|D_P)=\\frac{40}{80}=0.5$\n",
    "\n",
    "\n",
    "A: \n",
    "- Left node: (30, 10) -> $N_L=40$, $p(i=1|D_L)=\\frac{30}{40}$, $p(i=2|D_L)=\\frac{10}{40}$\n",
    "- Right node: (10, 30) -> $N_R=40$, $p(i=1|D_R)=\\frac{10}{40}$, $p(i=2|D_L)=\\frac{30}{40}$\n",
    "    \n",
    "B: \n",
    "- Left node: (20, 40) -> $N_L=60$, $p(i=1|D_L)=\\frac{20}{60}$, $p(i=2|D_L)=\\frac{40}{60}$\n",
    "- Right node: (20, 0) -> $N_R=40$, $p(i=1|D_L)=\\frac{20}{20}$, $p(i=2|D_R)=\\frac{0}{20}$\n",
    "\n",
    "\n",
    "\n",
    "\n",
    "Now we compare the two splits A & B based on the three impurity measure\n",
    "    - Note that B split is purer\n",
    "\n",
    "**Classification Error** $I_E = 1- \\text{max}[p(i)]$\n",
    "\n",
    "<img src=\"images/image7.jpg\" alt=\"Drawing\" style=\"width: 350px;\"/>\n",
    "\n",
    "- IG = 0.25 under both scenarios\n",
    "- Make sure you can do these computations\n",
    "\n",
    "<!-- ![](images/image7.jpg) -->\n",
    "\n",
    "<!-- ![](images/image8.jpg) -->\n",
    "\n",
    "**Entropy** $I_H=-[p(i=1)\\text{log}_2p(i=1) + p(i=0)\\text{log}_2p(i=0)]$\n",
    "\n",
    "<img src=\"images/image9.jpg\" alt=\"Drawing\" style=\"width: 350px;\"/>\n",
    "\n",
    "- Entropy favours B split (IG = 0.31) over A split (IG = 0.19)\n",
    "\n",
    "\n",
    "<!-- ![](images/image9.jpg) -->\n",
    "\n",
    "\n",
    "**Gini Impurity** - $I_G=[p(i=1)(1-p(i=1) + p(i=0)(1-p(i=0)]$\n",
    "    \n",
    "<img src=\"images/image8.jpg\" alt=\"Drawing\" style=\"width: 350px;\"/>\n",
    "\n",
    "- Gini impurity favours B split (IG = 0.16) over A split (IG = 0.125)\n",
    "\n",
    "\n",
    "---\n",
    "---"
   ]
  },
  {
   "cell_type": "markdown",
   "metadata": {},
   "source": [
    "## Exercise 2\n",
    "\n"
   ]
  },
  {
   "cell_type": "markdown",
   "metadata": {},
   "source": [
    "---\n",
    "\n",
    "Import the credit_data.xlsx file from data folder into a pandas DataFrame named df.\n",
    "\n",
    "```\n",
    "import pandas as pd\n",
    "import numpy as np\n",
    "import matplotlib.pyplot as plt\n",
    "\n",
    "# ----------------------------------------------------\n",
    "\n",
    "df = pd.read_excel('data/credit_data.xlsx')\n",
    "\n",
    "```"
   ]
  },
  {
   "cell_type": "code",
   "execution_count": null,
   "metadata": {},
   "outputs": [],
   "source": []
  },
  {
   "cell_type": "markdown",
   "metadata": {},
   "source": [
    "---\n",
    "What are the dimensions of the dataset?  Provide code and an answer in Markdown\n",
    "\n",
    "```\n",
    "df.info()\n",
    "```"
   ]
  },
  {
   "cell_type": "code",
   "execution_count": null,
   "metadata": {},
   "outputs": [],
   "source": []
  },
  {
   "cell_type": "markdown",
   "metadata": {},
   "source": [
    "------- add your text answer here ----------"
   ]
  },
  {
   "cell_type": "markdown",
   "metadata": {},
   "source": [
    "---\n",
    "How many unique rows of \"ID\" column are there? Provide code and an answer in Markdown\n",
    "\n",
    "```\n",
    "df[\"ID\"].nunique()\n",
    "```"
   ]
  },
  {
   "cell_type": "code",
   "execution_count": null,
   "metadata": {},
   "outputs": [],
   "source": []
  },
  {
   "cell_type": "markdown",
   "metadata": {},
   "source": [
    "------- add your text answer here ----------"
   ]
  },
  {
   "cell_type": "markdown",
   "metadata": {},
   "source": [
    "---\n",
    "Delete duplicate rows from df according to ID (keep the first occurance of each duplicate row).\n",
    "\n",
    "```\n",
    "df.drop_duplicates(subset= ['ID'], inplace = True)\n",
    "```\n"
   ]
  },
  {
   "cell_type": "code",
   "execution_count": null,
   "metadata": {},
   "outputs": [],
   "source": []
  },
  {
   "cell_type": "markdown",
   "metadata": {},
   "source": [
    "---\n",
    "How many rows are left in the dataframe? Provide code and answer in Markdown\n",
    "\n",
    "```\n",
    "df.info()\n",
    "```"
   ]
  },
  {
   "cell_type": "code",
   "execution_count": null,
   "metadata": {},
   "outputs": [],
   "source": []
  },
  {
   "cell_type": "markdown",
   "metadata": {},
   "source": [
    "------- add your text answer here ----------"
   ]
  },
  {
   "cell_type": "markdown",
   "metadata": {},
   "source": [
    "---\n",
    "Reset the index in `df` using an appropriate function from `pandas` so that the new index corresponds to the number of rows (make sure to delete the old index). \n",
    "\n",
    "```\n",
    "df.tail(20)\n",
    "\n",
    "```\n",
    "\n",
    "```\n",
    "df.reset_index(drop=True, inplace = True)\n",
    "```\n",
    "\n",
    "```\n",
    "df.tail(20)\n",
    "\n",
    "```"
   ]
  },
  {
   "cell_type": "code",
   "execution_count": null,
   "metadata": {},
   "outputs": [],
   "source": []
  },
  {
   "cell_type": "code",
   "execution_count": null,
   "metadata": {},
   "outputs": [],
   "source": []
  },
  {
   "cell_type": "code",
   "execution_count": null,
   "metadata": {},
   "outputs": [],
   "source": []
  },
  {
   "cell_type": "markdown",
   "metadata": {},
   "source": [
    "---\n",
    "How many positive values of Days Employed are there? (answer in Markdown)\n",
    "\n",
    "```\n",
    "print(df.loc[df['Days Employed'] > 0].info()) \n",
    "```"
   ]
  },
  {
   "cell_type": "code",
   "execution_count": null,
   "metadata": {},
   "outputs": [],
   "source": []
  },
  {
   "cell_type": "markdown",
   "metadata": {},
   "source": [
    "------- add your text answer here ----------"
   ]
  },
  {
   "cell_type": "markdown",
   "metadata": {},
   "source": [
    "---\n",
    "\n",
    "Replace the positive values of Days Employed with 0 (zero) in df, and check that the operation was performed successfully.\n",
    "\n",
    "```\n",
    "df.loc[df['Days Employed'] > 0, 'Days Employed'] = 0\n",
    "print(df.loc[df['Days Employed'] > 0].info())\n",
    "\n",
    "```\n"
   ]
  },
  {
   "cell_type": "code",
   "execution_count": null,
   "metadata": {},
   "outputs": [],
   "source": []
  },
  {
   "cell_type": "code",
   "execution_count": null,
   "metadata": {},
   "outputs": [],
   "source": []
  }
 ],
 "metadata": {
  "kernelspec": {
   "display_name": "Python 3 (ipykernel)",
   "language": "python",
   "name": "python3"
  },
  "language_info": {
   "codemirror_mode": {
    "name": "ipython",
    "version": 3
   },
   "file_extension": ".py",
   "mimetype": "text/x-python",
   "name": "python",
   "nbconvert_exporter": "python",
   "pygments_lexer": "ipython3",
   "version": "3.9.18"
  }
 },
 "nbformat": 4,
 "nbformat_minor": 4
}
